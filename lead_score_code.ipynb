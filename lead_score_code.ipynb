{
 "cells": [
  {
   "cell_type": "markdown",
   "metadata": {},
   "source": [
    "# Problem Statement"
   ]
  },
  {
   "cell_type": "markdown",
   "metadata": {},
   "source": [
    "X Education sells online courses to industry professionals.\n",
    "The company markets its courses on several websites & search engines like Google, Olark chat. People\n",
    "may browse the courses or fill up a form for the course or watch some videos on their website.\n",
    "When these people fill up a form providing their email address or phone number, they are classified as a\n",
    "lead. Moreover, the company also gets leads through past referrals.\n",
    "Once these leads are acquired, employees from the sales team start making calls, writing emails, etc.\n",
    "Through this process, some of the leads get converted while most do not.\n",
    "X education wishes to identify the most potential leads (‘Hot Leads’)\n",
    "To focus more on communicating with the potential\n",
    "leads."
   ]
  },
  {
   "cell_type": "markdown",
   "metadata": {},
   "source": [
    "# Business Goal"
   ]
  },
  {
   "cell_type": "markdown",
   "metadata": {},
   "source": [
    "Build a logistic regression model to assign a lead score between 0- 100 to each of the leads which can\n",
    "be used by the company to target potential leads.\n",
    "Higher lead score is most likely to convert whereas a lower score would mean that the lead is cold & will\n",
    "mostly not get converted.\n",
    "\n",
    "The CEO, in particular, has given a ballpark of the target lead conversion rate to be around 80%."
   ]
  },
  {
   "cell_type": "markdown",
   "metadata": {
    "id": "IX2qxbEEAmVA"
   },
   "source": [
    "# Step 1: Reading data"
   ]
  },
  {
   "cell_type": "code",
   "execution_count": 1,
   "metadata": {
    "colab": {
     "base_uri": "https://localhost:8080/",
     "height": 107
    },
    "id": "uVr_kH4kAmVB",
    "outputId": "5f65a8dd-d9dc-44a8-8ff9-c5d38ea6efba"
   },
   "outputs": [
    {
     "name": "stderr",
     "output_type": "stream",
     "text": [
      "/home/l0k3ndr/.local/lib/python3.6/site-packages/ipykernel_launcher.py:5: FutureWarning: Passing a negative integer is deprecated in version 1.0 and will not be supported in future version. Instead, use None to not limit the column width.\n",
      "  \"\"\"\n",
      "/home/l0k3ndr/.local/lib/python3.6/site-packages/ipykernel_launcher.py:11: FutureWarning: Passing a negative integer is deprecated in version 1.0 and will not be supported in future version. Instead, use None to not limit the column width.\n",
      "  # This is added back by InteractiveShellApp.init_path()\n"
     ]
    }
   ],
   "source": [
    "# Importing required libraries\n",
    "import pandas as pd, numpy as np, matplotlib.pyplot as plt, seaborn as sns\n",
    "pd.set_option('display.max_columns', None)  \n",
    "pd.set_option('display.expand_frame_repr', False)\n",
    "pd.set_option('max_colwidth', -1)\n",
    "\n",
    "# import all libraries and dependencies for data visualization\n",
    "pd.options.display.float_format='{:.4f}'.format\n",
    "plt.rcParams['figure.figsize'] = [20,10]\n",
    "pd.set_option('display.max_columns', 500)\n",
    "pd.set_option('display.max_colwidth', -1) \n",
    "sns.set(style='darkgrid')\n",
    "import matplotlib.ticker as plticker\n",
    "%matplotlib inline\n",
    "\n",
    "# import all libraries and dependencies for model building\n",
    "from sklearn.model_selection import train_test_split\n",
    "from sklearn.preprocessing import StandardScaler\n",
    "import statsmodels.api as sm\n",
    "from sklearn.feature_selection import RFE\n",
    "from sklearn.linear_model import LogisticRegression\n",
    "from statsmodels.stats.outliers_influence import variance_inflation_factor\n",
    "from sklearn.metrics import confusion_matrix\n",
    "from sklearn import metrics\n",
    "from sklearn.metrics import precision_recall_curve\n",
    "from sklearn.metrics import precision_score, recall_score\n",
    "from sklearn.metrics import f1_score\n"
   ]
  },
  {
   "cell_type": "code",
   "execution_count": 2,
   "metadata": {
    "colab": {
     "base_uri": "https://localhost:8080/",
     "height": 534
    },
    "id": "-J2E5r0fAmVJ",
    "outputId": "48a19c63-97e9-4f3f-80c4-b3723971d8f3",
    "scrolled": true
   },
   "outputs": [
    {
     "data": {
      "text/html": [
       "<div>\n",
       "<style scoped>\n",
       "    .dataframe tbody tr th:only-of-type {\n",
       "        vertical-align: middle;\n",
       "    }\n",
       "\n",
       "    .dataframe tbody tr th {\n",
       "        vertical-align: top;\n",
       "    }\n",
       "\n",
       "    .dataframe thead th {\n",
       "        text-align: right;\n",
       "    }\n",
       "</style>\n",
       "<table border=\"1\" class=\"dataframe\">\n",
       "  <thead>\n",
       "    <tr style=\"text-align: right;\">\n",
       "      <th></th>\n",
       "      <th>Prospect ID</th>\n",
       "      <th>Lead Number</th>\n",
       "      <th>Lead Origin</th>\n",
       "      <th>Lead Source</th>\n",
       "      <th>Do Not Email</th>\n",
       "      <th>Do Not Call</th>\n",
       "      <th>Converted</th>\n",
       "      <th>TotalVisits</th>\n",
       "      <th>Total Time Spent on Website</th>\n",
       "      <th>Page Views Per Visit</th>\n",
       "      <th>Last Activity</th>\n",
       "      <th>Country</th>\n",
       "      <th>Specialization</th>\n",
       "      <th>How did you hear about X Education</th>\n",
       "      <th>What is your current occupation</th>\n",
       "      <th>What matters most to you in choosing a course</th>\n",
       "      <th>Search</th>\n",
       "      <th>Magazine</th>\n",
       "      <th>Newspaper Article</th>\n",
       "      <th>X Education Forums</th>\n",
       "      <th>Newspaper</th>\n",
       "      <th>Digital Advertisement</th>\n",
       "      <th>Through Recommendations</th>\n",
       "      <th>Receive More Updates About Our Courses</th>\n",
       "      <th>Tags</th>\n",
       "      <th>Lead Quality</th>\n",
       "      <th>Update me on Supply Chain Content</th>\n",
       "      <th>Get updates on DM Content</th>\n",
       "      <th>Lead Profile</th>\n",
       "      <th>City</th>\n",
       "      <th>Asymmetrique Activity Index</th>\n",
       "      <th>Asymmetrique Profile Index</th>\n",
       "      <th>Asymmetrique Activity Score</th>\n",
       "      <th>Asymmetrique Profile Score</th>\n",
       "      <th>I agree to pay the amount through cheque</th>\n",
       "      <th>A free copy of Mastering The Interview</th>\n",
       "      <th>Last Notable Activity</th>\n",
       "    </tr>\n",
       "  </thead>\n",
       "  <tbody>\n",
       "    <tr>\n",
       "      <th>0</th>\n",
       "      <td>7927b2df-8bba-4d29-b9a2-b6e0beafe620</td>\n",
       "      <td>660737</td>\n",
       "      <td>API</td>\n",
       "      <td>Olark Chat</td>\n",
       "      <td>No</td>\n",
       "      <td>No</td>\n",
       "      <td>0</td>\n",
       "      <td>0.0000</td>\n",
       "      <td>0</td>\n",
       "      <td>0.0000</td>\n",
       "      <td>Page Visited on Website</td>\n",
       "      <td>NaN</td>\n",
       "      <td>Select</td>\n",
       "      <td>Select</td>\n",
       "      <td>Unemployed</td>\n",
       "      <td>Better Career Prospects</td>\n",
       "      <td>No</td>\n",
       "      <td>No</td>\n",
       "      <td>No</td>\n",
       "      <td>No</td>\n",
       "      <td>No</td>\n",
       "      <td>No</td>\n",
       "      <td>No</td>\n",
       "      <td>No</td>\n",
       "      <td>Interested in other courses</td>\n",
       "      <td>Low in Relevance</td>\n",
       "      <td>No</td>\n",
       "      <td>No</td>\n",
       "      <td>Select</td>\n",
       "      <td>Select</td>\n",
       "      <td>02.Medium</td>\n",
       "      <td>02.Medium</td>\n",
       "      <td>15.0000</td>\n",
       "      <td>15.0000</td>\n",
       "      <td>No</td>\n",
       "      <td>No</td>\n",
       "      <td>Modified</td>\n",
       "    </tr>\n",
       "    <tr>\n",
       "      <th>1</th>\n",
       "      <td>2a272436-5132-4136-86fa-dcc88c88f482</td>\n",
       "      <td>660728</td>\n",
       "      <td>API</td>\n",
       "      <td>Organic Search</td>\n",
       "      <td>No</td>\n",
       "      <td>No</td>\n",
       "      <td>0</td>\n",
       "      <td>5.0000</td>\n",
       "      <td>674</td>\n",
       "      <td>2.5000</td>\n",
       "      <td>Email Opened</td>\n",
       "      <td>India</td>\n",
       "      <td>Select</td>\n",
       "      <td>Select</td>\n",
       "      <td>Unemployed</td>\n",
       "      <td>Better Career Prospects</td>\n",
       "      <td>No</td>\n",
       "      <td>No</td>\n",
       "      <td>No</td>\n",
       "      <td>No</td>\n",
       "      <td>No</td>\n",
       "      <td>No</td>\n",
       "      <td>No</td>\n",
       "      <td>No</td>\n",
       "      <td>Ringing</td>\n",
       "      <td>NaN</td>\n",
       "      <td>No</td>\n",
       "      <td>No</td>\n",
       "      <td>Select</td>\n",
       "      <td>Select</td>\n",
       "      <td>02.Medium</td>\n",
       "      <td>02.Medium</td>\n",
       "      <td>15.0000</td>\n",
       "      <td>15.0000</td>\n",
       "      <td>No</td>\n",
       "      <td>No</td>\n",
       "      <td>Email Opened</td>\n",
       "    </tr>\n",
       "    <tr>\n",
       "      <th>2</th>\n",
       "      <td>8cc8c611-a219-4f35-ad23-fdfd2656bd8a</td>\n",
       "      <td>660727</td>\n",
       "      <td>Landing Page Submission</td>\n",
       "      <td>Direct Traffic</td>\n",
       "      <td>No</td>\n",
       "      <td>No</td>\n",
       "      <td>1</td>\n",
       "      <td>2.0000</td>\n",
       "      <td>1532</td>\n",
       "      <td>2.0000</td>\n",
       "      <td>Email Opened</td>\n",
       "      <td>India</td>\n",
       "      <td>Business Administration</td>\n",
       "      <td>Select</td>\n",
       "      <td>Student</td>\n",
       "      <td>Better Career Prospects</td>\n",
       "      <td>No</td>\n",
       "      <td>No</td>\n",
       "      <td>No</td>\n",
       "      <td>No</td>\n",
       "      <td>No</td>\n",
       "      <td>No</td>\n",
       "      <td>No</td>\n",
       "      <td>No</td>\n",
       "      <td>Will revert after reading the email</td>\n",
       "      <td>Might be</td>\n",
       "      <td>No</td>\n",
       "      <td>No</td>\n",
       "      <td>Potential Lead</td>\n",
       "      <td>Mumbai</td>\n",
       "      <td>02.Medium</td>\n",
       "      <td>01.High</td>\n",
       "      <td>14.0000</td>\n",
       "      <td>20.0000</td>\n",
       "      <td>No</td>\n",
       "      <td>Yes</td>\n",
       "      <td>Email Opened</td>\n",
       "    </tr>\n",
       "    <tr>\n",
       "      <th>3</th>\n",
       "      <td>0cc2df48-7cf4-4e39-9de9-19797f9b38cc</td>\n",
       "      <td>660719</td>\n",
       "      <td>Landing Page Submission</td>\n",
       "      <td>Direct Traffic</td>\n",
       "      <td>No</td>\n",
       "      <td>No</td>\n",
       "      <td>0</td>\n",
       "      <td>1.0000</td>\n",
       "      <td>305</td>\n",
       "      <td>1.0000</td>\n",
       "      <td>Unreachable</td>\n",
       "      <td>India</td>\n",
       "      <td>Media and Advertising</td>\n",
       "      <td>Word Of Mouth</td>\n",
       "      <td>Unemployed</td>\n",
       "      <td>Better Career Prospects</td>\n",
       "      <td>No</td>\n",
       "      <td>No</td>\n",
       "      <td>No</td>\n",
       "      <td>No</td>\n",
       "      <td>No</td>\n",
       "      <td>No</td>\n",
       "      <td>No</td>\n",
       "      <td>No</td>\n",
       "      <td>Ringing</td>\n",
       "      <td>Not Sure</td>\n",
       "      <td>No</td>\n",
       "      <td>No</td>\n",
       "      <td>Select</td>\n",
       "      <td>Mumbai</td>\n",
       "      <td>02.Medium</td>\n",
       "      <td>01.High</td>\n",
       "      <td>13.0000</td>\n",
       "      <td>17.0000</td>\n",
       "      <td>No</td>\n",
       "      <td>No</td>\n",
       "      <td>Modified</td>\n",
       "    </tr>\n",
       "    <tr>\n",
       "      <th>4</th>\n",
       "      <td>3256f628-e534-4826-9d63-4a8b88782852</td>\n",
       "      <td>660681</td>\n",
       "      <td>Landing Page Submission</td>\n",
       "      <td>Google</td>\n",
       "      <td>No</td>\n",
       "      <td>No</td>\n",
       "      <td>1</td>\n",
       "      <td>2.0000</td>\n",
       "      <td>1428</td>\n",
       "      <td>1.0000</td>\n",
       "      <td>Converted to Lead</td>\n",
       "      <td>India</td>\n",
       "      <td>Select</td>\n",
       "      <td>Other</td>\n",
       "      <td>Unemployed</td>\n",
       "      <td>Better Career Prospects</td>\n",
       "      <td>No</td>\n",
       "      <td>No</td>\n",
       "      <td>No</td>\n",
       "      <td>No</td>\n",
       "      <td>No</td>\n",
       "      <td>No</td>\n",
       "      <td>No</td>\n",
       "      <td>No</td>\n",
       "      <td>Will revert after reading the email</td>\n",
       "      <td>Might be</td>\n",
       "      <td>No</td>\n",
       "      <td>No</td>\n",
       "      <td>Select</td>\n",
       "      <td>Mumbai</td>\n",
       "      <td>02.Medium</td>\n",
       "      <td>01.High</td>\n",
       "      <td>15.0000</td>\n",
       "      <td>18.0000</td>\n",
       "      <td>No</td>\n",
       "      <td>No</td>\n",
       "      <td>Modified</td>\n",
       "    </tr>\n",
       "  </tbody>\n",
       "</table>\n",
       "</div>"
      ],
      "text/plain": [
       "                            Prospect ID  Lead Number              Lead Origin     Lead Source Do Not Email Do Not Call  Converted  TotalVisits  Total Time Spent on Website  Page Views Per Visit            Last Activity Country           Specialization How did you hear about X Education What is your current occupation What matters most to you in choosing a course Search Magazine Newspaper Article X Education Forums Newspaper Digital Advertisement Through Recommendations Receive More Updates About Our Courses                                 Tags      Lead Quality Update me on Supply Chain Content Get updates on DM Content    Lead Profile    City Asymmetrique Activity Index Asymmetrique Profile Index  Asymmetrique Activity Score  Asymmetrique Profile Score I agree to pay the amount through cheque A free copy of Mastering The Interview Last Notable Activity\n",
       "0  7927b2df-8bba-4d29-b9a2-b6e0beafe620  660737       API                      Olark Chat      No           No          0         0.0000        0                           0.0000                 Page Visited on Website  NaN     Select                   Select                             Unemployed                      Better Career Prospects                       No     No       No                No                 No        No                    No                      No                                     Interested in other courses          Low in Relevance  No                                No                        Select          Select  02.Medium                   02.Medium                 15.0000                      15.0000                      No                                       No                                     Modified            \n",
       "1  2a272436-5132-4136-86fa-dcc88c88f482  660728       API                      Organic Search  No           No          0         5.0000        674                         2.5000                 Email Opened             India   Select                   Select                             Unemployed                      Better Career Prospects                       No     No       No                No                 No        No                    No                      No                                     Ringing                              NaN               No                                No                        Select          Select  02.Medium                   02.Medium                 15.0000                      15.0000                      No                                       No                                     Email Opened        \n",
       "2  8cc8c611-a219-4f35-ad23-fdfd2656bd8a  660727       Landing Page Submission  Direct Traffic  No           No          1         2.0000        1532                        2.0000                 Email Opened             India   Business Administration  Select                             Student                         Better Career Prospects                       No     No       No                No                 No        No                    No                      No                                     Will revert after reading the email  Might be          No                                No                        Potential Lead  Mumbai  02.Medium                   01.High                   14.0000                      20.0000                      No                                       Yes                                    Email Opened        \n",
       "3  0cc2df48-7cf4-4e39-9de9-19797f9b38cc  660719       Landing Page Submission  Direct Traffic  No           No          0         1.0000        305                         1.0000                 Unreachable              India   Media and Advertising    Word Of Mouth                      Unemployed                      Better Career Prospects                       No     No       No                No                 No        No                    No                      No                                     Ringing                              Not Sure          No                                No                        Select          Mumbai  02.Medium                   01.High                   13.0000                      17.0000                      No                                       No                                     Modified            \n",
       "4  3256f628-e534-4826-9d63-4a8b88782852  660681       Landing Page Submission  Google          No           No          1         2.0000        1428                        1.0000                 Converted to Lead        India   Select                   Other                              Unemployed                      Better Career Prospects                       No     No       No                No                 No        No                    No                      No                                     Will revert after reading the email  Might be          No                                No                        Select          Mumbai  02.Medium                   01.High                   15.0000                      18.0000                      No                                       No                                     Modified            "
      ]
     },
     "execution_count": 2,
     "metadata": {},
     "output_type": "execute_result"
    }
   ],
   "source": [
    "# Read data\n",
    "url = "https://raw.githubusercontent.com/bhawanasharmaone/Lead-score-case-study/main/Leads.csv"\n",
    "lead = pd.read_csv(url)\n",
    "lead.head()\n"
   ]
  },
  {
   "cell_type": "code",
   "execution_count": 3,
   "metadata": {
    "colab": {
     "base_uri": "https://localhost:8080/",
     "height": 34
    },
    "id": "JeZRqYcHAmVQ",
    "outputId": "a5712f1d-815a-4b50-ed38-7771ec06b6b9"
   },
   "outputs": [
    {
     "data": {
      "text/plain": [
       "(9240, 37)"
      ]
     },
     "execution_count": 3,
     "metadata": {},
     "output_type": "execute_result"
    }
   ],
   "source": [
    "# Number of rows and column in data\n",
    "lead.shape"
   ]
  },
  {
   "cell_type": "code",
   "execution_count": 4,
   "metadata": {
    "colab": {
     "base_uri": "https://localhost:8080/",
     "height": 798
    },
    "id": "zSJwq4UyAmVV",
    "outputId": "29d483dd-4e0a-4ccf-88ee-422e43730b0a"
   },
   "outputs": [
    {
     "name": "stdout",
     "output_type": "stream",
     "text": [
      "<class 'pandas.core.frame.DataFrame'>\n",
      "RangeIndex: 9240 entries, 0 to 9239\n",
      "Data columns (total 37 columns):\n",
      " #   Column                                         Non-Null Count  Dtype  \n",
      "---  ------                                         --------------  -----  \n",
      " 0   Prospect ID                                    9240 non-null   object \n",
      " 1   Lead Number                                    9240 non-null   int64  \n",
      " 2   Lead Origin                                    9240 non-null   object \n",
      " 3   Lead Source                                    9204 non-null   object \n",
      " 4   Do Not Email                                   9240 non-null   object \n",
      " 5   Do Not Call                                    9240 non-null   object \n",
      " 6   Converted                                      9240 non-null   int64  \n",
      " 7   TotalVisits                                    9103 non-null   float64\n",
      " 8   Total Time Spent on Website                    9240 non-null   int64  \n",
      " 9   Page Views Per Visit                           9103 non-null   float64\n",
      " 10  Last Activity                                  9137 non-null   object \n",
      " 11  Country                                        6779 non-null   object \n",
      " 12  Specialization                                 7802 non-null   object \n",
      " 13  How did you hear about X Education             7033 non-null   object \n",
      " 14  What is your current occupation                6550 non-null   object \n",
      " 15  What matters most to you in choosing a course  6531 non-null   object \n",
      " 16  Search                                         9240 non-null   object \n",
      " 17  Magazine                                       9240 non-null   object \n",
      " 18  Newspaper Article                              9240 non-null   object \n",
      " 19  X Education Forums                             9240 non-null   object \n",
      " 20  Newspaper                                      9240 non-null   object \n",
      " 21  Digital Advertisement                          9240 non-null   object \n",
      " 22  Through Recommendations                        9240 non-null   object \n",
      " 23  Receive More Updates About Our Courses         9240 non-null   object \n",
      " 24  Tags                                           5887 non-null   object \n",
      " 25  Lead Quality                                   4473 non-null   object \n",
      " 26  Update me on Supply Chain Content              9240 non-null   object \n",
      " 27  Get updates on DM Content                      9240 non-null   object \n",
      " 28  Lead Profile                                   6531 non-null   object \n",
      " 29  City                                           7820 non-null   object \n",
      " 30  Asymmetrique Activity Index                    5022 non-null   object \n",
      " 31  Asymmetrique Profile Index                     5022 non-null   object \n",
      " 32  Asymmetrique Activity Score                    5022 non-null   float64\n",
      " 33  Asymmetrique Profile Score                     5022 non-null   float64\n",
      " 34  I agree to pay the amount through cheque       9240 non-null   object \n",
      " 35  A free copy of Mastering The Interview         9240 non-null   object \n",
      " 36  Last Notable Activity                          9240 non-null   object \n",
      "dtypes: float64(4), int64(3), object(30)\n",
      "memory usage: 2.6+ MB\n"
     ]
    }
   ],
   "source": [
    "# Checking datatype and non-null values in data\n",
    "lead.info()"
   ]
  },
  {
   "cell_type": "code",
   "execution_count": 5,
   "metadata": {
    "colab": {
     "base_uri": "https://localhost:8080/",
     "height": 692
    },
    "id": "TgL8iCBQAmVa",
    "outputId": "576b03ea-f1e7-4dde-a29c-fb6523c3d651",
    "scrolled": false
   },
   "outputs": [
    {
     "data": {
      "text/plain": [
       "Prospect ID                                     0.0000 \n",
       "Lead Number                                     0.0000 \n",
       "Lead Origin                                     0.0000 \n",
       "Lead Source                                     0.3896 \n",
       "Do Not Email                                    0.0000 \n",
       "Do Not Call                                     0.0000 \n",
       "Converted                                       0.0000 \n",
       "TotalVisits                                     1.4827 \n",
       "Total Time Spent on Website                     0.0000 \n",
       "Page Views Per Visit                            1.4827 \n",
       "Last Activity                                   1.1147 \n",
       "Country                                         26.6342\n",
       "Specialization                                  15.5628\n",
       "How did you hear about X Education              23.8853\n",
       "What is your current occupation                 29.1126\n",
       "What matters most to you in choosing a course   29.3182\n",
       "Search                                          0.0000 \n",
       "Magazine                                        0.0000 \n",
       "Newspaper Article                               0.0000 \n",
       "X Education Forums                              0.0000 \n",
       "Newspaper                                       0.0000 \n",
       "Digital Advertisement                           0.0000 \n",
       "Through Recommendations                         0.0000 \n",
       "Receive More Updates About Our Courses          0.0000 \n",
       "Tags                                            36.2879\n",
       "Lead Quality                                    51.5909\n",
       "Update me on Supply Chain Content               0.0000 \n",
       "Get updates on DM Content                       0.0000 \n",
       "Lead Profile                                    29.3182\n",
       "City                                            15.3680\n",
       "Asymmetrique Activity Index                     45.6494\n",
       "Asymmetrique Profile Index                      45.6494\n",
       "Asymmetrique Activity Score                     45.6494\n",
       "Asymmetrique Profile Score                      45.6494\n",
       "I agree to pay the amount through cheque        0.0000 \n",
       "A free copy of Mastering The Interview          0.0000 \n",
       "Last Notable Activity                           0.0000 \n",
       "dtype: float64"
      ]
     },
     "execution_count": 5,
     "metadata": {},
     "output_type": "execute_result"
    }
   ],
   "source": [
    "# Checking percentage of null values in every column\n",
    "(lead.isnull().sum()/ len(lead)) * 100"
   ]
  },
  {
   "cell_type": "code",
   "execution_count": 6,
   "metadata": {
    "colab": {
     "base_uri": "https://localhost:8080/",
     "height": 34
    },
    "id": "tnZ6PaJVAmVf",
    "outputId": "a057aba2-b08b-4a9b-d3c9-dbc9074fff4d"
   },
   "outputs": [
    {
     "data": {
      "text/plain": [
       "0"
      ]
     },
     "execution_count": 6,
     "metadata": {},
     "output_type": "execute_result"
    }
   ],
   "source": [
    "#check for duplicates in Prospect ID\n",
    "sum(lead.duplicated(subset = 'Prospect ID'))"
   ]
  },
  {
   "cell_type": "code",
   "execution_count": 7,
   "metadata": {
    "colab": {
     "base_uri": "https://localhost:8080/",
     "height": 34
    },
    "id": "wcW4X44GAmVj",
    "outputId": "060b41a7-d092-4ca8-a4af-433a588ff0af"
   },
   "outputs": [
    {
     "data": {
      "text/plain": [
       "0"
      ]
     },
     "execution_count": 7,
     "metadata": {},
     "output_type": "execute_result"
    }
   ],
   "source": [
    "# Check for duplicates in Lead Number\n",
    "sum(lead.duplicated(subset = 'Lead Number'))"
   ]
  },
  {
   "cell_type": "markdown",
   "metadata": {
    "id": "DfNNVlrnAmVq"
   },
   "source": [
    "There are no duplicate ids"
   ]
  },
  {
   "cell_type": "code",
   "execution_count": 8,
   "metadata": {
    "id": "mPW1jswCAmVs"
   },
   "outputs": [],
   "source": [
    "#dropping Lead Number and Prospect ID since they have all unique values\n",
    "lead.drop(['Prospect ID', 'Lead Number'], axis  = 1, inplace = True)"
   ]
  },
  {
   "cell_type": "code",
   "execution_count": 9,
   "metadata": {
    "id": "fzzOYkK1AmVw"
   },
   "outputs": [],
   "source": [
    "#Converting 'Select' values to NaN.\n",
    "\n",
    "lead = lead.replace('Select', np.nan)"
   ]
  },
  {
   "cell_type": "code",
   "execution_count": 10,
   "metadata": {
    "colab": {
     "base_uri": "https://localhost:8080/",
     "height": 34
    },
    "id": "WYWPJ1CXAmV0",
    "outputId": "662101c0-d94b-4bde-e732-b4cd71ffacd5"
   },
   "outputs": [
    {
     "data": {
      "text/plain": [
       "(9240, 28)"
      ]
     },
     "execution_count": 10,
     "metadata": {},
     "output_type": "execute_result"
    }
   ],
   "source": [
    "# Dropping columns having more than 45% null values\n",
    "null_val = lead.isnull().sum()/len(lead)\n",
    "null_val = null_val[null_val > 0.45].index\n",
    "lead.drop( null_val, axis = 1, inplace = True)\n",
    "lead.shape"
   ]
  },
  {
   "cell_type": "code",
   "execution_count": 11,
   "metadata": {
    "colab": {
     "base_uri": "https://localhost:8080/",
     "height": 34
    },
    "id": "Us17bmPNAmV5",
    "outputId": "85dc49f5-566b-4ea7-b9bf-1c7e29c9b5f6"
   },
   "outputs": [
    {
     "data": {
      "text/plain": [
       "Int64Index([], dtype='int64')"
      ]
     },
     "execution_count": 11,
     "metadata": {},
     "output_type": "execute_result"
    }
   ],
   "source": [
    "# Rows having more than 50% of null values \n",
    "null_rows = lead.isnull().sum(axis=1)/lead.shape[1] > 0.5\n",
    "lead[null_rows].index"
   ]
  },
  {
   "cell_type": "markdown",
   "metadata": {
    "id": "11JAsr9LAmV9"
   },
   "source": [
    "No row having more than 50% null values"
   ]
  },
  {
   "cell_type": "code",
   "execution_count": 12,
   "metadata": {
    "colab": {
     "base_uri": "https://localhost:8080/",
     "height": 532
    },
    "id": "7-09eYsqAmV-",
    "outputId": "996fe9fa-7169-4de4-bddd-7a5e2a3cb062"
   },
   "outputs": [
    {
     "data": {
      "text/plain": [
       "Lead Origin                                     0.0000 \n",
       "Lead Source                                     0.3896 \n",
       "Do Not Email                                    0.0000 \n",
       "Do Not Call                                     0.0000 \n",
       "Converted                                       0.0000 \n",
       "TotalVisits                                     1.4827 \n",
       "Total Time Spent on Website                     0.0000 \n",
       "Page Views Per Visit                            1.4827 \n",
       "Last Activity                                   1.1147 \n",
       "Country                                         26.6342\n",
       "Specialization                                  36.5801\n",
       "What is your current occupation                 29.1126\n",
       "What matters most to you in choosing a course   29.3182\n",
       "Search                                          0.0000 \n",
       "Magazine                                        0.0000 \n",
       "Newspaper Article                               0.0000 \n",
       "X Education Forums                              0.0000 \n",
       "Newspaper                                       0.0000 \n",
       "Digital Advertisement                           0.0000 \n",
       "Through Recommendations                         0.0000 \n",
       "Receive More Updates About Our Courses          0.0000 \n",
       "Tags                                            36.2879\n",
       "Update me on Supply Chain Content               0.0000 \n",
       "Get updates on DM Content                       0.0000 \n",
       "City                                            39.7078\n",
       "I agree to pay the amount through cheque        0.0000 \n",
       "A free copy of Mastering The Interview          0.0000 \n",
       "Last Notable Activity                           0.0000 \n",
       "dtype: float64"
      ]
     },
     "execution_count": 12,
     "metadata": {},
     "output_type": "execute_result"
    }
   ],
   "source": [
    "# Rechecking percentage of null values in every column\n",
    "(lead.isnull().sum()/ len(lead)) * 100"
   ]
  },
  {
   "cell_type": "markdown",
   "metadata": {
    "id": "PJOI7WkyAmWE"
   },
   "source": [
    "# Step 2: Data Cleaning, Data Preparation and EDA"
   ]
  },
  {
   "cell_type": "code",
   "execution_count": 13,
   "metadata": {
    "colab": {
     "base_uri": "https://localhost:8080/",
     "height": 105
    },
    "id": "FYcgz3V_AmWE",
    "outputId": "af344d22-fc81-45cf-e303-2b4ad07331ff"
   },
   "outputs": [
    {
     "data": {
      "text/plain": [
       "Converted                     0.4711 \n",
       "TotalVisits                   19.9117\n",
       "Total Time Spent on Website   0.9565 \n",
       "Page Views Per Visit          2.8718 \n",
       "dtype: float64"
      ]
     },
     "execution_count": 13,
     "metadata": {},
     "output_type": "execute_result"
    }
   ],
   "source": [
    "# Checking skew of numerical columns\n",
    "lead.skew()"
   ]
  },
  {
   "cell_type": "code",
   "execution_count": 14,
   "metadata": {
    "colab": {
     "base_uri": "https://localhost:8080/",
     "height": 70
    },
    "id": "yQ_QmnGsAmWJ",
    "outputId": "dace8e6a-154d-4293-c941-69dc7561782c"
   },
   "outputs": [
    {
     "data": {
      "text/plain": [
       "0   61.4610\n",
       "1   38.5390\n",
       "Name: Converted, dtype: float64"
      ]
     },
     "execution_count": 14,
     "metadata": {},
     "output_type": "execute_result"
    }
   ],
   "source": [
    "# Conversion percentage\n",
    "100 * (lead[\"Converted\"].value_counts( normalize = True, dropna=False))"
   ]
  },
  {
   "cell_type": "code",
   "execution_count": 15,
   "metadata": {
    "colab": {
     "base_uri": "https://localhost:8080/",
     "height": 340
    },
    "id": "_-0BgIDLAmWO",
    "outputId": "88f4ca70-48e5-4015-876c-514dda4f8ff6"
   },
   "outputs": [
    {
     "data": {
      "image/png": "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\n",
      "text/plain": [
       "<Figure size 432x288 with 1 Axes>"
      ]
     },
     "metadata": {
      "needs_background": "light"
     },
     "output_type": "display_data"
    }
   ],
   "source": [
    "# Visualising Converted column\n",
    "sns.countplot( lead.Converted,palette=\"Paired\" )\n",
    "plt.show()"
   ]
  },
  {
   "cell_type": "markdown",
   "metadata": {
    "id": "t5PrJGjAAmWR"
   },
   "source": [
    "Present conversion rate : 38.53%"
   ]
  },
  {
   "cell_type": "code",
   "execution_count": 16,
   "metadata": {
    "colab": {
     "base_uri": "https://localhost:8080/",
     "height": 123
    },
    "id": "vsPGs4yqAmWS",
    "outputId": "c779a80c-23e5-496c-c9b5-5856eb5092fa",
    "scrolled": true
   },
   "outputs": [
    {
     "data": {
      "text/plain": [
       "Landing Page Submission    4886\n",
       "API                        3580\n",
       "Lead Add Form              718 \n",
       "Lead Import                55  \n",
       "Quick Add Form             1   \n",
       "Name: Lead Origin, dtype: int64"
      ]
     },
     "execution_count": 16,
     "metadata": {},
     "output_type": "execute_result"
    }
   ],
   "source": [
    "# Checking lead origin distribution\n",
    "lead[\"Lead Origin\"].value_counts( dropna=False )"
   ]
  },
  {
   "cell_type": "code",
   "execution_count": 17,
   "metadata": {
    "id": "WTJ_U22rAmWW"
   },
   "outputs": [],
   "source": [
    "# Combining low occuring values to one category\n",
    "lead['Lead Origin'] = lead['Lead Origin'].replace( ['Lead Add Form', 'Lead Import', 'Quick Add Form'], 'Import and Form')"
   ]
  },
  {
   "cell_type": "code",
   "execution_count": 18,
   "metadata": {
    "colab": {
     "base_uri": "https://localhost:8080/",
     "height": 87
    },
    "id": "ruGPKzRFAmWZ",
    "outputId": "0460aa20-9787-4bf4-afc9-c806fb399a79"
   },
   "outputs": [
    {
     "data": {
      "text/plain": [
       "Landing Page Submission   0.5288\n",
       "API                       0.3874\n",
       "Import and Form           0.0838\n",
       "Name: Lead Origin, dtype: float64"
      ]
     },
     "execution_count": 18,
     "metadata": {},
     "output_type": "execute_result"
    }
   ],
   "source": [
    "# Rechecking distribution of lead origin after replacing values\n",
    "lead[\"Lead Origin\"].value_counts( normalize = True, dropna=False)"
   ]
  },
  {
   "cell_type": "code",
   "execution_count": 19,
   "metadata": {
    "colab": {
     "base_uri": "https://localhost:8080/",
     "height": 340
    },
    "id": "_Z7MfIktAmWf",
    "outputId": "5f6e1e76-a025-4b69-f84b-5328c7141073"
   },
   "outputs": [
    {
     "data": {
      "image/png": "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\n",
      "text/plain": [
       "<Figure size 432x288 with 1 Axes>"
      ]
     },
     "metadata": {
      "needs_background": "light"
     },
     "output_type": "display_data"
    }
   ],
   "source": [
    "# Visualising Lead Origin\n",
    "sns.countplot( lead['Lead Origin'], hue = lead['Converted'], palette=\"Paired\")\n",
    "plt.show()"
   ]
  },
  {
   "cell_type": "markdown",
   "metadata": {
    "id": "B1iVe6NPAmWj"
   },
   "source": [
    "Highest lead origin of Leads converted and not converted is \"Landing Page Submission\""
   ]
  },
  {
   "cell_type": "code",
   "execution_count": 20,
   "metadata": {
    "colab": {
     "base_uri": "https://localhost:8080/",
     "height": 425
    },
    "id": "zp-8N4xeAmWj",
    "outputId": "e05c6ff6-0192-4612-d2b1-513287771999"
   },
   "outputs": [
    {
     "data": {
      "text/plain": [
       "Google               2868\n",
       "Direct Traffic       2543\n",
       "Olark Chat           1755\n",
       "Organic Search       1154\n",
       "Reference            534 \n",
       "Welingak Website     142 \n",
       "Referral Sites       125 \n",
       "Facebook             55  \n",
       "NaN                  36  \n",
       "bing                 6   \n",
       "google               5   \n",
       "Click2call           4   \n",
       "Press_Release        2   \n",
       "Social Media         2   \n",
       "Live Chat            2   \n",
       "WeLearn              1   \n",
       "blog                 1   \n",
       "welearnblog_Home     1   \n",
       "Pay per Click Ads    1   \n",
       "youtubechannel       1   \n",
       "NC_EDM               1   \n",
       "testone              1   \n",
       "Name: Lead Source, dtype: int64"
      ]
     },
     "execution_count": 20,
     "metadata": {},
     "output_type": "execute_result"
    }
   ],
   "source": [
    "# Checking distribution of Lead Source\n",
    "lead['Lead Source'].value_counts( dropna=False)"
   ]
  },
  {
   "cell_type": "code",
   "execution_count": 21,
   "metadata": {
    "colab": {
     "base_uri": "https://localhost:8080/",
     "height": 34
    },
    "id": "Z2Dj-FYFAmWn",
    "outputId": "44ecbccb-1268-4a30-aa10-aeb727b6d533"
   },
   "outputs": [
    {
     "data": {
      "text/plain": [
       "0"
      ]
     },
     "execution_count": 21,
     "metadata": {},
     "output_type": "execute_result"
    }
   ],
   "source": [
    "# Imputing null values with other\n",
    "\n",
    "lead['Lead Source'].fillna('Other Sources', inplace = True)\n",
    "lead['Lead Source'].isnull().sum()"
   ]
  },
  {
   "cell_type": "code",
   "execution_count": 22,
   "metadata": {
    "id": "Z5JCtKJkAmWq"
   },
   "outputs": [],
   "source": [
    "# Replacing 'google' with 'Google' to avoid redundent category\n",
    "lead['Lead Source'] = lead['Lead Source'].replace( 'google', 'Google')"
   ]
  },
  {
   "cell_type": "code",
   "execution_count": 23,
   "metadata": {
    "colab": {
     "base_uri": "https://localhost:8080/",
     "height": 123
    },
    "id": "K9LiFNCAAmWu",
    "outputId": "53a56fd5-d6ef-4830-e771-e7ec366ccae6"
   },
   "outputs": [
    {
     "data": {
      "text/plain": [
       "Google           0.3109\n",
       "Direct Traffic   0.2752\n",
       "Olark Chat       0.1899\n",
       "Organic Search   0.1249\n",
       "Other Sources    0.0990\n",
       "Name: Lead Source, dtype: float64"
      ]
     },
     "execution_count": 23,
     "metadata": {},
     "output_type": "execute_result"
    }
   ],
   "source": [
    "# Combining low occuring values to one category\n",
    "\n",
    "lead['Lead Source'] = lead['Lead Source'].replace( ['Reference', 'Welingak Website', 'Referral Sites', 'Facebook', \n",
    "                                                    'bing', 'Click2call', 'Press_Release', 'Social Media',\n",
    "                                                    'Live Chat', 'NC_EDM', 'testone', 'blog', 'Pay per Click Ads',\n",
    "                                                    'youtubechannel', 'WeLearn', 'welearnblog_Home'], 'Other Sources')\n",
    "lead['Lead Source'].value_counts( normalize = True, dropna=False)"
   ]
  },
  {
   "cell_type": "code",
   "execution_count": 24,
   "metadata": {
    "colab": {
     "base_uri": "https://localhost:8080/",
     "height": 503
    },
    "id": "K3ur7DqcAmW1",
    "outputId": "8d69888e-2951-404d-9a01-5c5639a928b8"
   },
   "outputs": [
    {
     "data": {
      "image/png": "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\n",
      "text/plain": [
       "<Figure size 1080x504 with 1 Axes>"
      ]
     },
     "metadata": {
      "needs_background": "light"
     },
     "output_type": "display_data"
    }
   ],
   "source": [
    "# Visualizing Lead source\n",
    "plt.figure( figsize = [15,7])\n",
    "sns.countplot( lead['Lead Source'], hue = lead['Converted'], palette=\"Paired\")\n",
    "plt.show()"
   ]
  },
  {
   "cell_type": "markdown",
   "metadata": {
    "id": "p-q1GNgyAmW5"
   },
   "source": [
    "Highest Lead Source of not converted leads are Direct Traffic and Google.\n",
    "\n",
    "Whereas Highest Lead Source of converted leads are Direct Google."
   ]
  },
  {
   "cell_type": "code",
   "execution_count": 25,
   "metadata": {
    "colab": {
     "base_uri": "https://localhost:8080/",
     "height": 375
    },
    "id": "8KtjA0O3AmW7",
    "outputId": "7ac7d59c-dbaf-4462-bc9f-64d2be60262b"
   },
   "outputs": [
    {
     "data": {
      "image/png": "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\n",
      "text/plain": [
       "<Figure size 432x288 with 2 Axes>"
      ]
     },
     "metadata": {
      "needs_background": "light"
     },
     "output_type": "display_data"
    }
   ],
   "source": [
    "# Visualizing 'Do Not Email' and ''Do Not Call''\n",
    "plt.subplot( 1, 2, 1)\n",
    "sns.countplot(lead['Do Not Email'], hue = lead['Converted'], palette=\"Paired\")\n",
    "\n",
    "plt.subplot( 1, 2, 2)\n",
    "sns.countplot(lead['Do Not Call'], hue = lead['Converted'], palette=\"Paired\")\n",
    "\n",
    "plt.show()"
   ]
  },
  {
   "cell_type": "code",
   "execution_count": 26,
   "metadata": {
    "colab": {
     "base_uri": "https://localhost:8080/",
     "height": 70
    },
    "id": "15c0U21eAmXA",
    "outputId": "23032aa0-d19c-4ee5-feed-5df080e305ac"
   },
   "outputs": [
    {
     "data": {
      "text/plain": [
       "No    0.9206\n",
       "Yes   0.0794\n",
       "Name: Do Not Email, dtype: float64"
      ]
     },
     "execution_count": 26,
     "metadata": {},
     "output_type": "execute_result"
    }
   ],
   "source": [
    "# %age of both the categories in column 'Do Not Email'\n",
    "lead['Do Not Email'].value_counts( normalize = True, dropna=False)"
   ]
  },
  {
   "cell_type": "code",
   "execution_count": 27,
   "metadata": {
    "colab": {
     "base_uri": "https://localhost:8080/",
     "height": 70
    },
    "id": "aFmdyr5_AmXE",
    "outputId": "13736f4b-948b-477a-d74b-cf909e150af8"
   },
   "outputs": [
    {
     "data": {
      "text/plain": [
       "No    0.9998\n",
       "Yes   0.0002\n",
       "Name: Do Not Call, dtype: float64"
      ]
     },
     "execution_count": 27,
     "metadata": {},
     "output_type": "execute_result"
    }
   ],
   "source": [
    "# %age of both the categories in column 'Do Not Call'\n",
    "lead['Do Not Call'].value_counts( normalize = True, dropna=False)"
   ]
  },
  {
   "cell_type": "markdown",
   "metadata": {
    "id": "shCMfgH5AmXI"
   },
   "source": [
    "Column 'Do Not Call' is highly skewed. Hence should drop this column for an unbiased model."
   ]
  },
  {
   "cell_type": "code",
   "execution_count": 28,
   "metadata": {
    "id": "TlA_KMeYAmXI"
   },
   "outputs": [],
   "source": [
    "# Creating a list to drop columns after all columns are examined\n",
    "cols_to_drop= ['Do Not Call']"
   ]
  },
  {
   "cell_type": "code",
   "execution_count": 29,
   "metadata": {
    "colab": {
     "base_uri": "https://localhost:8080/",
     "height": 247
    },
    "id": "553BU5hFAmXL",
    "outputId": "e7f9c7b6-69ed-4de4-a2cb-0d8deb26ba6e"
   },
   "outputs": [
    {
     "data": {
      "image/png": "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\n",
      "text/plain": [
       "<Figure size 432x288 with 2 Axes>"
      ]
     },
     "metadata": {
      "needs_background": "light"
     },
     "output_type": "display_data"
    }
   ],
   "source": [
    "# Visualizing TotalVisit column\n",
    "\n",
    "plt.subplot( 1, 2, 1)\n",
    "sns.boxplot( x = lead['Converted'], y = lead['TotalVisits'], palette=\"Set3\")\n",
    "\n",
    "plt.subplot( 1, 2, 2)\n",
    "sns.boxplot( x = lead['Converted'], y = lead['Page Views Per Visit'], palette=\"Set3\")\n",
    "\n",
    "plt.show()"
   ]
  },
  {
   "cell_type": "markdown",
   "metadata": {
    "id": "tNc9sYdsAmXR"
   },
   "source": [
    "There are a lot of outliers in 'TotalVisits' and 'Page Views Per Visit', we will remove the outlier in soft range."
   ]
  },
  {
   "cell_type": "code",
   "execution_count": 30,
   "metadata": {
    "colab": {
     "base_uri": "https://localhost:8080/",
     "height": 532
    },
    "id": "mt9t83qrAmXS",
    "outputId": "3825d449-d8a5-486f-dc86-79a78732b600"
   },
   "outputs": [
    {
     "name": "stdout",
     "output_type": "stream",
     "text": [
      "Total Visits\n",
      "count   9103.0000\n",
      "mean    3.4452   \n",
      "std     4.8549   \n",
      "min     0.0000   \n",
      "5%      0.0000   \n",
      "25%     1.0000   \n",
      "50%     3.0000   \n",
      "75%     5.0000   \n",
      "90%     7.0000   \n",
      "95%     10.0000  \n",
      "99%     17.0000  \n",
      "max     251.0000 \n",
      "Name: TotalVisits, dtype: float64\n",
      "\n",
      "Page Views Per Visit\n",
      "count   9103.0000\n",
      "mean    2.3628   \n",
      "std     2.1614   \n",
      "min     0.0000   \n",
      "5%      0.0000   \n",
      "25%     1.0000   \n",
      "50%     2.0000   \n",
      "75%     3.0000   \n",
      "90%     5.0000   \n",
      "95%     6.0000   \n",
      "99%     9.0000   \n",
      "max     55.0000  \n",
      "Name: Page Views Per Visit, dtype: float64\n"
     ]
    }
   ],
   "source": [
    "# Checking statistical calculations of 'TotalVisits' and 'Page Views Per Visit' for checking distribution to \n",
    "# remove outliers\n",
    "print(\"Total Visits\")\n",
    "print(lead.TotalVisits.describe( percentiles = [0.05,.25, .5, .75, .90, .95, .99]))\n",
    "print()\n",
    "print(\"Page Views Per Visit\")\n",
    "print(lead['Page Views Per Visit'].describe( percentiles = [0.05,.25, .5, .75, .90, .95, .99]))\n"
   ]
  },
  {
   "cell_type": "code",
   "execution_count": 31,
   "metadata": {
    "colab": {
     "base_uri": "https://localhost:8080/",
     "height": 574
    },
    "id": "vfgUR7DoAmXW",
    "outputId": "4a7f836f-cbb8-474d-b892-fd98edd90870"
   },
   "outputs": [
    {
     "data": {
      "image/png": "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\n",
      "text/plain": [
       "<Figure size 1080x720 with 2 Axes>"
      ]
     },
     "metadata": {
      "needs_background": "light"
     },
     "output_type": "display_data"
    }
   ],
   "source": [
    "# Removing 1% of low and high end Total Visits and Page Views Per Visit outliers\n",
    "plt.figure( figsize = [15,10])\n",
    "\n",
    "Outlier = ['TotalVisits', 'Page Views Per Visit']\n",
    "\n",
    "for x in Outlier:\n",
    "    Q3 = lead[x].quantile( 0.99 )\n",
    "    lead = lead[(lead.TotalVisits <= Q3)]\n",
    "\n",
    "    Q1 = lead[x].quantile( 0.01 )\n",
    "    lead = lead[(lead.TotalVisits >= Q1)]\n",
    "\n",
    "plt.subplot( 1, 2, 1)\n",
    "sns.boxplot( x = lead['Converted'], y = lead['TotalVisits'], palette=\"Set3\")\n",
    "\n",
    "plt.subplot( 1, 2, 2)\n",
    "sns.boxplot( x = lead['Converted'], y = lead['Page Views Per Visit'], palette=\"Set3\")\n",
    "\n",
    "plt.show()"
   ]
  },
  {
   "cell_type": "code",
   "execution_count": 32,
   "metadata": {
    "colab": {
     "base_uri": "https://localhost:8080/",
     "height": 247
    },
    "id": "IQhrOZlwAmXa",
    "outputId": "e7fbc944-37a1-4644-8733-7aebfad27b67"
   },
   "outputs": [
    {
     "data": {
      "image/png": "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\n",
      "text/plain": [
       "<Figure size 432x288 with 1 Axes>"
      ]
     },
     "metadata": {
      "needs_background": "light"
     },
     "output_type": "display_data"
    }
   ],
   "source": [
    "# Visualizing 'Total Time Spent on Website'\n",
    "sns.boxplot( x = lead['Converted'], y = lead['Total Time Spent on Website'], palette=\"Set3\")\n",
    "plt.show()"
   ]
  },
  {
   "cell_type": "markdown",
   "metadata": {
    "id": "fAxQJEqEAmXd"
   },
   "source": [
    "Since there are no outliers, no treatment required."
   ]
  },
  {
   "cell_type": "code",
   "execution_count": 33,
   "metadata": {
    "colab": {
     "base_uri": "https://localhost:8080/",
     "height": 336
    },
    "id": "8gNhS1OyAmXe",
    "outputId": "96e73d35-aedd-4c7b-c678-826968af704d"
   },
   "outputs": [
    {
     "data": {
      "text/plain": [
       "Email Opened                    3268\n",
       "SMS Sent                        2621\n",
       "Olark Chat Conversation         950 \n",
       "Page Visited on Website         517 \n",
       "Converted to Lead               427 \n",
       "Email Bounced                   310 \n",
       "Email Link Clicked              255 \n",
       "Form Submitted on Website       110 \n",
       "Unreachable                     85  \n",
       "Unsubscribed                    58  \n",
       "Had a Phone Conversation        20  \n",
       "Approached upfront              5   \n",
       "View in browser link Clicked    4   \n",
       "Email Marked Spam               2   \n",
       "Email Received                  2   \n",
       "Resubscribed to emails          1   \n",
       "Visited Booth in Tradeshow      1   \n",
       "Name: Last Activity, dtype: int64"
      ]
     },
     "execution_count": 33,
     "metadata": {},
     "output_type": "execute_result"
    }
   ],
   "source": [
    "# Distribution of categories in 'Last Activity'\n",
    "lead['Last Activity'].value_counts( dropna=False )"
   ]
  },
  {
   "cell_type": "code",
   "execution_count": 34,
   "metadata": {
    "colab": {
     "base_uri": "https://localhost:8080/",
     "height": 194
    },
    "id": "lT6R74o9AmXh",
    "outputId": "b6a27e73-b933-47fc-911e-b7e4a535480a"
   },
   "outputs": [
    {
     "data": {
      "text/plain": [
       "Email Opened                0.3784\n",
       "SMS Sent                    0.3035\n",
       "Olark Chat Conversation     0.1100\n",
       "Page Visited on Website     0.0599\n",
       "Converted to Lead           0.0494\n",
       "Email Bounced               0.0359\n",
       "Email Link Clicked          0.0295\n",
       "Other Activities            0.0206\n",
       "Form Submitted on Website   0.0127\n",
       "Name: Last Activity, dtype: float64"
      ]
     },
     "execution_count": 34,
     "metadata": {},
     "output_type": "execute_result"
    }
   ],
   "source": [
    "# Combining low occuring categories to one category\n",
    "\n",
    "lead['Last Activity'] = lead['Last Activity'].replace( ['Unreachable', 'Unsubscribed', 'Had a Phone Conversation',\n",
    "                                                        'Approached upfront', 'View in browser link Clicked', 'Email Marked Spam',\n",
    "                                                        'Email Received', 'Resubscribed to emails', 'Visited Booth in Tradeshow'], 'Other Activities')\n",
    "lead['Last Activity'].value_counts( normalize = True, dropna=False)"
   ]
  },
  {
   "cell_type": "code",
   "execution_count": 35,
   "metadata": {
    "colab": {
     "base_uri": "https://localhost:8080/",
     "height": 647
    },
    "id": "GHqdmlX4AmXk",
    "outputId": "4f965cf5-cce3-4d82-fc5a-4e6edab8a5db"
   },
   "outputs": [
    {
     "data": {
      "image/png": "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\n",
      "text/plain": [
       "<Figure size 720x504 with 1 Axes>"
      ]
     },
     "metadata": {
      "needs_background": "light"
     },
     "output_type": "display_data"
    }
   ],
   "source": [
    "# Visualizing Last Activity\n",
    "\n",
    "plt.figure( figsize = [10,7])\n",
    "sns.countplot( lead['Last Activity'], hue = lead['Converted'], palette=\"Paired\")\n",
    "plt.xticks( rotation = 90)\n",
    "plt.show()"
   ]
  },
  {
   "cell_type": "markdown",
   "metadata": {
    "id": "E6GvaNj3AmXp"
   },
   "source": [
    "Most conversions took place with SMS sent were sent and Emails opened.\n",
    "\n",
    "And most not converted leads are from Email Opened"
   ]
  },
  {
   "cell_type": "code",
   "execution_count": 36,
   "metadata": {
    "colab": {
     "base_uri": "https://localhost:8080/",
     "height": 727
    },
    "id": "NCsvi9WqAmXq",
    "outputId": "e578c92d-c179-47e5-e75b-8d8c7611c0fa"
   },
   "outputs": [
    {
     "data": {
      "text/plain": [
       "India                   6047\n",
       "NaN                     2317\n",
       "United States           66  \n",
       "United Arab Emirates    50  \n",
       "Singapore               23  \n",
       "Saudi Arabia            20  \n",
       "Australia               13  \n",
       "United Kingdom          13  \n",
       "Qatar                   10  \n",
       "Bahrain                 7   \n",
       "Hong Kong               7   \n",
       "Oman                    6   \n",
       "France                  5   \n",
       "Germany                 4   \n",
       "Nigeria                 4   \n",
       "Canada                  4   \n",
       "unknown                 4   \n",
       "Kuwait                  4   \n",
       "South Africa            3   \n",
       "Ghana                   2   \n",
       "Asia/Pacific Region     2   \n",
       "Uganda                  2   \n",
       "Italy                   2   \n",
       "Sweden                  2   \n",
       "Bangladesh              2   \n",
       "China                   2   \n",
       "Philippines             2   \n",
       "Belgium                 2   \n",
       "Sri Lanka               1   \n",
       "Denmark                 1   \n",
       "Kenya                   1   \n",
       "Switzerland             1   \n",
       "Russia                  1   \n",
       "Indonesia               1   \n",
       "Liberia                 1   \n",
       "Vietnam                 1   \n",
       "Malaysia                1   \n",
       "Tanzania                1   \n",
       "Netherlands             1   \n",
       "Name: Country, dtype: int64"
      ]
     },
     "execution_count": 36,
     "metadata": {},
     "output_type": "execute_result"
    }
   ],
   "source": [
    "# Distribution of categories in Country\n",
    "lead['Country'].value_counts( dropna=False )"
   ]
  },
  {
   "cell_type": "markdown",
   "metadata": {
    "id": "G_ZD5xPTAmXt"
   },
   "source": [
    "As the column is highly skewed, we will drop it."
   ]
  },
  {
   "cell_type": "code",
   "execution_count": 37,
   "metadata": {
    "colab": {
     "base_uri": "https://localhost:8080/",
     "height": 34
    },
    "id": "AxoD6E7tAmXu",
    "outputId": "d56d2d18-78e4-4af1-b684-192caa2a64e5"
   },
   "outputs": [
    {
     "data": {
      "text/plain": [
       "['Do Not Call', 'Country']"
      ]
     },
     "execution_count": 37,
     "metadata": {},
     "output_type": "execute_result"
    }
   ],
   "source": [
    "# Append country to cols_to_drop list\n",
    "cols_to_drop.append('Country')\n",
    "cols_to_drop"
   ]
  },
  {
   "cell_type": "code",
   "execution_count": 38,
   "metadata": {
    "colab": {
     "base_uri": "https://localhost:8080/",
     "height": 372
    },
    "id": "eq-f6gA4AmXy",
    "outputId": "e73942a8-96a1-4426-c1e5-f43bea2ff448"
   },
   "outputs": [
    {
     "data": {
      "text/plain": [
       "NaN                                  3228\n",
       "Finance Management                   907 \n",
       "Marketing Management                 789 \n",
       "Human Resource Management            781 \n",
       "Operations Management                473 \n",
       "Business Administration              371 \n",
       "IT Projects Management               348 \n",
       "Supply Chain Management              320 \n",
       "Banking, Investment And Insurance    309 \n",
       "Media and Advertising                185 \n",
       "Travel and Tourism                   172 \n",
       "International Business               165 \n",
       "Healthcare Management                140 \n",
       "Hospitality Management               102 \n",
       "E-COMMERCE                           102 \n",
       "Retail Management                    91  \n",
       "Rural and Agribusiness               64  \n",
       "E-Business                           55  \n",
       "Services Excellence                  34  \n",
       "Name: Specialization, dtype: int64"
      ]
     },
     "execution_count": 38,
     "metadata": {},
     "output_type": "execute_result"
    }
   ],
   "source": [
    "# Distribution of categories in Specialization\n",
    "lead['Specialization'].value_counts( dropna=False )"
   ]
  },
  {
   "cell_type": "code",
   "execution_count": 39,
   "metadata": {
    "colab": {
     "base_uri": "https://localhost:8080/",
     "height": 34
    },
    "id": "BUJmc_zAAmX3",
    "outputId": "30c23e96-1f69-4216-ab49-e19d2ceb857d"
   },
   "outputs": [
    {
     "data": {
      "text/plain": [
       "0"
      ]
     },
     "execution_count": 39,
     "metadata": {},
     "output_type": "execute_result"
    }
   ],
   "source": [
    "# Filling null values with new category to avoid creating highly skewed data\n",
    "lead['Specialization'].fillna( 'Not Specified', inplace = True)\n",
    "lead['Specialization'].isnull().sum()"
   ]
  },
  {
   "cell_type": "code",
   "execution_count": 40,
   "metadata": {
    "colab": {
     "base_uri": "https://localhost:8080/",
     "height": 745
    },
    "id": "gB80_8V_AmX8",
    "outputId": "f5670c3e-b0ea-4097-87ad-09fb0325bbd6"
   },
   "outputs": [
    {
     "data": {
      "image/png": "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\n",
      "text/plain": [
       "<Figure size 1080x576 with 1 Axes>"
      ]
     },
     "metadata": {
      "needs_background": "light"
     },
     "output_type": "display_data"
    }
   ],
   "source": [
    "# Visualizing Specialization\n",
    "\n",
    "plt.figure(figsize = [15,8])\n",
    "sns.countplot( lead['Specialization'], hue = lead['Converted'], palette=\"Paired\")\n",
    "plt.xticks( rotation = 90)\n",
    "plt.show()"
   ]
  },
  {
   "cell_type": "markdown",
   "metadata": {
    "id": "3nrYZRKQAmYA"
   },
   "source": [
    "We see that specialization with Management in them have higher number of leads as well as leads converted. So this is definitely a significant variable and should not be dropped."
   ]
  },
  {
   "cell_type": "code",
   "execution_count": 41,
   "metadata": {
    "id": "N43mza1gAmYA"
   },
   "outputs": [],
   "source": [
    "#combining Management Specializations because they show similar trends\n",
    "\n",
    "lead['Specialization'] = lead['Specialization'].replace(['Finance Management','Human Resource Management',\n",
    "                                                           'Marketing Management','Operations Management',\n",
    "                                                           'IT Projects Management','Supply Chain Management',\n",
    "                                                    'Healthcare Management','Hospitality Management',\n",
    "                                                           'Retail Management'] ,'Management Specializations')  "
   ]
  },
  {
   "cell_type": "code",
   "execution_count": 42,
   "metadata": {
    "colab": {
     "base_uri": "https://localhost:8080/",
     "height": 745
    },
    "id": "pdsmqdwjAmYF",
    "outputId": "6df8248d-e448-4a98-a0ec-c6e3774f582a",
    "scrolled": false
   },
   "outputs": [
    {
     "data": {
      "image/png": "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\n",
      "text/plain": [
       "<Figure size 1080x576 with 1 Axes>"
      ]
     },
     "metadata": {
      "needs_background": "light"
     },
     "output_type": "display_data"
    }
   ],
   "source": [
    "# Visualizing Specialization\n",
    "\n",
    "plt.figure(figsize = [15,8])\n",
    "sns.countplot( lead['Specialization'], hue = lead['Converted'], palette=\"Paired\")\n",
    "plt.xticks( rotation = 90)\n",
    "plt.show()"
   ]
  },
  {
   "cell_type": "code",
   "execution_count": 43,
   "metadata": {
    "colab": {
     "base_uri": "https://localhost:8080/",
     "height": 158
    },
    "id": "u0MLd5OdAmYK",
    "outputId": "67e90810-653a-4781-8367-50ddaa72dbc7"
   },
   "outputs": [
    {
     "data": {
      "text/plain": [
       "Unemployed              5203\n",
       "NaN                     2567\n",
       "Working Professional    639 \n",
       "Student                 200 \n",
       "Other                   12  \n",
       "Housewife               9   \n",
       "Businessman             6   \n",
       "Name: What is your current occupation, dtype: int64"
      ]
     },
     "execution_count": 43,
     "metadata": {},
     "output_type": "execute_result"
    }
   ],
   "source": [
    "# Distribution of categories in 'What is your current occupation'\n",
    "lead['What is your current occupation'].value_counts( dropna=False )"
   ]
  },
  {
   "cell_type": "code",
   "execution_count": 44,
   "metadata": {
    "colab": {
     "base_uri": "https://localhost:8080/",
     "height": 141
    },
    "id": "d4LLsZKnAmYQ",
    "outputId": "27f07c29-144b-4566-8b05-d6e023844cd8"
   },
   "outputs": [
    {
     "data": {
      "text/plain": [
       "Unemployed              7770\n",
       "Working Professional    639 \n",
       "Student                 200 \n",
       "Other                   12  \n",
       "Housewife               9   \n",
       "Businessman             6   \n",
       "Name: What is your current occupation, dtype: int64"
      ]
     },
     "execution_count": 44,
     "metadata": {},
     "output_type": "execute_result"
    }
   ],
   "source": [
    "# Imputing null values\n",
    "lead['What is your current occupation'].fillna( \"Unemployed\", inplace = True)\n",
    "lead['What is your current occupation'].value_counts()"
   ]
  },
  {
   "cell_type": "code",
   "execution_count": 45,
   "metadata": {
    "colab": {
     "base_uri": "https://localhost:8080/",
     "height": 445
    },
    "id": "0JNNcUdkAmYU",
    "outputId": "3a40fa70-ae6e-4e32-b935-93742490c6ea"
   },
   "outputs": [
    {
     "data": {
      "image/png": "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\n",
      "text/plain": [
       "<Figure size 432x288 with 1 Axes>"
      ]
     },
     "metadata": {
      "needs_background": "light"
     },
     "output_type": "display_data"
    }
   ],
   "source": [
    "#Visualizing count of Variable based on Converted value\n",
    "\n",
    "sns.countplot(lead['What is your current occupation'], hue=lead.Converted, palette=\"Paired\")\n",
    "plt.xticks( rotation=90 )\n",
    "plt.show()"
   ]
  },
  {
   "cell_type": "markdown",
   "metadata": {
    "id": "m6qNPYcMAmYX"
   },
   "source": [
    "Unemployed leads are the highest in terms of Absolute numbers.\n",
    "\n",
    "Working Professionals going for the course have high chances of joining it."
   ]
  },
  {
   "cell_type": "code",
   "execution_count": 46,
   "metadata": {
    "colab": {
     "base_uri": "https://localhost:8080/",
     "height": 105
    },
    "id": "iD5Qpyg2AmYY",
    "outputId": "05598cab-02cd-463b-d358-455dde479c08"
   },
   "outputs": [
    {
     "data": {
      "text/plain": [
       "Better Career Prospects      6049\n",
       "NaN                          2585\n",
       "Flexibility & Convenience    1   \n",
       "Other                        1   \n",
       "Name: What matters most to you in choosing a course, dtype: int64"
      ]
     },
     "execution_count": 46,
     "metadata": {},
     "output_type": "execute_result"
    }
   ],
   "source": [
    "# Distribution of categories in 'What matters most to you in choosing a course'\n",
    "\n",
    "lead['What matters most to you in choosing a course'].value_counts( dropna=False )"
   ]
  },
  {
   "cell_type": "markdown",
   "metadata": {
    "id": "8VIisKMAAmYa"
   },
   "source": [
    "We can impute null values with 'Better Career Prospects' but it will make our data highly skewed so it is better to drop 'What matters most to you in choosing a course' column."
   ]
  },
  {
   "cell_type": "code",
   "execution_count": 47,
   "metadata": {
    "colab": {
     "base_uri": "https://localhost:8080/",
     "height": 34
    },
    "id": "KY4PgxGHAmYb",
    "outputId": "c52b6318-edea-4ee5-b62d-b18a46bae698"
   },
   "outputs": [
    {
     "data": {
      "text/plain": [
       "['Do Not Call', 'Country', 'What matters most to you in choosing a course']"
      ]
     },
     "execution_count": 47,
     "metadata": {},
     "output_type": "execute_result"
    }
   ],
   "source": [
    "# Append 'What matters most to you in choosing a course' to cols_to_drop\n",
    "cols_to_drop.append('What matters most to you in choosing a course')\n",
    "cols_to_drop"
   ]
  },
  {
   "cell_type": "code",
   "execution_count": 48,
   "metadata": {
    "colab": {
     "base_uri": "https://localhost:8080/",
     "height": 870
    },
    "id": "56fgFStHAmYg",
    "outputId": "d3aac6a0-4398-4d36-defe-9f6171c38902"
   },
   "outputs": [
    {
     "name": "stdout",
     "output_type": "stream",
     "text": [
      "Search\n",
      "No     8629\n",
      "Yes    7   \n",
      "Name: Search, dtype: int64\n",
      "\n",
      "Magazine\n",
      "No    8636\n",
      "Name: Magazine, dtype: int64\n",
      "\n",
      "Newspaper Article\n",
      "No     8635\n",
      "Yes    1   \n",
      "Name: Newspaper Article, dtype: int64\n",
      "\n",
      "X Education Forums\n",
      "No    8636\n",
      "Name: X Education Forums, dtype: int64\n",
      "\n",
      "Newspaper\n",
      "No    8636\n",
      "Name: Newspaper, dtype: int64\n",
      "\n",
      "Digital Advertisement\n",
      "No     8633\n",
      "Yes    3   \n",
      "Name: Digital Advertisement, dtype: int64\n",
      "\n",
      "Through Recommendations\n",
      "No     8631\n",
      "Yes    5   \n",
      "Name: Through Recommendations, dtype: int64\n",
      "\n",
      "Receive More Updates About Our Courses\n",
      "No    8636\n",
      "Name: Receive More Updates About Our Courses, dtype: int64\n",
      "\n",
      "Update me on Supply Chain Content\n",
      "No    8636\n",
      "Name: Update me on Supply Chain Content, dtype: int64\n",
      "\n",
      "Get updates on DM Content\n",
      "No    8636\n",
      "Name: Get updates on DM Content, dtype: int64\n",
      "\n",
      "I agree to pay the amount through cheque\n",
      "No    8636\n",
      "Name: I agree to pay the amount through cheque, dtype: int64\n",
      "\n"
     ]
    }
   ],
   "source": [
    "#  Distribution of categories in 'Search', 'Magazine','Newspaper Article', 'X Education Forums', 'Newspaper'\n",
    "# 'Digital Advertisement'\n",
    "\n",
    "Ad = ['Search', 'Magazine',\n",
    "       'Newspaper Article', 'X Education Forums', 'Newspaper',\n",
    "       'Digital Advertisement', 'Through Recommendations', 'Receive More Updates About Our Courses', \n",
    "     'Update me on Supply Chain Content', 'Get updates on DM Content','I agree to pay the amount through cheque']\n",
    "\n",
    "for i in Ad:\n",
    "    print(i)\n",
    "    print(lead[i].value_counts(dropna=False))\n",
    "    print()"
   ]
  },
  {
   "cell_type": "markdown",
   "metadata": {
    "id": "MWCVWnnHAmYk"
   },
   "source": [
    "All the columns are highly skewed. Hence adding them to cols_to_drop."
   ]
  },
  {
   "cell_type": "code",
   "execution_count": 49,
   "metadata": {
    "colab": {
     "base_uri": "https://localhost:8080/",
     "height": 265
    },
    "id": "ALCerAcUAmYk",
    "outputId": "6488134f-c61a-4645-b474-20f78e85e7e3",
    "scrolled": true
   },
   "outputs": [
    {
     "data": {
      "text/plain": [
       "['Do Not Call',\n",
       " 'Country',\n",
       " 'What matters most to you in choosing a course',\n",
       " 'Search',\n",
       " 'Magazine',\n",
       " 'Newspaper Article',\n",
       " 'X Education Forums',\n",
       " 'Newspaper',\n",
       " 'Digital Advertisement',\n",
       " 'Through Recommendations',\n",
       " 'Receive More Updates About Our Courses',\n",
       " 'Update me on Supply Chain Content',\n",
       " 'Get updates on DM Content',\n",
       " 'I agree to pay the amount through cheque']"
      ]
     },
     "execution_count": 49,
     "metadata": {},
     "output_type": "execute_result"
    }
   ],
   "source": [
    "# Extend Ad list to cols_to_drop\n",
    "cols_to_drop.extend(Ad)\n",
    "cols_to_drop"
   ]
  },
  {
   "cell_type": "code",
   "execution_count": 50,
   "metadata": {
    "colab": {
     "base_uri": "https://localhost:8080/",
     "height": 70
    },
    "id": "kC500jWyAmYr",
    "outputId": "42b6a0ac-8a94-4339-c9d6-644fab44d10e"
   },
   "outputs": [
    {
     "data": {
      "text/plain": [
       "No     6003\n",
       "Yes    2633\n",
       "Name: A free copy of Mastering The Interview, dtype: int64"
      ]
     },
     "execution_count": 50,
     "metadata": {},
     "output_type": "execute_result"
    }
   ],
   "source": [
    "# Distribution of categories in 'A free copy of Mastering The Interview'\n",
    "lead['A free copy of Mastering The Interview'].value_counts( dropna=False )"
   ]
  },
  {
   "cell_type": "code",
   "execution_count": 51,
   "metadata": {
    "colab": {
     "base_uri": "https://localhost:8080/",
     "height": 340
    },
    "id": "wAtsfsHRAmYu",
    "outputId": "e6aa286e-1c03-44f7-bb00-4fbf564427c3"
   },
   "outputs": [
    {
     "data": {
      "image/png": "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\n",
      "text/plain": [
       "<Figure size 432x288 with 1 Axes>"
      ]
     },
     "metadata": {
      "needs_background": "light"
     },
     "output_type": "display_data"
    }
   ],
   "source": [
    "# Visualizing 'A free copy of Mastering The Interview'\n",
    "sns.countplot( lead['A free copy of Mastering The Interview'], hue = lead['Converted'], palette=\"Paired\")\n",
    "plt.show()"
   ]
  },
  {
   "cell_type": "code",
   "execution_count": 52,
   "metadata": {
    "colab": {
     "base_uri": "https://localhost:8080/",
     "height": 318
    },
    "id": "-xPbMrC2AmYx",
    "outputId": "8c0b1ca8-deca-416b-fa5c-0323f22aef4d"
   },
   "outputs": [
    {
     "data": {
      "text/plain": [
       "Modified                        3151\n",
       "Email Opened                    2680\n",
       "SMS Sent                        2079\n",
       "Page Visited on Website         236 \n",
       "Olark Chat Conversation         175 \n",
       "Email Link Clicked              163 \n",
       "Email Bounced                   59  \n",
       "Unsubscribed                    45  \n",
       "Unreachable                     31  \n",
       "Had a Phone Conversation        10  \n",
       "Email Marked Spam               2   \n",
       "View in browser link Clicked    1   \n",
       "Form Submitted on Website       1   \n",
       "Resubscribed to emails          1   \n",
       "Email Received                  1   \n",
       "Approached upfront              1   \n",
       "Name: Last Notable Activity, dtype: int64"
      ]
     },
     "execution_count": 52,
     "metadata": {},
     "output_type": "execute_result"
    }
   ],
   "source": [
    "# Distribution of categories in 'Last Notable Activity'\n",
    "lead['Last Notable Activity'].value_counts( dropna=False )"
   ]
  },
  {
   "cell_type": "code",
   "execution_count": 53,
   "metadata": {
    "id": "NDCO2brFAmY0"
   },
   "outputs": [],
   "source": [
    "# Combining low occuring categories to relatable categories\n",
    "\n",
    "lead['Last Notable Activity'] = lead['Last Notable Activity'].replace('Email Marked Spam', 'Email Bounced')\n",
    "lead['Last Notable Activity'] = lead['Last Notable Activity'].replace(['Email Received', 'Resubscribed to emails'],\n",
    "                                                                      'Email Opened')\n",
    "lead['Last Notable Activity'] = lead['Last Notable Activity'].replace('View in browser link Clicked', 'Email Link Clicked')\n",
    "lead['Last Notable Activity'] = lead['Last Notable Activity'].replace('Form Submitted on Website', 'Page Visited on Website')\n",
    "lead['Last Notable Activity'] = lead['Last Notable Activity'].replace('Approached upfront', lead['Last Notable Activity'].mode()[0])\n"
   ]
  },
  {
   "cell_type": "code",
   "execution_count": 54,
   "metadata": {
    "colab": {
     "base_uri": "https://localhost:8080/",
     "height": 212
    },
    "id": "H4dUOWzeAmY4",
    "outputId": "77e756ed-082e-44f5-c8de-d78ff927b16e"
   },
   "outputs": [
    {
     "data": {
      "text/plain": [
       "Modified                    3152\n",
       "Email Opened                2682\n",
       "SMS Sent                    2079\n",
       "Page Visited on Website     237 \n",
       "Olark Chat Conversation     175 \n",
       "Email Link Clicked          164 \n",
       "Email Bounced               61  \n",
       "Unsubscribed                45  \n",
       "Unreachable                 31  \n",
       "Had a Phone Conversation    10  \n",
       "Name: Last Notable Activity, dtype: int64"
      ]
     },
     "execution_count": 54,
     "metadata": {},
     "output_type": "execute_result"
    }
   ],
   "source": [
    "# Distribution of categories in Last Notable Activity\n",
    "lead['Last Notable Activity'].value_counts( dropna=False)"
   ]
  },
  {
   "cell_type": "code",
   "execution_count": 55,
   "metadata": {
    "colab": {
     "base_uri": "https://localhost:8080/",
     "height": 694
    },
    "id": "7GY0OaySAmY9",
    "outputId": "322a635d-a8f1-453f-ca64-40801b1b0d59",
    "scrolled": false
   },
   "outputs": [
    {
     "data": {
      "image/png": "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\n",
      "text/plain": [
       "<Figure size 720x576 with 1 Axes>"
      ]
     },
     "metadata": {
      "needs_background": "light"
     },
     "output_type": "display_data"
    }
   ],
   "source": [
    "# Visualizing 'Last Notable Activity'\n",
    "\n",
    "plt.figure( figsize = [10, 8])\n",
    "sns.countplot( lead['Last Notable Activity'], hue = lead['Converted'], palette=\"Paired\")\n",
    "plt.xticks( rotation = 90)\n",
    "plt.show()"
   ]
  },
  {
   "cell_type": "markdown",
   "metadata": {
    "id": "SwhiDyxlAmZA"
   },
   "source": [
    "Last notable activity in converted lead is SMS sent but as a whole Modified is highly done."
   ]
  },
  {
   "cell_type": "code",
   "execution_count": 56,
   "metadata": {
    "colab": {
     "base_uri": "https://localhost:8080/",
     "height": 514
    },
    "id": "4TJ7wXNiAmZA",
    "outputId": "544fc530-9248-4a9d-e8a8-dc115dcc73a5"
   },
   "outputs": [
    {
     "data": {
      "text/plain": [
       "NaN                                                  3186\n",
       "Will revert after reading the email                  1923\n",
       "Ringing                                              1125\n",
       "Interested in other courses                          481 \n",
       "Already a student                                    450 \n",
       "Closed by Horizzon                                   263 \n",
       "switched off                                         231 \n",
       "Busy                                                 173 \n",
       "Lost to EINS                                         162 \n",
       "Not doing further education                          134 \n",
       "Interested  in full time MBA                         113 \n",
       "Graduation in progress                               106 \n",
       "invalid number                                       78  \n",
       "Diploma holder (Not Eligible)                        61  \n",
       "wrong number given                                   44  \n",
       "opp hangup                                           32  \n",
       "number not provided                                  26  \n",
       "in touch with EINS                                   12  \n",
       "Lost to Others                                       7   \n",
       "Still Thinking                                       6   \n",
       "Interested in Next batch                             5   \n",
       "Want to take admission but has financial problems    5   \n",
       "In confusion whether part time or DLP                5   \n",
       "Lateral student                                      3   \n",
       "University not recognized                            2   \n",
       "Shall take in the next coming month                  2   \n",
       "Recognition issue (DEC approval)                     1   \n",
       "Name: Tags, dtype: int64"
      ]
     },
     "execution_count": 56,
     "metadata": {},
     "output_type": "execute_result"
    }
   ],
   "source": [
    "# Analysing Tag column\n",
    "lead['Tags'].value_counts(dropna=False)"
   ]
  },
  {
   "cell_type": "code",
   "execution_count": 57,
   "metadata": {
    "id": "4jBEjZTLAmZD"
   },
   "outputs": [],
   "source": [
    "#Imputing Nan values with \"Not Specified\"\n",
    "lead['Tags'].fillna('Not Specified', inplace = True)"
   ]
  },
  {
   "cell_type": "code",
   "execution_count": 58,
   "metadata": {
    "colab": {
     "base_uri": "https://localhost:8080/",
     "height": 665
    },
    "id": "aMlSiXXRAmZH",
    "outputId": "f03b3775-1bab-447f-ba21-3ad0cd554b70"
   },
   "outputs": [
    {
     "data": {
      "image/png": "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\n",
      "text/plain": [
       "<Figure size 1080x360 with 1 Axes>"
      ]
     },
     "metadata": {
      "needs_background": "light"
     },
     "output_type": "display_data"
    }
   ],
   "source": [
    "#visualizing count of Variable based on Converted value\n",
    "\n",
    "plt.figure(figsize=(15,5))\n",
    "s1=sns.countplot(lead['Tags'], hue=lead.Converted, palette=\"Paired\")\n",
    "plt.xticks( rotation = 90)\n",
    "plt.show()"
   ]
  },
  {
   "cell_type": "code",
   "execution_count": 59,
   "metadata": {
    "id": "nfKIwsr2AmZL"
   },
   "outputs": [],
   "source": [
    "#replacing tags with low frequency with \"Other Tags\"\n",
    "lead['Tags'] = lead['Tags'].replace(['In confusion whether part time or DLP', 'in touch with EINS','Diploma holder (Not Eligible)',\n",
    "                                     'Approached upfront','Graduation in progress','number not provided', 'opp hangup','Still Thinking',\n",
    "                                    'Lost to Others','Shall take in the next coming month','Lateral student','Interested in Next batch',\n",
    "                                    'Recognition issue (DEC approval)','Want to take admission but has financial problems',\n",
    "                                    'University not recognized', 'switched off',\n",
    "                                      'Already a student',\n",
    "                                       'Not doing further education',\n",
    "                                       'invalid number',\n",
    "                                       'wrong number given',\n",
    "                                       'Interested  in full time MBA'], 'Other_Tags')"
   ]
  },
  {
   "cell_type": "code",
   "execution_count": 60,
   "metadata": {
    "colab": {
     "base_uri": "https://localhost:8080/",
     "height": 574
    },
    "id": "a7vcnzP9AmZP",
    "outputId": "4ab91217-666b-48a1-b1de-d1d23d9c56f5"
   },
   "outputs": [
    {
     "data": {
      "image/png": "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\n",
      "text/plain": [
       "<Figure size 1080x360 with 1 Axes>"
      ]
     },
     "metadata": {
      "needs_background": "light"
     },
     "output_type": "display_data"
    }
   ],
   "source": [
    "#visualizing count of Variable based on Converted value\n",
    "\n",
    "plt.figure(figsize=(15,5))\n",
    "s1=sns.countplot(lead['Tags'], hue=lead.Converted, palette=\"Paired\")\n",
    "plt.xticks( rotation = 90)\n",
    "plt.show()"
   ]
  },
  {
   "cell_type": "markdown",
   "metadata": {
    "id": "MVKXbLesAmZS"
   },
   "source": [
    "Will revert after reading the email tag is showing great response."
   ]
  },
  {
   "cell_type": "code",
   "execution_count": 61,
   "metadata": {
    "colab": {
     "base_uri": "https://localhost:8080/",
     "height": 158
    },
    "id": "ZJK0-bpRAmZS",
    "outputId": "b69775ec-aaf4-4fd9-c2e3-1a1b03ca933a"
   },
   "outputs": [
    {
     "data": {
      "text/plain": [
       "NaN                            3518\n",
       "Mumbai                         2953\n",
       "Thane & Outskirts              688 \n",
       "Other Cities                   637 \n",
       "Other Cities of Maharashtra    422 \n",
       "Other Metro Cities             348 \n",
       "Tier II Cities                 70  \n",
       "Name: City, dtype: int64"
      ]
     },
     "execution_count": 61,
     "metadata": {},
     "output_type": "execute_result"
    }
   ],
   "source": [
    "# Distribution of categories in City\n",
    "\n",
    "lead['City'].value_counts(dropna=False)"
   ]
  },
  {
   "cell_type": "code",
   "execution_count": 62,
   "metadata": {
    "colab": {
     "base_uri": "https://localhost:8080/",
     "height": 141
    },
    "id": "2MRot2t2AmZW",
    "outputId": "e9f0e47e-0054-4639-bbbe-5f7f01323341"
   },
   "outputs": [
    {
     "data": {
      "text/plain": [
       "Mumbai                         6471\n",
       "Thane & Outskirts              688 \n",
       "Other Cities                   637 \n",
       "Other Cities of Maharashtra    422 \n",
       "Other Metro Cities             348 \n",
       "Tier II Cities                 70  \n",
       "Name: City, dtype: int64"
      ]
     },
     "execution_count": 62,
     "metadata": {},
     "output_type": "execute_result"
    }
   ],
   "source": [
    "# Imputing value with mode\n",
    "lead['City'].fillna(lead.City.mode()[0], inplace = True)\n",
    "lead['City'].value_counts(dropna=False)"
   ]
  },
  {
   "cell_type": "code",
   "execution_count": 63,
   "metadata": {
    "colab": {
     "base_uri": "https://localhost:8080/",
     "height": 538
    },
    "id": "o995_pQkAmZY",
    "outputId": "898a43b5-770b-4ef2-aa66-4a3962bb99e7"
   },
   "outputs": [
    {
     "data": {
      "image/png": "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\n",
      "text/plain": [
       "<Figure size 1080x360 with 1 Axes>"
      ]
     },
     "metadata": {
      "needs_background": "light"
     },
     "output_type": "display_data"
    }
   ],
   "source": [
    "# Visualizing City\n",
    "\n",
    "plt.figure(figsize=(15,5))\n",
    "sns.countplot( lead['City'], hue = lead['Converted'], palette=\"Paired\")\n",
    "plt.xticks( rotation = 90)\n",
    "plt.show()"
   ]
  },
  {
   "cell_type": "code",
   "execution_count": 64,
   "metadata": {
    "colab": {
     "base_uri": "https://localhost:8080/",
     "height": 390
    },
    "id": "SL1cJp54AmZa",
    "outputId": "314afa91-8a30-408d-acab-15318bc7678e",
    "scrolled": true
   },
   "outputs": [
    {
     "name": "stdout",
     "output_type": "stream",
     "text": [
      "<class 'pandas.core.frame.DataFrame'>\n",
      "Int64Index: 8636 entries, 0 to 9239\n",
      "Data columns (total 14 columns):\n",
      " #   Column                                  Non-Null Count  Dtype  \n",
      "---  ------                                  --------------  -----  \n",
      " 0   Lead Origin                             8636 non-null   object \n",
      " 1   Lead Source                             8636 non-null   object \n",
      " 2   Do Not Email                            8636 non-null   object \n",
      " 3   Converted                               8636 non-null   int64  \n",
      " 4   TotalVisits                             8636 non-null   float64\n",
      " 5   Total Time Spent on Website             8636 non-null   int64  \n",
      " 6   Page Views Per Visit                    8636 non-null   float64\n",
      " 7   Last Activity                           8636 non-null   object \n",
      " 8   Specialization                          8636 non-null   object \n",
      " 9   What is your current occupation         8636 non-null   object \n",
      " 10  Tags                                    8636 non-null   object \n",
      " 11  City                                    8636 non-null   object \n",
      " 12  A free copy of Mastering The Interview  8636 non-null   object \n",
      " 13  Last Notable Activity                   8636 non-null   object \n",
      "dtypes: float64(2), int64(2), object(10)\n",
      "memory usage: 1.3+ MB\n"
     ]
    }
   ],
   "source": [
    "#dropping columns\n",
    "\n",
    "lead = lead.drop(cols_to_drop, axis = 1)\n",
    "lead.info()"
   ]
  },
  {
   "cell_type": "code",
   "execution_count": 65,
   "metadata": {
    "colab": {
     "base_uri": "https://localhost:8080/",
     "height": 594
    },
    "id": "M1acIFulAmZd",
    "outputId": "5677938c-bd34-4ba7-9511-a7c84fb9305e"
   },
   "outputs": [
    {
     "data": {
      "image/png": "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\n",
      "text/plain": [
       "<Figure size 720x504 with 2 Axes>"
      ]
     },
     "metadata": {
      "needs_background": "light"
     },
     "output_type": "display_data"
    }
   ],
   "source": [
    "# Correlation of Final variables\n",
    "\n",
    "plt.figure( figsize= [10,7])\n",
    "sns.heatmap( lead.corr(), annot= True, cmap= \"Blues\")\n",
    "plt.title(\"Correlation of Final variables\")\n",
    "plt.show()"
   ]
  },
  {
   "cell_type": "markdown",
   "metadata": {
    "id": "LAHmsAWTAmZg"
   },
   "source": [
    "Lowest correlation between \"Page Views Per Visit\" & \"Converted\"\n",
    "\n",
    "Highest correlation between \"Page Views Per Visit\" & \"TotalVisits\""
   ]
  },
  {
   "cell_type": "code",
   "execution_count": 66,
   "metadata": {},
   "outputs": [
    {
     "data": {
      "text/plain": [
       "Index(['Lead Origin', 'Lead Source', 'Do Not Email', 'Converted',\n",
       "       'TotalVisits', 'Total Time Spent on Website', 'Page Views Per Visit',\n",
       "       'Last Activity', 'Specialization', 'What is your current occupation',\n",
       "       'Tags', 'City', 'A free copy of Mastering The Interview',\n",
       "       'Last Notable Activity'],\n",
       "      dtype='object')"
      ]
     },
     "execution_count": 66,
     "metadata": {},
     "output_type": "execute_result"
    }
   ],
   "source": [
    "lead.columns"
   ]
  },
  {
   "cell_type": "code",
   "execution_count": 67,
   "metadata": {
    "colab": {
     "base_uri": "https://localhost:8080/",
     "height": 87
    },
    "id": "-6ZaJp_rAmZh",
    "outputId": "a7c2c84d-4327-4237-b59e-062ce170256f"
   },
   "outputs": [
    {
     "data": {
      "text/plain": [
       "Index(['Lead Origin', 'Lead Source', 'Do Not Email', 'Last Activity',\n",
       "       'Specialization', 'What is your current occupation', 'Tags', 'City',\n",
       "       'A free copy of Mastering The Interview', 'Last Notable Activity'],\n",
       "      dtype='object')"
      ]
     },
     "execution_count": 67,
     "metadata": {},
     "output_type": "execute_result"
    }
   ],
   "source": [
    "#getting a list of categorical columns\n",
    "\n",
    "cat_cols= lead.select_dtypes(include=['object']).columns\n",
    "cat_cols"
   ]
  },
  {
   "cell_type": "code",
   "execution_count": 68,
   "metadata": {
    "colab": {
     "base_uri": "https://localhost:8080/",
     "height": 381
    },
    "id": "vFIgqjq8AmZk",
    "outputId": "3c70ec21-1b34-4204-d34e-7ab4848f0949"
   },
   "outputs": [
    {
     "data": {
      "text/html": [
       "<div>\n",
       "<style scoped>\n",
       "    .dataframe tbody tr th:only-of-type {\n",
       "        vertical-align: middle;\n",
       "    }\n",
       "\n",
       "    .dataframe tbody tr th {\n",
       "        vertical-align: top;\n",
       "    }\n",
       "\n",
       "    .dataframe thead th {\n",
       "        text-align: right;\n",
       "    }\n",
       "</style>\n",
       "<table border=\"1\" class=\"dataframe\">\n",
       "  <thead>\n",
       "    <tr style=\"text-align: right;\">\n",
       "      <th></th>\n",
       "      <th>Lead Origin</th>\n",
       "      <th>Lead Source</th>\n",
       "      <th>Do Not Email</th>\n",
       "      <th>Converted</th>\n",
       "      <th>TotalVisits</th>\n",
       "      <th>Total Time Spent on Website</th>\n",
       "      <th>Page Views Per Visit</th>\n",
       "      <th>Last Activity</th>\n",
       "      <th>Specialization</th>\n",
       "      <th>What is your current occupation</th>\n",
       "      <th>Tags</th>\n",
       "      <th>City</th>\n",
       "      <th>A free copy of Mastering The Interview</th>\n",
       "      <th>Last Notable Activity</th>\n",
       "    </tr>\n",
       "  </thead>\n",
       "  <tbody>\n",
       "    <tr>\n",
       "      <th>0</th>\n",
       "      <td>API</td>\n",
       "      <td>Olark Chat</td>\n",
       "      <td>No</td>\n",
       "      <td>0</td>\n",
       "      <td>0.0000</td>\n",
       "      <td>0</td>\n",
       "      <td>0.0000</td>\n",
       "      <td>Page Visited on Website</td>\n",
       "      <td>Not Specified</td>\n",
       "      <td>Unemployed</td>\n",
       "      <td>Interested in other courses</td>\n",
       "      <td>Mumbai</td>\n",
       "      <td>No</td>\n",
       "      <td>Modified</td>\n",
       "    </tr>\n",
       "    <tr>\n",
       "      <th>1</th>\n",
       "      <td>API</td>\n",
       "      <td>Organic Search</td>\n",
       "      <td>No</td>\n",
       "      <td>0</td>\n",
       "      <td>5.0000</td>\n",
       "      <td>674</td>\n",
       "      <td>2.5000</td>\n",
       "      <td>Email Opened</td>\n",
       "      <td>Not Specified</td>\n",
       "      <td>Unemployed</td>\n",
       "      <td>Ringing</td>\n",
       "      <td>Mumbai</td>\n",
       "      <td>No</td>\n",
       "      <td>Email Opened</td>\n",
       "    </tr>\n",
       "    <tr>\n",
       "      <th>2</th>\n",
       "      <td>Landing Page Submission</td>\n",
       "      <td>Direct Traffic</td>\n",
       "      <td>No</td>\n",
       "      <td>1</td>\n",
       "      <td>2.0000</td>\n",
       "      <td>1532</td>\n",
       "      <td>2.0000</td>\n",
       "      <td>Email Opened</td>\n",
       "      <td>Business Administration</td>\n",
       "      <td>Student</td>\n",
       "      <td>Will revert after reading the email</td>\n",
       "      <td>Mumbai</td>\n",
       "      <td>Yes</td>\n",
       "      <td>Email Opened</td>\n",
       "    </tr>\n",
       "    <tr>\n",
       "      <th>3</th>\n",
       "      <td>Landing Page Submission</td>\n",
       "      <td>Direct Traffic</td>\n",
       "      <td>No</td>\n",
       "      <td>0</td>\n",
       "      <td>1.0000</td>\n",
       "      <td>305</td>\n",
       "      <td>1.0000</td>\n",
       "      <td>Other Activities</td>\n",
       "      <td>Media and Advertising</td>\n",
       "      <td>Unemployed</td>\n",
       "      <td>Ringing</td>\n",
       "      <td>Mumbai</td>\n",
       "      <td>No</td>\n",
       "      <td>Modified</td>\n",
       "    </tr>\n",
       "    <tr>\n",
       "      <th>4</th>\n",
       "      <td>Landing Page Submission</td>\n",
       "      <td>Google</td>\n",
       "      <td>No</td>\n",
       "      <td>1</td>\n",
       "      <td>2.0000</td>\n",
       "      <td>1428</td>\n",
       "      <td>1.0000</td>\n",
       "      <td>Converted to Lead</td>\n",
       "      <td>Not Specified</td>\n",
       "      <td>Unemployed</td>\n",
       "      <td>Will revert after reading the email</td>\n",
       "      <td>Mumbai</td>\n",
       "      <td>No</td>\n",
       "      <td>Modified</td>\n",
       "    </tr>\n",
       "  </tbody>\n",
       "</table>\n",
       "</div>"
      ],
      "text/plain": [
       "               Lead Origin     Lead Source Do Not Email  Converted  TotalVisits  Total Time Spent on Website  Page Views Per Visit            Last Activity           Specialization What is your current occupation                                 Tags    City A free copy of Mastering The Interview Last Notable Activity\n",
       "0  API                      Olark Chat      No           0         0.0000        0                           0.0000                 Page Visited on Website  Not Specified            Unemployed                      Interested in other courses          Mumbai  No                                     Modified            \n",
       "1  API                      Organic Search  No           0         5.0000        674                         2.5000                 Email Opened             Not Specified            Unemployed                      Ringing                              Mumbai  No                                     Email Opened        \n",
       "2  Landing Page Submission  Direct Traffic  No           1         2.0000        1532                        2.0000                 Email Opened             Business Administration  Student                         Will revert after reading the email  Mumbai  Yes                                    Email Opened        \n",
       "3  Landing Page Submission  Direct Traffic  No           0         1.0000        305                         1.0000                 Other Activities         Media and Advertising    Unemployed                      Ringing                              Mumbai  No                                     Modified            \n",
       "4  Landing Page Submission  Google          No           1         2.0000        1428                        1.0000                 Converted to Lead        Not Specified            Unemployed                      Will revert after reading the email  Mumbai  No                                     Modified            "
      ]
     },
     "execution_count": 68,
     "metadata": {},
     "output_type": "execute_result"
    }
   ],
   "source": [
    "lead.head()"
   ]
  },
  {
   "cell_type": "code",
   "execution_count": 69,
   "metadata": {
    "colab": {
     "base_uri": "https://localhost:8080/",
     "height": 381
    },
    "id": "F8r7FJl9AmZp",
    "outputId": "a1efb9e7-e1e2-452e-fa03-74d2aa296bc9",
    "scrolled": true
   },
   "outputs": [
    {
     "data": {
      "text/html": [
       "<div>\n",
       "<style scoped>\n",
       "    .dataframe tbody tr th:only-of-type {\n",
       "        vertical-align: middle;\n",
       "    }\n",
       "\n",
       "    .dataframe tbody tr th {\n",
       "        vertical-align: top;\n",
       "    }\n",
       "\n",
       "    .dataframe thead th {\n",
       "        text-align: right;\n",
       "    }\n",
       "</style>\n",
       "<table border=\"1\" class=\"dataframe\">\n",
       "  <thead>\n",
       "    <tr style=\"text-align: right;\">\n",
       "      <th></th>\n",
       "      <th>Lead Origin</th>\n",
       "      <th>Lead Source</th>\n",
       "      <th>Do Not Email</th>\n",
       "      <th>Converted</th>\n",
       "      <th>TotalVisits</th>\n",
       "      <th>Total Time Spent on Website</th>\n",
       "      <th>Page Views Per Visit</th>\n",
       "      <th>Last Activity</th>\n",
       "      <th>Specialization</th>\n",
       "      <th>What is your current occupation</th>\n",
       "      <th>Tags</th>\n",
       "      <th>City</th>\n",
       "      <th>A free copy of Mastering The Interview</th>\n",
       "      <th>Last Notable Activity</th>\n",
       "    </tr>\n",
       "  </thead>\n",
       "  <tbody>\n",
       "    <tr>\n",
       "      <th>0</th>\n",
       "      <td>API</td>\n",
       "      <td>Olark Chat</td>\n",
       "      <td>0</td>\n",
       "      <td>0</td>\n",
       "      <td>0.0000</td>\n",
       "      <td>0</td>\n",
       "      <td>0.0000</td>\n",
       "      <td>Page Visited on Website</td>\n",
       "      <td>Not Specified</td>\n",
       "      <td>Unemployed</td>\n",
       "      <td>Interested in other courses</td>\n",
       "      <td>Mumbai</td>\n",
       "      <td>0</td>\n",
       "      <td>Modified</td>\n",
       "    </tr>\n",
       "    <tr>\n",
       "      <th>1</th>\n",
       "      <td>API</td>\n",
       "      <td>Organic Search</td>\n",
       "      <td>0</td>\n",
       "      <td>0</td>\n",
       "      <td>5.0000</td>\n",
       "      <td>674</td>\n",
       "      <td>2.5000</td>\n",
       "      <td>Email Opened</td>\n",
       "      <td>Not Specified</td>\n",
       "      <td>Unemployed</td>\n",
       "      <td>Ringing</td>\n",
       "      <td>Mumbai</td>\n",
       "      <td>0</td>\n",
       "      <td>Email Opened</td>\n",
       "    </tr>\n",
       "    <tr>\n",
       "      <th>2</th>\n",
       "      <td>Landing Page Submission</td>\n",
       "      <td>Direct Traffic</td>\n",
       "      <td>0</td>\n",
       "      <td>1</td>\n",
       "      <td>2.0000</td>\n",
       "      <td>1532</td>\n",
       "      <td>2.0000</td>\n",
       "      <td>Email Opened</td>\n",
       "      <td>Business Administration</td>\n",
       "      <td>Student</td>\n",
       "      <td>Will revert after reading the email</td>\n",
       "      <td>Mumbai</td>\n",
       "      <td>1</td>\n",
       "      <td>Email Opened</td>\n",
       "    </tr>\n",
       "    <tr>\n",
       "      <th>3</th>\n",
       "      <td>Landing Page Submission</td>\n",
       "      <td>Direct Traffic</td>\n",
       "      <td>0</td>\n",
       "      <td>0</td>\n",
       "      <td>1.0000</td>\n",
       "      <td>305</td>\n",
       "      <td>1.0000</td>\n",
       "      <td>Other Activities</td>\n",
       "      <td>Media and Advertising</td>\n",
       "      <td>Unemployed</td>\n",
       "      <td>Ringing</td>\n",
       "      <td>Mumbai</td>\n",
       "      <td>0</td>\n",
       "      <td>Modified</td>\n",
       "    </tr>\n",
       "    <tr>\n",
       "      <th>4</th>\n",
       "      <td>Landing Page Submission</td>\n",
       "      <td>Google</td>\n",
       "      <td>0</td>\n",
       "      <td>1</td>\n",
       "      <td>2.0000</td>\n",
       "      <td>1428</td>\n",
       "      <td>1.0000</td>\n",
       "      <td>Converted to Lead</td>\n",
       "      <td>Not Specified</td>\n",
       "      <td>Unemployed</td>\n",
       "      <td>Will revert after reading the email</td>\n",
       "      <td>Mumbai</td>\n",
       "      <td>0</td>\n",
       "      <td>Modified</td>\n",
       "    </tr>\n",
       "  </tbody>\n",
       "</table>\n",
       "</div>"
      ],
      "text/plain": [
       "               Lead Origin     Lead Source  Do Not Email  Converted  TotalVisits  Total Time Spent on Website  Page Views Per Visit            Last Activity           Specialization What is your current occupation                                 Tags    City  A free copy of Mastering The Interview Last Notable Activity\n",
       "0  API                      Olark Chat      0             0         0.0000        0                           0.0000                 Page Visited on Website  Not Specified            Unemployed                      Interested in other courses          Mumbai  0                                       Modified            \n",
       "1  API                      Organic Search  0             0         5.0000        674                         2.5000                 Email Opened             Not Specified            Unemployed                      Ringing                              Mumbai  0                                       Email Opened        \n",
       "2  Landing Page Submission  Direct Traffic  0             1         2.0000        1532                        2.0000                 Email Opened             Business Administration  Student                         Will revert after reading the email  Mumbai  1                                       Email Opened        \n",
       "3  Landing Page Submission  Direct Traffic  0             0         1.0000        305                         1.0000                 Other Activities         Media and Advertising    Unemployed                      Ringing                              Mumbai  0                                       Modified            \n",
       "4  Landing Page Submission  Google          0             1         2.0000        1428                        1.0000                 Converted to Lead        Not Specified            Unemployed                      Will revert after reading the email  Mumbai  0                                       Modified            "
      ]
     },
     "execution_count": 69,
     "metadata": {},
     "output_type": "execute_result"
    }
   ],
   "source": [
    "# Mapping Yes and No categories as 1 and 0 respectively\n",
    "varlist =  ['Do Not Email','A free copy of Mastering The Interview']\n",
    "\n",
    "# Defining the map function\n",
    "def binary_map(x):\n",
    "    return x.map({'Yes': 1, \"No\": 0})\n",
    "\n",
    "# Applying the function to the housing list\n",
    "lead[varlist] = lead[varlist].apply(binary_map)\n",
    "lead.head()"
   ]
  },
  {
   "cell_type": "markdown",
   "metadata": {
    "id": "RcFjyUckAmZr"
   },
   "source": [
    "# Step 3: Dummy creation"
   ]
  },
  {
   "cell_type": "code",
   "execution_count": 70,
   "metadata": {
    "id": "w8cqSfaqAmZr"
   },
   "outputs": [],
   "source": [
    "# Getting dummies, dropping the first column and adding the results to the master dataframe\n",
    "dummy = pd.get_dummies(lead[['Lead Origin','What is your current occupation', 'City']], drop_first=True)\n",
    "lead = pd.concat([lead,dummy], axis = 1)\n",
    "\n",
    "# Getting dummies, dropping one column and adding the results to the master dataframe\n",
    "dummy = pd.get_dummies(lead['Specialization'], prefix  = 'Specialization')\n",
    "dummy = dummy.drop('Specialization_Not Specified', axis = 1)\n",
    "lead = pd.concat([lead, dummy], axis = 1)\n",
    "\n",
    "dummy = pd.get_dummies(lead['Lead Source'], prefix  = 'Lead Source')\n",
    "dummy = dummy.drop('Lead Source_Other Sources', axis = 1)\n",
    "lead = pd.concat([lead, dummy], axis = 1)\n",
    "\n",
    "dummy = pd.get_dummies(lead['Last Activity'], prefix  = 'Last Activity')\n",
    "dummy = dummy.drop('Last Activity_Other Activities', axis = 1)\n",
    "lead = pd.concat([lead, dummy], axis = 1)\n",
    "\n",
    "dummy = pd.get_dummies(lead['Last Notable Activity'], prefix  = 'Last Notable Activity')\n",
    "dummy = dummy.drop('Last Notable Activity_Unreachable', axis = 1)\n",
    "lead = pd.concat([lead, dummy], axis = 1)\n",
    "\n",
    "dummy = pd.get_dummies(lead['Tags'], prefix  = 'Tags')\n",
    "dummy = dummy.drop('Tags_Not Specified', axis = 1)\n",
    "lead = pd.concat([lead, dummy], axis = 1)"
   ]
  },
  {
   "cell_type": "code",
   "execution_count": 71,
   "metadata": {
    "id": "eQUjDV9UAmZu"
   },
   "outputs": [],
   "source": [
    "#dropping the original columns after dummy variable creation\n",
    "\n",
    "lead.drop(cat_cols, axis= 1, inplace= True)"
   ]
  },
  {
   "cell_type": "code",
   "execution_count": 72,
   "metadata": {
    "colab": {
     "base_uri": "https://localhost:8080/",
     "height": 0
    },
    "id": "4fyRzsHEAmZw",
    "outputId": "b04ef8c7-25e7-496d-8a15-636fcf0b34d3"
   },
   "outputs": [
    {
     "data": {
      "text/html": [
       "<div>\n",
       "<style scoped>\n",
       "    .dataframe tbody tr th:only-of-type {\n",
       "        vertical-align: middle;\n",
       "    }\n",
       "\n",
       "    .dataframe tbody tr th {\n",
       "        vertical-align: top;\n",
       "    }\n",
       "\n",
       "    .dataframe thead th {\n",
       "        text-align: right;\n",
       "    }\n",
       "</style>\n",
       "<table border=\"1\" class=\"dataframe\">\n",
       "  <thead>\n",
       "    <tr style=\"text-align: right;\">\n",
       "      <th></th>\n",
       "      <th>Converted</th>\n",
       "      <th>TotalVisits</th>\n",
       "      <th>Total Time Spent on Website</th>\n",
       "      <th>Page Views Per Visit</th>\n",
       "      <th>Lead Origin_Import and Form</th>\n",
       "      <th>Lead Origin_Landing Page Submission</th>\n",
       "      <th>What is your current occupation_Housewife</th>\n",
       "      <th>What is your current occupation_Other</th>\n",
       "      <th>What is your current occupation_Student</th>\n",
       "      <th>What is your current occupation_Unemployed</th>\n",
       "      <th>What is your current occupation_Working Professional</th>\n",
       "      <th>City_Other Cities</th>\n",
       "      <th>City_Other Cities of Maharashtra</th>\n",
       "      <th>City_Other Metro Cities</th>\n",
       "      <th>City_Thane &amp; Outskirts</th>\n",
       "      <th>City_Tier II Cities</th>\n",
       "      <th>Specialization_Banking, Investment And Insurance</th>\n",
       "      <th>Specialization_Business Administration</th>\n",
       "      <th>Specialization_E-Business</th>\n",
       "      <th>Specialization_E-COMMERCE</th>\n",
       "      <th>Specialization_International Business</th>\n",
       "      <th>Specialization_Management Specializations</th>\n",
       "      <th>Specialization_Media and Advertising</th>\n",
       "      <th>Specialization_Rural and Agribusiness</th>\n",
       "      <th>Specialization_Services Excellence</th>\n",
       "      <th>Specialization_Travel and Tourism</th>\n",
       "      <th>Lead Source_Direct Traffic</th>\n",
       "      <th>Lead Source_Google</th>\n",
       "      <th>Lead Source_Olark Chat</th>\n",
       "      <th>Lead Source_Organic Search</th>\n",
       "      <th>Last Activity_Converted to Lead</th>\n",
       "      <th>Last Activity_Email Bounced</th>\n",
       "      <th>Last Activity_Email Link Clicked</th>\n",
       "      <th>Last Activity_Email Opened</th>\n",
       "      <th>Last Activity_Form Submitted on Website</th>\n",
       "      <th>Last Activity_Olark Chat Conversation</th>\n",
       "      <th>Last Activity_Page Visited on Website</th>\n",
       "      <th>Last Activity_SMS Sent</th>\n",
       "      <th>Last Notable Activity_Email Bounced</th>\n",
       "      <th>Last Notable Activity_Email Link Clicked</th>\n",
       "      <th>Last Notable Activity_Email Opened</th>\n",
       "      <th>Last Notable Activity_Had a Phone Conversation</th>\n",
       "      <th>Last Notable Activity_Modified</th>\n",
       "      <th>Last Notable Activity_Olark Chat Conversation</th>\n",
       "      <th>Last Notable Activity_Page Visited on Website</th>\n",
       "      <th>Last Notable Activity_SMS Sent</th>\n",
       "      <th>Last Notable Activity_Unsubscribed</th>\n",
       "      <th>Tags_Busy</th>\n",
       "      <th>Tags_Closed by Horizzon</th>\n",
       "      <th>Tags_Interested in other courses</th>\n",
       "      <th>Tags_Lost to EINS</th>\n",
       "      <th>Tags_Other_Tags</th>\n",
       "      <th>Tags_Ringing</th>\n",
       "      <th>Tags_Will revert after reading the email</th>\n",
       "    </tr>\n",
       "  </thead>\n",
       "  <tbody>\n",
       "    <tr>\n",
       "      <th>count</th>\n",
       "      <td>8636.0000</td>\n",
       "      <td>8636.0000</td>\n",
       "      <td>8636.0000</td>\n",
       "      <td>8636.0000</td>\n",
       "      <td>8636.0000</td>\n",
       "      <td>8636.0000</td>\n",
       "      <td>8636.0000</td>\n",
       "      <td>8636.0000</td>\n",
       "      <td>8636.0000</td>\n",
       "      <td>8636.0000</td>\n",
       "      <td>8636.0000</td>\n",
       "      <td>8636.0000</td>\n",
       "      <td>8636.0000</td>\n",
       "      <td>8636.0000</td>\n",
       "      <td>8636.0000</td>\n",
       "      <td>8636.0000</td>\n",
       "      <td>8636.0000</td>\n",
       "      <td>8636.0000</td>\n",
       "      <td>8636.0000</td>\n",
       "      <td>8636.0000</td>\n",
       "      <td>8636.0000</td>\n",
       "      <td>8636.0000</td>\n",
       "      <td>8636.0000</td>\n",
       "      <td>8636.0000</td>\n",
       "      <td>8636.0000</td>\n",
       "      <td>8636.0000</td>\n",
       "      <td>8636.0000</td>\n",
       "      <td>8636.0000</td>\n",
       "      <td>8636.0000</td>\n",
       "      <td>8636.0000</td>\n",
       "      <td>8636.0000</td>\n",
       "      <td>8636.0000</td>\n",
       "      <td>8636.0000</td>\n",
       "      <td>8636.0000</td>\n",
       "      <td>8636.0000</td>\n",
       "      <td>8636.0000</td>\n",
       "      <td>8636.0000</td>\n",
       "      <td>8636.0000</td>\n",
       "      <td>8636.0000</td>\n",
       "      <td>8636.0000</td>\n",
       "      <td>8636.0000</td>\n",
       "      <td>8636.0000</td>\n",
       "      <td>8636.0000</td>\n",
       "      <td>8636.0000</td>\n",
       "      <td>8636.0000</td>\n",
       "      <td>8636.0000</td>\n",
       "      <td>8636.0000</td>\n",
       "      <td>8636.0000</td>\n",
       "      <td>8636.0000</td>\n",
       "      <td>8636.0000</td>\n",
       "      <td>8636.0000</td>\n",
       "      <td>8636.0000</td>\n",
       "      <td>8636.0000</td>\n",
       "      <td>8636.0000</td>\n",
       "    </tr>\n",
       "    <tr>\n",
       "      <th>mean</th>\n",
       "      <td>0.3751</td>\n",
       "      <td>2.8132</td>\n",
       "      <td>467.1207</td>\n",
       "      <td>2.2144</td>\n",
       "      <td>0.0735</td>\n",
       "      <td>0.5262</td>\n",
       "      <td>0.0010</td>\n",
       "      <td>0.0014</td>\n",
       "      <td>0.0232</td>\n",
       "      <td>0.8997</td>\n",
       "      <td>0.0740</td>\n",
       "      <td>0.0738</td>\n",
       "      <td>0.0489</td>\n",
       "      <td>0.0403</td>\n",
       "      <td>0.0797</td>\n",
       "      <td>0.0081</td>\n",
       "      <td>0.0358</td>\n",
       "      <td>0.0430</td>\n",
       "      <td>0.0064</td>\n",
       "      <td>0.0118</td>\n",
       "      <td>0.0191</td>\n",
       "      <td>0.4575</td>\n",
       "      <td>0.0214</td>\n",
       "      <td>0.0074</td>\n",
       "      <td>0.0039</td>\n",
       "      <td>0.0199</td>\n",
       "      <td>0.2769</td>\n",
       "      <td>0.3181</td>\n",
       "      <td>0.2011</td>\n",
       "      <td>0.1165</td>\n",
       "      <td>0.0494</td>\n",
       "      <td>0.0359</td>\n",
       "      <td>0.0295</td>\n",
       "      <td>0.3784</td>\n",
       "      <td>0.0127</td>\n",
       "      <td>0.1100</td>\n",
       "      <td>0.0599</td>\n",
       "      <td>0.3035</td>\n",
       "      <td>0.0071</td>\n",
       "      <td>0.0190</td>\n",
       "      <td>0.3106</td>\n",
       "      <td>0.0012</td>\n",
       "      <td>0.3650</td>\n",
       "      <td>0.0203</td>\n",
       "      <td>0.0274</td>\n",
       "      <td>0.2407</td>\n",
       "      <td>0.0052</td>\n",
       "      <td>0.0200</td>\n",
       "      <td>0.0305</td>\n",
       "      <td>0.0557</td>\n",
       "      <td>0.0188</td>\n",
       "      <td>0.1532</td>\n",
       "      <td>0.1303</td>\n",
       "      <td>0.2227</td>\n",
       "    </tr>\n",
       "    <tr>\n",
       "      <th>std</th>\n",
       "      <td>0.4842</td>\n",
       "      <td>2.3467</td>\n",
       "      <td>540.2199</td>\n",
       "      <td>1.8854</td>\n",
       "      <td>0.2610</td>\n",
       "      <td>0.4993</td>\n",
       "      <td>0.0323</td>\n",
       "      <td>0.0373</td>\n",
       "      <td>0.1504</td>\n",
       "      <td>0.3004</td>\n",
       "      <td>0.2618</td>\n",
       "      <td>0.2614</td>\n",
       "      <td>0.2156</td>\n",
       "      <td>0.1967</td>\n",
       "      <td>0.2708</td>\n",
       "      <td>0.0897</td>\n",
       "      <td>0.1858</td>\n",
       "      <td>0.2028</td>\n",
       "      <td>0.0796</td>\n",
       "      <td>0.1080</td>\n",
       "      <td>0.1369</td>\n",
       "      <td>0.4982</td>\n",
       "      <td>0.1448</td>\n",
       "      <td>0.0858</td>\n",
       "      <td>0.0626</td>\n",
       "      <td>0.1397</td>\n",
       "      <td>0.4475</td>\n",
       "      <td>0.4658</td>\n",
       "      <td>0.4009</td>\n",
       "      <td>0.3208</td>\n",
       "      <td>0.2168</td>\n",
       "      <td>0.1860</td>\n",
       "      <td>0.1693</td>\n",
       "      <td>0.4850</td>\n",
       "      <td>0.1121</td>\n",
       "      <td>0.3129</td>\n",
       "      <td>0.2373</td>\n",
       "      <td>0.4598</td>\n",
       "      <td>0.0838</td>\n",
       "      <td>0.1365</td>\n",
       "      <td>0.4627</td>\n",
       "      <td>0.0340</td>\n",
       "      <td>0.4815</td>\n",
       "      <td>0.1409</td>\n",
       "      <td>0.1634</td>\n",
       "      <td>0.4276</td>\n",
       "      <td>0.0720</td>\n",
       "      <td>0.1401</td>\n",
       "      <td>0.1718</td>\n",
       "      <td>0.2293</td>\n",
       "      <td>0.1357</td>\n",
       "      <td>0.3602</td>\n",
       "      <td>0.3366</td>\n",
       "      <td>0.4161</td>\n",
       "    </tr>\n",
       "    <tr>\n",
       "      <th>min</th>\n",
       "      <td>0.0000</td>\n",
       "      <td>0.0000</td>\n",
       "      <td>0.0000</td>\n",
       "      <td>0.0000</td>\n",
       "      <td>0.0000</td>\n",
       "      <td>0.0000</td>\n",
       "      <td>0.0000</td>\n",
       "      <td>0.0000</td>\n",
       "      <td>0.0000</td>\n",
       "      <td>0.0000</td>\n",
       "      <td>0.0000</td>\n",
       "      <td>0.0000</td>\n",
       "      <td>0.0000</td>\n",
       "      <td>0.0000</td>\n",
       "      <td>0.0000</td>\n",
       "      <td>0.0000</td>\n",
       "      <td>0.0000</td>\n",
       "      <td>0.0000</td>\n",
       "      <td>0.0000</td>\n",
       "      <td>0.0000</td>\n",
       "      <td>0.0000</td>\n",
       "      <td>0.0000</td>\n",
       "      <td>0.0000</td>\n",
       "      <td>0.0000</td>\n",
       "      <td>0.0000</td>\n",
       "      <td>0.0000</td>\n",
       "      <td>0.0000</td>\n",
       "      <td>0.0000</td>\n",
       "      <td>0.0000</td>\n",
       "      <td>0.0000</td>\n",
       "      <td>0.0000</td>\n",
       "      <td>0.0000</td>\n",
       "      <td>0.0000</td>\n",
       "      <td>0.0000</td>\n",
       "      <td>0.0000</td>\n",
       "      <td>0.0000</td>\n",
       "      <td>0.0000</td>\n",
       "      <td>0.0000</td>\n",
       "      <td>0.0000</td>\n",
       "      <td>0.0000</td>\n",
       "      <td>0.0000</td>\n",
       "      <td>0.0000</td>\n",
       "      <td>0.0000</td>\n",
       "      <td>0.0000</td>\n",
       "      <td>0.0000</td>\n",
       "      <td>0.0000</td>\n",
       "      <td>0.0000</td>\n",
       "      <td>0.0000</td>\n",
       "      <td>0.0000</td>\n",
       "      <td>0.0000</td>\n",
       "      <td>0.0000</td>\n",
       "      <td>0.0000</td>\n",
       "      <td>0.0000</td>\n",
       "      <td>0.0000</td>\n",
       "    </tr>\n",
       "    <tr>\n",
       "      <th>25%</th>\n",
       "      <td>0.0000</td>\n",
       "      <td>0.0000</td>\n",
       "      <td>0.0000</td>\n",
       "      <td>0.0000</td>\n",
       "      <td>0.0000</td>\n",
       "      <td>0.0000</td>\n",
       "      <td>0.0000</td>\n",
       "      <td>0.0000</td>\n",
       "      <td>0.0000</td>\n",
       "      <td>1.0000</td>\n",
       "      <td>0.0000</td>\n",
       "      <td>0.0000</td>\n",
       "      <td>0.0000</td>\n",
       "      <td>0.0000</td>\n",
       "      <td>0.0000</td>\n",
       "      <td>0.0000</td>\n",
       "      <td>0.0000</td>\n",
       "      <td>0.0000</td>\n",
       "      <td>0.0000</td>\n",
       "      <td>0.0000</td>\n",
       "      <td>0.0000</td>\n",
       "      <td>0.0000</td>\n",
       "      <td>0.0000</td>\n",
       "      <td>0.0000</td>\n",
       "      <td>0.0000</td>\n",
       "      <td>0.0000</td>\n",
       "      <td>0.0000</td>\n",
       "      <td>0.0000</td>\n",
       "      <td>0.0000</td>\n",
       "      <td>0.0000</td>\n",
       "      <td>0.0000</td>\n",
       "      <td>0.0000</td>\n",
       "      <td>0.0000</td>\n",
       "      <td>0.0000</td>\n",
       "      <td>0.0000</td>\n",
       "      <td>0.0000</td>\n",
       "      <td>0.0000</td>\n",
       "      <td>0.0000</td>\n",
       "      <td>0.0000</td>\n",
       "      <td>0.0000</td>\n",
       "      <td>0.0000</td>\n",
       "      <td>0.0000</td>\n",
       "      <td>0.0000</td>\n",
       "      <td>0.0000</td>\n",
       "      <td>0.0000</td>\n",
       "      <td>0.0000</td>\n",
       "      <td>0.0000</td>\n",
       "      <td>0.0000</td>\n",
       "      <td>0.0000</td>\n",
       "      <td>0.0000</td>\n",
       "      <td>0.0000</td>\n",
       "      <td>0.0000</td>\n",
       "      <td>0.0000</td>\n",
       "      <td>0.0000</td>\n",
       "    </tr>\n",
       "    <tr>\n",
       "      <th>50%</th>\n",
       "      <td>0.0000</td>\n",
       "      <td>3.0000</td>\n",
       "      <td>232.0000</td>\n",
       "      <td>2.0000</td>\n",
       "      <td>0.0000</td>\n",
       "      <td>1.0000</td>\n",
       "      <td>0.0000</td>\n",
       "      <td>0.0000</td>\n",
       "      <td>0.0000</td>\n",
       "      <td>1.0000</td>\n",
       "      <td>0.0000</td>\n",
       "      <td>0.0000</td>\n",
       "      <td>0.0000</td>\n",
       "      <td>0.0000</td>\n",
       "      <td>0.0000</td>\n",
       "      <td>0.0000</td>\n",
       "      <td>0.0000</td>\n",
       "      <td>0.0000</td>\n",
       "      <td>0.0000</td>\n",
       "      <td>0.0000</td>\n",
       "      <td>0.0000</td>\n",
       "      <td>0.0000</td>\n",
       "      <td>0.0000</td>\n",
       "      <td>0.0000</td>\n",
       "      <td>0.0000</td>\n",
       "      <td>0.0000</td>\n",
       "      <td>0.0000</td>\n",
       "      <td>0.0000</td>\n",
       "      <td>0.0000</td>\n",
       "      <td>0.0000</td>\n",
       "      <td>0.0000</td>\n",
       "      <td>0.0000</td>\n",
       "      <td>0.0000</td>\n",
       "      <td>0.0000</td>\n",
       "      <td>0.0000</td>\n",
       "      <td>0.0000</td>\n",
       "      <td>0.0000</td>\n",
       "      <td>0.0000</td>\n",
       "      <td>0.0000</td>\n",
       "      <td>0.0000</td>\n",
       "      <td>0.0000</td>\n",
       "      <td>0.0000</td>\n",
       "      <td>0.0000</td>\n",
       "      <td>0.0000</td>\n",
       "      <td>0.0000</td>\n",
       "      <td>0.0000</td>\n",
       "      <td>0.0000</td>\n",
       "      <td>0.0000</td>\n",
       "      <td>0.0000</td>\n",
       "      <td>0.0000</td>\n",
       "      <td>0.0000</td>\n",
       "      <td>0.0000</td>\n",
       "      <td>0.0000</td>\n",
       "      <td>0.0000</td>\n",
       "    </tr>\n",
       "    <tr>\n",
       "      <th>75%</th>\n",
       "      <td>1.0000</td>\n",
       "      <td>4.0000</td>\n",
       "      <td>885.0000</td>\n",
       "      <td>3.0000</td>\n",
       "      <td>0.0000</td>\n",
       "      <td>1.0000</td>\n",
       "      <td>0.0000</td>\n",
       "      <td>0.0000</td>\n",
       "      <td>0.0000</td>\n",
       "      <td>1.0000</td>\n",
       "      <td>0.0000</td>\n",
       "      <td>0.0000</td>\n",
       "      <td>0.0000</td>\n",
       "      <td>0.0000</td>\n",
       "      <td>0.0000</td>\n",
       "      <td>0.0000</td>\n",
       "      <td>0.0000</td>\n",
       "      <td>0.0000</td>\n",
       "      <td>0.0000</td>\n",
       "      <td>0.0000</td>\n",
       "      <td>0.0000</td>\n",
       "      <td>1.0000</td>\n",
       "      <td>0.0000</td>\n",
       "      <td>0.0000</td>\n",
       "      <td>0.0000</td>\n",
       "      <td>0.0000</td>\n",
       "      <td>1.0000</td>\n",
       "      <td>1.0000</td>\n",
       "      <td>0.0000</td>\n",
       "      <td>0.0000</td>\n",
       "      <td>0.0000</td>\n",
       "      <td>0.0000</td>\n",
       "      <td>0.0000</td>\n",
       "      <td>1.0000</td>\n",
       "      <td>0.0000</td>\n",
       "      <td>0.0000</td>\n",
       "      <td>0.0000</td>\n",
       "      <td>1.0000</td>\n",
       "      <td>0.0000</td>\n",
       "      <td>0.0000</td>\n",
       "      <td>1.0000</td>\n",
       "      <td>0.0000</td>\n",
       "      <td>1.0000</td>\n",
       "      <td>0.0000</td>\n",
       "      <td>0.0000</td>\n",
       "      <td>0.0000</td>\n",
       "      <td>0.0000</td>\n",
       "      <td>0.0000</td>\n",
       "      <td>0.0000</td>\n",
       "      <td>0.0000</td>\n",
       "      <td>0.0000</td>\n",
       "      <td>0.0000</td>\n",
       "      <td>0.0000</td>\n",
       "      <td>0.0000</td>\n",
       "    </tr>\n",
       "    <tr>\n",
       "      <th>max</th>\n",
       "      <td>1.0000</td>\n",
       "      <td>9.0000</td>\n",
       "      <td>2272.0000</td>\n",
       "      <td>9.0000</td>\n",
       "      <td>1.0000</td>\n",
       "      <td>1.0000</td>\n",
       "      <td>1.0000</td>\n",
       "      <td>1.0000</td>\n",
       "      <td>1.0000</td>\n",
       "      <td>1.0000</td>\n",
       "      <td>1.0000</td>\n",
       "      <td>1.0000</td>\n",
       "      <td>1.0000</td>\n",
       "      <td>1.0000</td>\n",
       "      <td>1.0000</td>\n",
       "      <td>1.0000</td>\n",
       "      <td>1.0000</td>\n",
       "      <td>1.0000</td>\n",
       "      <td>1.0000</td>\n",
       "      <td>1.0000</td>\n",
       "      <td>1.0000</td>\n",
       "      <td>1.0000</td>\n",
       "      <td>1.0000</td>\n",
       "      <td>1.0000</td>\n",
       "      <td>1.0000</td>\n",
       "      <td>1.0000</td>\n",
       "      <td>1.0000</td>\n",
       "      <td>1.0000</td>\n",
       "      <td>1.0000</td>\n",
       "      <td>1.0000</td>\n",
       "      <td>1.0000</td>\n",
       "      <td>1.0000</td>\n",
       "      <td>1.0000</td>\n",
       "      <td>1.0000</td>\n",
       "      <td>1.0000</td>\n",
       "      <td>1.0000</td>\n",
       "      <td>1.0000</td>\n",
       "      <td>1.0000</td>\n",
       "      <td>1.0000</td>\n",
       "      <td>1.0000</td>\n",
       "      <td>1.0000</td>\n",
       "      <td>1.0000</td>\n",
       "      <td>1.0000</td>\n",
       "      <td>1.0000</td>\n",
       "      <td>1.0000</td>\n",
       "      <td>1.0000</td>\n",
       "      <td>1.0000</td>\n",
       "      <td>1.0000</td>\n",
       "      <td>1.0000</td>\n",
       "      <td>1.0000</td>\n",
       "      <td>1.0000</td>\n",
       "      <td>1.0000</td>\n",
       "      <td>1.0000</td>\n",
       "      <td>1.0000</td>\n",
       "    </tr>\n",
       "  </tbody>\n",
       "</table>\n",
       "</div>"
      ],
      "text/plain": [
       "       Converted  TotalVisits  Total Time Spent on Website  Page Views Per Visit  Lead Origin_Import and Form  Lead Origin_Landing Page Submission  What is your current occupation_Housewife  What is your current occupation_Other  What is your current occupation_Student  What is your current occupation_Unemployed  What is your current occupation_Working Professional  City_Other Cities  City_Other Cities of Maharashtra  City_Other Metro Cities  City_Thane & Outskirts  City_Tier II Cities  Specialization_Banking, Investment And Insurance  Specialization_Business Administration  Specialization_E-Business  Specialization_E-COMMERCE  Specialization_International Business  Specialization_Management Specializations  Specialization_Media and Advertising  Specialization_Rural and Agribusiness  Specialization_Services Excellence  Specialization_Travel and Tourism  Lead Source_Direct Traffic  Lead Source_Google  Lead Source_Olark Chat  Lead Source_Organic Search  Last Activity_Converted to Lead  Last Activity_Email Bounced  Last Activity_Email Link Clicked  Last Activity_Email Opened  Last Activity_Form Submitted on Website  Last Activity_Olark Chat Conversation  Last Activity_Page Visited on Website  Last Activity_SMS Sent  Last Notable Activity_Email Bounced  Last Notable Activity_Email Link Clicked  Last Notable Activity_Email Opened  Last Notable Activity_Had a Phone Conversation  Last Notable Activity_Modified  Last Notable Activity_Olark Chat Conversation  Last Notable Activity_Page Visited on Website  Last Notable Activity_SMS Sent  Last Notable Activity_Unsubscribed  Tags_Busy  Tags_Closed by Horizzon  Tags_Interested in other courses  Tags_Lost to EINS  Tags_Other_Tags  Tags_Ringing  Tags_Will revert after reading the email\n",
       "count 8636.0000  8636.0000    8636.0000                    8636.0000             8636.0000                    8636.0000                            8636.0000                                  8636.0000                              8636.0000                                8636.0000                                   8636.0000                                             8636.0000          8636.0000                         8636.0000                8636.0000               8636.0000            8636.0000                                         8636.0000                               8636.0000                  8636.0000                  8636.0000                              8636.0000                                  8636.0000                             8636.0000                              8636.0000                           8636.0000                          8636.0000                   8636.0000           8636.0000               8636.0000                   8636.0000                        8636.0000                    8636.0000                         8636.0000                   8636.0000                                8636.0000                              8636.0000                              8636.0000               8636.0000                            8636.0000                                 8636.0000                           8636.0000                                       8636.0000                       8636.0000                                      8636.0000                                      8636.0000                       8636.0000                           8636.0000  8636.0000                8636.0000                         8636.0000          8636.0000        8636.0000     8636.0000                                \n",
       "mean  0.3751     2.8132       467.1207                     2.2144                0.0735                       0.5262                               0.0010                                     0.0014                                 0.0232                                   0.8997                                      0.0740                                                0.0738             0.0489                            0.0403                   0.0797                  0.0081               0.0358                                            0.0430                                  0.0064                     0.0118                     0.0191                                 0.4575                                     0.0214                                0.0074                                 0.0039                              0.0199                             0.2769                      0.3181              0.2011                  0.1165                      0.0494                           0.0359                       0.0295                            0.3784                      0.0127                                   0.1100                                 0.0599                                 0.3035                  0.0071                               0.0190                                    0.3106                              0.0012                                          0.3650                          0.0203                                         0.0274                                         0.2407                          0.0052                              0.0200     0.0305                   0.0557                            0.0188             0.1532           0.1303        0.2227                                   \n",
       "std   0.4842     2.3467       540.2199                     1.8854                0.2610                       0.4993                               0.0323                                     0.0373                                 0.1504                                   0.3004                                      0.2618                                                0.2614             0.2156                            0.1967                   0.2708                  0.0897               0.1858                                            0.2028                                  0.0796                     0.1080                     0.1369                                 0.4982                                     0.1448                                0.0858                                 0.0626                              0.1397                             0.4475                      0.4658              0.4009                  0.3208                      0.2168                           0.1860                       0.1693                            0.4850                      0.1121                                   0.3129                                 0.2373                                 0.4598                  0.0838                               0.1365                                    0.4627                              0.0340                                          0.4815                          0.1409                                         0.1634                                         0.4276                          0.0720                              0.1401     0.1718                   0.2293                            0.1357             0.3602           0.3366        0.4161                                   \n",
       "min   0.0000     0.0000       0.0000                       0.0000                0.0000                       0.0000                               0.0000                                     0.0000                                 0.0000                                   0.0000                                      0.0000                                                0.0000             0.0000                            0.0000                   0.0000                  0.0000               0.0000                                            0.0000                                  0.0000                     0.0000                     0.0000                                 0.0000                                     0.0000                                0.0000                                 0.0000                              0.0000                             0.0000                      0.0000              0.0000                  0.0000                      0.0000                           0.0000                       0.0000                            0.0000                      0.0000                                   0.0000                                 0.0000                                 0.0000                  0.0000                               0.0000                                    0.0000                              0.0000                                          0.0000                          0.0000                                         0.0000                                         0.0000                          0.0000                              0.0000     0.0000                   0.0000                            0.0000             0.0000           0.0000        0.0000                                   \n",
       "25%   0.0000     0.0000       0.0000                       0.0000                0.0000                       0.0000                               0.0000                                     0.0000                                 0.0000                                   1.0000                                      0.0000                                                0.0000             0.0000                            0.0000                   0.0000                  0.0000               0.0000                                            0.0000                                  0.0000                     0.0000                     0.0000                                 0.0000                                     0.0000                                0.0000                                 0.0000                              0.0000                             0.0000                      0.0000              0.0000                  0.0000                      0.0000                           0.0000                       0.0000                            0.0000                      0.0000                                   0.0000                                 0.0000                                 0.0000                  0.0000                               0.0000                                    0.0000                              0.0000                                          0.0000                          0.0000                                         0.0000                                         0.0000                          0.0000                              0.0000     0.0000                   0.0000                            0.0000             0.0000           0.0000        0.0000                                   \n",
       "50%   0.0000     3.0000       232.0000                     2.0000                0.0000                       1.0000                               0.0000                                     0.0000                                 0.0000                                   1.0000                                      0.0000                                                0.0000             0.0000                            0.0000                   0.0000                  0.0000               0.0000                                            0.0000                                  0.0000                     0.0000                     0.0000                                 0.0000                                     0.0000                                0.0000                                 0.0000                              0.0000                             0.0000                      0.0000              0.0000                  0.0000                      0.0000                           0.0000                       0.0000                            0.0000                      0.0000                                   0.0000                                 0.0000                                 0.0000                  0.0000                               0.0000                                    0.0000                              0.0000                                          0.0000                          0.0000                                         0.0000                                         0.0000                          0.0000                              0.0000     0.0000                   0.0000                            0.0000             0.0000           0.0000        0.0000                                   \n",
       "75%   1.0000     4.0000       885.0000                     3.0000                0.0000                       1.0000                               0.0000                                     0.0000                                 0.0000                                   1.0000                                      0.0000                                                0.0000             0.0000                            0.0000                   0.0000                  0.0000               0.0000                                            0.0000                                  0.0000                     0.0000                     0.0000                                 1.0000                                     0.0000                                0.0000                                 0.0000                              0.0000                             1.0000                      1.0000              0.0000                  0.0000                      0.0000                           0.0000                       0.0000                            1.0000                      0.0000                                   0.0000                                 0.0000                                 1.0000                  0.0000                               0.0000                                    1.0000                              0.0000                                          1.0000                          0.0000                                         0.0000                                         0.0000                          0.0000                              0.0000     0.0000                   0.0000                            0.0000             0.0000           0.0000        0.0000                                   \n",
       "max   1.0000     9.0000       2272.0000                    9.0000                1.0000                       1.0000                               1.0000                                     1.0000                                 1.0000                                   1.0000                                      1.0000                                                1.0000             1.0000                            1.0000                   1.0000                  1.0000               1.0000                                            1.0000                                  1.0000                     1.0000                     1.0000                                 1.0000                                     1.0000                                1.0000                                 1.0000                              1.0000                             1.0000                      1.0000              1.0000                  1.0000                      1.0000                           1.0000                       1.0000                            1.0000                      1.0000                                   1.0000                                 1.0000                                 1.0000                  1.0000                               1.0000                                    1.0000                              1.0000                                          1.0000                          1.0000                                         1.0000                                         1.0000                          1.0000                              1.0000     1.0000                   1.0000                            1.0000             1.0000           1.0000        1.0000                                   "
      ]
     },
     "execution_count": 72,
     "metadata": {},
     "output_type": "execute_result"
    }
   ],
   "source": [
    "lead.describe()"
   ]
  },
  {
   "cell_type": "markdown",
   "metadata": {
    "id": "MVZeczHyAmZy"
   },
   "source": [
    "# Step 4: Model Building"
   ]
  },
  {
   "cell_type": "markdown",
   "metadata": {
    "id": "3nBsL30JAmZz"
   },
   "source": [
    "## Train-Test Split & Logistic Regression Model Building:"
   ]
  },
  {
   "cell_type": "code",
   "execution_count": 73,
   "metadata": {
    "colab": {
     "base_uri": "https://localhost:8080/",
     "height": 87
    },
    "id": "aCaIs0wVAmZz",
    "outputId": "e478ea2e-c608-4457-c77a-4659cd8bb36d"
   },
   "outputs": [
    {
     "data": {
      "text/plain": [
       "0    0\n",
       "1    0\n",
       "2    1\n",
       "Name: Converted, dtype: int64"
      ]
     },
     "execution_count": 73,
     "metadata": {},
     "output_type": "execute_result"
    }
   ],
   "source": [
    "# Assigning Converted variable to y \n",
    "\n",
    "y= lead.pop('Converted')\n",
    "y.head(3)"
   ]
  },
  {
   "cell_type": "code",
   "execution_count": 74,
   "metadata": {
    "colab": {
     "base_uri": "https://localhost:8080/",
     "height": 224
    },
    "id": "XRygDVHYAmZ2",
    "outputId": "4f742161-f2aa-427a-8e60-0160fd048cab",
    "scrolled": true
   },
   "outputs": [
    {
     "data": {
      "text/html": [
       "<div>\n",
       "<style scoped>\n",
       "    .dataframe tbody tr th:only-of-type {\n",
       "        vertical-align: middle;\n",
       "    }\n",
       "\n",
       "    .dataframe tbody tr th {\n",
       "        vertical-align: top;\n",
       "    }\n",
       "\n",
       "    .dataframe thead th {\n",
       "        text-align: right;\n",
       "    }\n",
       "</style>\n",
       "<table border=\"1\" class=\"dataframe\">\n",
       "  <thead>\n",
       "    <tr style=\"text-align: right;\">\n",
       "      <th></th>\n",
       "      <th>TotalVisits</th>\n",
       "      <th>Total Time Spent on Website</th>\n",
       "      <th>Page Views Per Visit</th>\n",
       "      <th>Lead Origin_Import and Form</th>\n",
       "      <th>Lead Origin_Landing Page Submission</th>\n",
       "      <th>What is your current occupation_Housewife</th>\n",
       "      <th>What is your current occupation_Other</th>\n",
       "      <th>What is your current occupation_Student</th>\n",
       "      <th>What is your current occupation_Unemployed</th>\n",
       "      <th>What is your current occupation_Working Professional</th>\n",
       "      <th>City_Other Cities</th>\n",
       "      <th>City_Other Cities of Maharashtra</th>\n",
       "      <th>City_Other Metro Cities</th>\n",
       "      <th>City_Thane &amp; Outskirts</th>\n",
       "      <th>City_Tier II Cities</th>\n",
       "      <th>Specialization_Banking, Investment And Insurance</th>\n",
       "      <th>Specialization_Business Administration</th>\n",
       "      <th>Specialization_E-Business</th>\n",
       "      <th>Specialization_E-COMMERCE</th>\n",
       "      <th>Specialization_International Business</th>\n",
       "      <th>Specialization_Management Specializations</th>\n",
       "      <th>Specialization_Media and Advertising</th>\n",
       "      <th>Specialization_Rural and Agribusiness</th>\n",
       "      <th>Specialization_Services Excellence</th>\n",
       "      <th>Specialization_Travel and Tourism</th>\n",
       "      <th>Lead Source_Direct Traffic</th>\n",
       "      <th>Lead Source_Google</th>\n",
       "      <th>Lead Source_Olark Chat</th>\n",
       "      <th>Lead Source_Organic Search</th>\n",
       "      <th>Last Activity_Converted to Lead</th>\n",
       "      <th>Last Activity_Email Bounced</th>\n",
       "      <th>Last Activity_Email Link Clicked</th>\n",
       "      <th>Last Activity_Email Opened</th>\n",
       "      <th>Last Activity_Form Submitted on Website</th>\n",
       "      <th>Last Activity_Olark Chat Conversation</th>\n",
       "      <th>Last Activity_Page Visited on Website</th>\n",
       "      <th>Last Activity_SMS Sent</th>\n",
       "      <th>Last Notable Activity_Email Bounced</th>\n",
       "      <th>Last Notable Activity_Email Link Clicked</th>\n",
       "      <th>Last Notable Activity_Email Opened</th>\n",
       "      <th>Last Notable Activity_Had a Phone Conversation</th>\n",
       "      <th>Last Notable Activity_Modified</th>\n",
       "      <th>Last Notable Activity_Olark Chat Conversation</th>\n",
       "      <th>Last Notable Activity_Page Visited on Website</th>\n",
       "      <th>Last Notable Activity_SMS Sent</th>\n",
       "      <th>Last Notable Activity_Unsubscribed</th>\n",
       "      <th>Tags_Busy</th>\n",
       "      <th>Tags_Closed by Horizzon</th>\n",
       "      <th>Tags_Interested in other courses</th>\n",
       "      <th>Tags_Lost to EINS</th>\n",
       "      <th>Tags_Other_Tags</th>\n",
       "      <th>Tags_Ringing</th>\n",
       "      <th>Tags_Will revert after reading the email</th>\n",
       "    </tr>\n",
       "  </thead>\n",
       "  <tbody>\n",
       "    <tr>\n",
       "      <th>0</th>\n",
       "      <td>0.0000</td>\n",
       "      <td>0</td>\n",
       "      <td>0.0000</td>\n",
       "      <td>0</td>\n",
       "      <td>0</td>\n",
       "      <td>0</td>\n",
       "      <td>0</td>\n",
       "      <td>0</td>\n",
       "      <td>1</td>\n",
       "      <td>0</td>\n",
       "      <td>0</td>\n",
       "      <td>0</td>\n",
       "      <td>0</td>\n",
       "      <td>0</td>\n",
       "      <td>0</td>\n",
       "      <td>0</td>\n",
       "      <td>0</td>\n",
       "      <td>0</td>\n",
       "      <td>0</td>\n",
       "      <td>0</td>\n",
       "      <td>0</td>\n",
       "      <td>0</td>\n",
       "      <td>0</td>\n",
       "      <td>0</td>\n",
       "      <td>0</td>\n",
       "      <td>0</td>\n",
       "      <td>0</td>\n",
       "      <td>1</td>\n",
       "      <td>0</td>\n",
       "      <td>0</td>\n",
       "      <td>0</td>\n",
       "      <td>0</td>\n",
       "      <td>0</td>\n",
       "      <td>0</td>\n",
       "      <td>0</td>\n",
       "      <td>1</td>\n",
       "      <td>0</td>\n",
       "      <td>0</td>\n",
       "      <td>0</td>\n",
       "      <td>0</td>\n",
       "      <td>0</td>\n",
       "      <td>1</td>\n",
       "      <td>0</td>\n",
       "      <td>0</td>\n",
       "      <td>0</td>\n",
       "      <td>0</td>\n",
       "      <td>0</td>\n",
       "      <td>0</td>\n",
       "      <td>1</td>\n",
       "      <td>0</td>\n",
       "      <td>0</td>\n",
       "      <td>0</td>\n",
       "      <td>0</td>\n",
       "    </tr>\n",
       "    <tr>\n",
       "      <th>1</th>\n",
       "      <td>5.0000</td>\n",
       "      <td>674</td>\n",
       "      <td>2.5000</td>\n",
       "      <td>0</td>\n",
       "      <td>0</td>\n",
       "      <td>0</td>\n",
       "      <td>0</td>\n",
       "      <td>0</td>\n",
       "      <td>1</td>\n",
       "      <td>0</td>\n",
       "      <td>0</td>\n",
       "      <td>0</td>\n",
       "      <td>0</td>\n",
       "      <td>0</td>\n",
       "      <td>0</td>\n",
       "      <td>0</td>\n",
       "      <td>0</td>\n",
       "      <td>0</td>\n",
       "      <td>0</td>\n",
       "      <td>0</td>\n",
       "      <td>0</td>\n",
       "      <td>0</td>\n",
       "      <td>0</td>\n",
       "      <td>0</td>\n",
       "      <td>0</td>\n",
       "      <td>0</td>\n",
       "      <td>0</td>\n",
       "      <td>0</td>\n",
       "      <td>1</td>\n",
       "      <td>0</td>\n",
       "      <td>0</td>\n",
       "      <td>0</td>\n",
       "      <td>1</td>\n",
       "      <td>0</td>\n",
       "      <td>0</td>\n",
       "      <td>0</td>\n",
       "      <td>0</td>\n",
       "      <td>0</td>\n",
       "      <td>0</td>\n",
       "      <td>1</td>\n",
       "      <td>0</td>\n",
       "      <td>0</td>\n",
       "      <td>0</td>\n",
       "      <td>0</td>\n",
       "      <td>0</td>\n",
       "      <td>0</td>\n",
       "      <td>0</td>\n",
       "      <td>0</td>\n",
       "      <td>0</td>\n",
       "      <td>0</td>\n",
       "      <td>0</td>\n",
       "      <td>1</td>\n",
       "      <td>0</td>\n",
       "    </tr>\n",
       "    <tr>\n",
       "      <th>2</th>\n",
       "      <td>2.0000</td>\n",
       "      <td>1532</td>\n",
       "      <td>2.0000</td>\n",
       "      <td>0</td>\n",
       "      <td>1</td>\n",
       "      <td>0</td>\n",
       "      <td>0</td>\n",
       "      <td>1</td>\n",
       "      <td>0</td>\n",
       "      <td>0</td>\n",
       "      <td>0</td>\n",
       "      <td>0</td>\n",
       "      <td>0</td>\n",
       "      <td>0</td>\n",
       "      <td>0</td>\n",
       "      <td>0</td>\n",
       "      <td>1</td>\n",
       "      <td>0</td>\n",
       "      <td>0</td>\n",
       "      <td>0</td>\n",
       "      <td>0</td>\n",
       "      <td>0</td>\n",
       "      <td>0</td>\n",
       "      <td>0</td>\n",
       "      <td>0</td>\n",
       "      <td>1</td>\n",
       "      <td>0</td>\n",
       "      <td>0</td>\n",
       "      <td>0</td>\n",
       "      <td>0</td>\n",
       "      <td>0</td>\n",
       "      <td>0</td>\n",
       "      <td>1</td>\n",
       "      <td>0</td>\n",
       "      <td>0</td>\n",
       "      <td>0</td>\n",
       "      <td>0</td>\n",
       "      <td>0</td>\n",
       "      <td>0</td>\n",
       "      <td>1</td>\n",
       "      <td>0</td>\n",
       "      <td>0</td>\n",
       "      <td>0</td>\n",
       "      <td>0</td>\n",
       "      <td>0</td>\n",
       "      <td>0</td>\n",
       "      <td>0</td>\n",
       "      <td>0</td>\n",
       "      <td>0</td>\n",
       "      <td>0</td>\n",
       "      <td>0</td>\n",
       "      <td>0</td>\n",
       "      <td>1</td>\n",
       "    </tr>\n",
       "  </tbody>\n",
       "</table>\n",
       "</div>"
      ],
      "text/plain": [
       "   TotalVisits  Total Time Spent on Website  Page Views Per Visit  Lead Origin_Import and Form  Lead Origin_Landing Page Submission  What is your current occupation_Housewife  What is your current occupation_Other  What is your current occupation_Student  What is your current occupation_Unemployed  What is your current occupation_Working Professional  City_Other Cities  City_Other Cities of Maharashtra  City_Other Metro Cities  City_Thane & Outskirts  City_Tier II Cities  Specialization_Banking, Investment And Insurance  Specialization_Business Administration  Specialization_E-Business  Specialization_E-COMMERCE  Specialization_International Business  Specialization_Management Specializations  Specialization_Media and Advertising  Specialization_Rural and Agribusiness  Specialization_Services Excellence  Specialization_Travel and Tourism  Lead Source_Direct Traffic  Lead Source_Google  Lead Source_Olark Chat  Lead Source_Organic Search  Last Activity_Converted to Lead  Last Activity_Email Bounced  Last Activity_Email Link Clicked  Last Activity_Email Opened  Last Activity_Form Submitted on Website  Last Activity_Olark Chat Conversation  Last Activity_Page Visited on Website  Last Activity_SMS Sent  Last Notable Activity_Email Bounced  Last Notable Activity_Email Link Clicked  Last Notable Activity_Email Opened  Last Notable Activity_Had a Phone Conversation  Last Notable Activity_Modified  Last Notable Activity_Olark Chat Conversation  Last Notable Activity_Page Visited on Website  Last Notable Activity_SMS Sent  Last Notable Activity_Unsubscribed  Tags_Busy  Tags_Closed by Horizzon  Tags_Interested in other courses  Tags_Lost to EINS  Tags_Other_Tags  Tags_Ringing  Tags_Will revert after reading the email\n",
       "0 0.0000        0                           0.0000                 0                            0                                    0                                          0                                      0                                        1                                           0                                                     0                  0                                 0                        0                       0                    0                                                 0                                       0                          0                          0                                      0                                          0                                     0                                      0                                   0                                  0                           0                   1                       0                           0                                0                            0                                 0                           0                                        0                                      1                                      0                       0                                    0                                         0                                   0                                               1                               0                                              0                                              0                               0                                   0          0                        1                                 0                  0                0             0                                       \n",
       "1 5.0000        674                         2.5000                 0                            0                                    0                                          0                                      0                                        1                                           0                                                     0                  0                                 0                        0                       0                    0                                                 0                                       0                          0                          0                                      0                                          0                                     0                                      0                                   0                                  0                           0                   0                       1                           0                                0                            0                                 1                           0                                        0                                      0                                      0                       0                                    0                                         1                                   0                                               0                               0                                              0                                              0                               0                                   0          0                        0                                 0                  0                1             0                                       \n",
       "2 2.0000        1532                        2.0000                 0                            1                                    0                                          0                                      1                                        0                                           0                                                     0                  0                                 0                        0                       0                    0                                                 1                                       0                          0                          0                                      0                                          0                                     0                                      0                                   0                                  1                           0                   0                       0                           0                                0                            0                                 1                           0                                        0                                      0                                      0                       0                                    0                                         1                                   0                                               0                               0                                              0                                              0                               0                                   0          0                        0                                 0                  0                0             1                                       "
      ]
     },
     "execution_count": 74,
     "metadata": {},
     "output_type": "execute_result"
    }
   ],
   "source": [
    "# Assigning remaining dataframe to X\n",
    "X = lead\n",
    "X.head(3)"
   ]
  },
  {
   "cell_type": "code",
   "execution_count": 75,
   "metadata": {
    "id": "Lxo1kMrhAmZ5"
   },
   "outputs": [],
   "source": [
    "# Splitting the data into train and test\n",
    "X_train, X_test, y_train, y_test= train_test_split( X, y, train_size= 0.7, test_size= 0.3, random_state= 100)"
   ]
  },
  {
   "cell_type": "code",
   "execution_count": 76,
   "metadata": {
    "colab": {
     "base_uri": "https://localhost:8080/",
     "height": 52
    },
    "id": "UqZgGKTAAmZ7",
    "outputId": "652dfadb-95f4-47a0-e794-6d5e893de87a"
   },
   "outputs": [
    {
     "name": "stdout",
     "output_type": "stream",
     "text": [
      "(6045, 53)\n",
      "(6045,)\n"
     ]
    }
   ],
   "source": [
    "# Checking shape of both training dataset\n",
    "print(X_train.shape)\n",
    "print(y_train.shape)"
   ]
  },
  {
   "cell_type": "code",
   "execution_count": 77,
   "metadata": {
    "colab": {
     "base_uri": "https://localhost:8080/",
     "height": 52
    },
    "id": "_i02_SOeAmZ-",
    "outputId": "fe9224a7-c3e7-42b1-8ed2-dc74efff7c6e"
   },
   "outputs": [
    {
     "name": "stdout",
     "output_type": "stream",
     "text": [
      "(2591, 53)\n",
      "(2591,)\n"
     ]
    }
   ],
   "source": [
    "# Checking shape of both test dataset\n",
    "print(X_test.shape)\n",
    "print(y_test.shape)"
   ]
  },
  {
   "cell_type": "code",
   "execution_count": 78,
   "metadata": {
    "colab": {
     "base_uri": "https://localhost:8080/",
     "height": 34
    },
    "id": "fYoiT_mlAmaA",
    "outputId": "6d0e3efa-9ef6-41ed-9ab6-58a931903315"
   },
   "outputs": [
    {
     "data": {
      "text/plain": [
       "Index(['TotalVisits', 'Total Time Spent on Website', 'Page Views Per Visit'], dtype='object')"
      ]
     },
     "execution_count": 78,
     "metadata": {},
     "output_type": "execute_result"
    }
   ],
   "source": [
    "# Creating list of all numerical columns in X_train\n",
    "num_cols= X_train.select_dtypes(include= ['float64', 'int64']).columns\n",
    "num_cols"
   ]
  },
  {
   "cell_type": "code",
   "execution_count": 79,
   "metadata": {
    "colab": {
     "base_uri": "https://localhost:8080/",
     "height": 587
    },
    "id": "jYuJMLLYAmaC",
    "outputId": "1cd78484-f971-4c08-bedc-3e4e7ac1db06",
    "scrolled": false
   },
   "outputs": [
    {
     "name": "stderr",
     "output_type": "stream",
     "text": [
      "/home/l0k3ndr/.local/lib/python3.6/site-packages/ipykernel_launcher.py:4: SettingWithCopyWarning: \n",
      "A value is trying to be set on a copy of a slice from a DataFrame.\n",
      "Try using .loc[row_indexer,col_indexer] = value instead\n",
      "\n",
      "See the caveats in the documentation: https://pandas.pydata.org/pandas-docs/stable/user_guide/indexing.html#returning-a-view-versus-a-copy\n",
      "  after removing the cwd from sys.path.\n",
      "/home/l0k3ndr/.local/lib/python3.6/site-packages/pandas/core/indexing.py:1736: SettingWithCopyWarning: \n",
      "A value is trying to be set on a copy of a slice from a DataFrame.\n",
      "Try using .loc[row_indexer,col_indexer] = value instead\n",
      "\n",
      "See the caveats in the documentation: https://pandas.pydata.org/pandas-docs/stable/user_guide/indexing.html#returning-a-view-versus-a-copy\n",
      "  isetter(loc, value[:, i].tolist())\n"
     ]
    },
    {
     "data": {
      "text/html": [
       "<div>\n",
       "<style scoped>\n",
       "    .dataframe tbody tr th:only-of-type {\n",
       "        vertical-align: middle;\n",
       "    }\n",
       "\n",
       "    .dataframe tbody tr th {\n",
       "        vertical-align: top;\n",
       "    }\n",
       "\n",
       "    .dataframe thead th {\n",
       "        text-align: right;\n",
       "    }\n",
       "</style>\n",
       "<table border=\"1\" class=\"dataframe\">\n",
       "  <thead>\n",
       "    <tr style=\"text-align: right;\">\n",
       "      <th></th>\n",
       "      <th>TotalVisits</th>\n",
       "      <th>Total Time Spent on Website</th>\n",
       "      <th>Page Views Per Visit</th>\n",
       "      <th>Lead Origin_Import and Form</th>\n",
       "      <th>Lead Origin_Landing Page Submission</th>\n",
       "      <th>What is your current occupation_Housewife</th>\n",
       "      <th>What is your current occupation_Other</th>\n",
       "      <th>What is your current occupation_Student</th>\n",
       "      <th>What is your current occupation_Unemployed</th>\n",
       "      <th>What is your current occupation_Working Professional</th>\n",
       "      <th>City_Other Cities</th>\n",
       "      <th>City_Other Cities of Maharashtra</th>\n",
       "      <th>City_Other Metro Cities</th>\n",
       "      <th>City_Thane &amp; Outskirts</th>\n",
       "      <th>City_Tier II Cities</th>\n",
       "      <th>Specialization_Banking, Investment And Insurance</th>\n",
       "      <th>Specialization_Business Administration</th>\n",
       "      <th>Specialization_E-Business</th>\n",
       "      <th>Specialization_E-COMMERCE</th>\n",
       "      <th>Specialization_International Business</th>\n",
       "      <th>Specialization_Management Specializations</th>\n",
       "      <th>Specialization_Media and Advertising</th>\n",
       "      <th>Specialization_Rural and Agribusiness</th>\n",
       "      <th>Specialization_Services Excellence</th>\n",
       "      <th>Specialization_Travel and Tourism</th>\n",
       "      <th>Lead Source_Direct Traffic</th>\n",
       "      <th>Lead Source_Google</th>\n",
       "      <th>Lead Source_Olark Chat</th>\n",
       "      <th>Lead Source_Organic Search</th>\n",
       "      <th>Last Activity_Converted to Lead</th>\n",
       "      <th>Last Activity_Email Bounced</th>\n",
       "      <th>Last Activity_Email Link Clicked</th>\n",
       "      <th>Last Activity_Email Opened</th>\n",
       "      <th>Last Activity_Form Submitted on Website</th>\n",
       "      <th>Last Activity_Olark Chat Conversation</th>\n",
       "      <th>Last Activity_Page Visited on Website</th>\n",
       "      <th>Last Activity_SMS Sent</th>\n",
       "      <th>Last Notable Activity_Email Bounced</th>\n",
       "      <th>Last Notable Activity_Email Link Clicked</th>\n",
       "      <th>Last Notable Activity_Email Opened</th>\n",
       "      <th>Last Notable Activity_Had a Phone Conversation</th>\n",
       "      <th>Last Notable Activity_Modified</th>\n",
       "      <th>Last Notable Activity_Olark Chat Conversation</th>\n",
       "      <th>Last Notable Activity_Page Visited on Website</th>\n",
       "      <th>Last Notable Activity_SMS Sent</th>\n",
       "      <th>Last Notable Activity_Unsubscribed</th>\n",
       "      <th>Tags_Busy</th>\n",
       "      <th>Tags_Closed by Horizzon</th>\n",
       "      <th>Tags_Interested in other courses</th>\n",
       "      <th>Tags_Lost to EINS</th>\n",
       "      <th>Tags_Other_Tags</th>\n",
       "      <th>Tags_Ringing</th>\n",
       "      <th>Tags_Will revert after reading the email</th>\n",
       "    </tr>\n",
       "  </thead>\n",
       "  <tbody>\n",
       "    <tr>\n",
       "      <th>count</th>\n",
       "      <td>6045.0000</td>\n",
       "      <td>6045.0000</td>\n",
       "      <td>6045.0000</td>\n",
       "      <td>6045.0000</td>\n",
       "      <td>6045.0000</td>\n",
       "      <td>6045.0000</td>\n",
       "      <td>6045.0000</td>\n",
       "      <td>6045.0000</td>\n",
       "      <td>6045.0000</td>\n",
       "      <td>6045.0000</td>\n",
       "      <td>6045.0000</td>\n",
       "      <td>6045.0000</td>\n",
       "      <td>6045.0000</td>\n",
       "      <td>6045.0000</td>\n",
       "      <td>6045.0000</td>\n",
       "      <td>6045.0000</td>\n",
       "      <td>6045.0000</td>\n",
       "      <td>6045.0000</td>\n",
       "      <td>6045.0000</td>\n",
       "      <td>6045.0000</td>\n",
       "      <td>6045.0000</td>\n",
       "      <td>6045.0000</td>\n",
       "      <td>6045.0000</td>\n",
       "      <td>6045.0000</td>\n",
       "      <td>6045.0000</td>\n",
       "      <td>6045.0000</td>\n",
       "      <td>6045.0000</td>\n",
       "      <td>6045.0000</td>\n",
       "      <td>6045.0000</td>\n",
       "      <td>6045.0000</td>\n",
       "      <td>6045.0000</td>\n",
       "      <td>6045.0000</td>\n",
       "      <td>6045.0000</td>\n",
       "      <td>6045.0000</td>\n",
       "      <td>6045.0000</td>\n",
       "      <td>6045.0000</td>\n",
       "      <td>6045.0000</td>\n",
       "      <td>6045.0000</td>\n",
       "      <td>6045.0000</td>\n",
       "      <td>6045.0000</td>\n",
       "      <td>6045.0000</td>\n",
       "      <td>6045.0000</td>\n",
       "      <td>6045.0000</td>\n",
       "      <td>6045.0000</td>\n",
       "      <td>6045.0000</td>\n",
       "      <td>6045.0000</td>\n",
       "      <td>6045.0000</td>\n",
       "      <td>6045.0000</td>\n",
       "      <td>6045.0000</td>\n",
       "      <td>6045.0000</td>\n",
       "      <td>6045.0000</td>\n",
       "      <td>6045.0000</td>\n",
       "      <td>6045.0000</td>\n",
       "    </tr>\n",
       "    <tr>\n",
       "      <th>mean</th>\n",
       "      <td>-0.0000</td>\n",
       "      <td>0.0000</td>\n",
       "      <td>0.0000</td>\n",
       "      <td>0.0723</td>\n",
       "      <td>0.5280</td>\n",
       "      <td>0.0012</td>\n",
       "      <td>0.0012</td>\n",
       "      <td>0.0235</td>\n",
       "      <td>0.9007</td>\n",
       "      <td>0.0726</td>\n",
       "      <td>0.0759</td>\n",
       "      <td>0.0467</td>\n",
       "      <td>0.0417</td>\n",
       "      <td>0.0814</td>\n",
       "      <td>0.0073</td>\n",
       "      <td>0.0377</td>\n",
       "      <td>0.0432</td>\n",
       "      <td>0.0066</td>\n",
       "      <td>0.0119</td>\n",
       "      <td>0.0174</td>\n",
       "      <td>0.4572</td>\n",
       "      <td>0.0215</td>\n",
       "      <td>0.0069</td>\n",
       "      <td>0.0040</td>\n",
       "      <td>0.0212</td>\n",
       "      <td>0.2739</td>\n",
       "      <td>0.3191</td>\n",
       "      <td>0.2022</td>\n",
       "      <td>0.1188</td>\n",
       "      <td>0.0528</td>\n",
       "      <td>0.0356</td>\n",
       "      <td>0.0275</td>\n",
       "      <td>0.3785</td>\n",
       "      <td>0.0136</td>\n",
       "      <td>0.1107</td>\n",
       "      <td>0.0586</td>\n",
       "      <td>0.3029</td>\n",
       "      <td>0.0074</td>\n",
       "      <td>0.0179</td>\n",
       "      <td>0.3097</td>\n",
       "      <td>0.0013</td>\n",
       "      <td>0.3706</td>\n",
       "      <td>0.0197</td>\n",
       "      <td>0.0256</td>\n",
       "      <td>0.2389</td>\n",
       "      <td>0.0051</td>\n",
       "      <td>0.0217</td>\n",
       "      <td>0.0299</td>\n",
       "      <td>0.0538</td>\n",
       "      <td>0.0197</td>\n",
       "      <td>0.1510</td>\n",
       "      <td>0.1297</td>\n",
       "      <td>0.2215</td>\n",
       "    </tr>\n",
       "    <tr>\n",
       "      <th>std</th>\n",
       "      <td>1.0001</td>\n",
       "      <td>1.0001</td>\n",
       "      <td>1.0001</td>\n",
       "      <td>0.2590</td>\n",
       "      <td>0.4993</td>\n",
       "      <td>0.0340</td>\n",
       "      <td>0.0340</td>\n",
       "      <td>0.1515</td>\n",
       "      <td>0.2990</td>\n",
       "      <td>0.2595</td>\n",
       "      <td>0.2649</td>\n",
       "      <td>0.2109</td>\n",
       "      <td>0.1999</td>\n",
       "      <td>0.2735</td>\n",
       "      <td>0.0850</td>\n",
       "      <td>0.1905</td>\n",
       "      <td>0.2033</td>\n",
       "      <td>0.0811</td>\n",
       "      <td>0.1085</td>\n",
       "      <td>0.1307</td>\n",
       "      <td>0.4982</td>\n",
       "      <td>0.1451</td>\n",
       "      <td>0.0831</td>\n",
       "      <td>0.0629</td>\n",
       "      <td>0.1440</td>\n",
       "      <td>0.4460</td>\n",
       "      <td>0.4662</td>\n",
       "      <td>0.4016</td>\n",
       "      <td>0.3236</td>\n",
       "      <td>0.2236</td>\n",
       "      <td>0.1852</td>\n",
       "      <td>0.1634</td>\n",
       "      <td>0.4851</td>\n",
       "      <td>0.1157</td>\n",
       "      <td>0.3137</td>\n",
       "      <td>0.2348</td>\n",
       "      <td>0.4595</td>\n",
       "      <td>0.0860</td>\n",
       "      <td>0.1325</td>\n",
       "      <td>0.4624</td>\n",
       "      <td>0.0364</td>\n",
       "      <td>0.4830</td>\n",
       "      <td>0.1389</td>\n",
       "      <td>0.1581</td>\n",
       "      <td>0.4264</td>\n",
       "      <td>0.0714</td>\n",
       "      <td>0.1456</td>\n",
       "      <td>0.1704</td>\n",
       "      <td>0.2256</td>\n",
       "      <td>0.1389</td>\n",
       "      <td>0.3581</td>\n",
       "      <td>0.3360</td>\n",
       "      <td>0.4153</td>\n",
       "    </tr>\n",
       "    <tr>\n",
       "      <th>min</th>\n",
       "      <td>-1.1930</td>\n",
       "      <td>-0.8616</td>\n",
       "      <td>-1.1740</td>\n",
       "      <td>0.0000</td>\n",
       "      <td>0.0000</td>\n",
       "      <td>0.0000</td>\n",
       "      <td>0.0000</td>\n",
       "      <td>0.0000</td>\n",
       "      <td>0.0000</td>\n",
       "      <td>0.0000</td>\n",
       "      <td>0.0000</td>\n",
       "      <td>0.0000</td>\n",
       "      <td>0.0000</td>\n",
       "      <td>0.0000</td>\n",
       "      <td>0.0000</td>\n",
       "      <td>0.0000</td>\n",
       "      <td>0.0000</td>\n",
       "      <td>0.0000</td>\n",
       "      <td>0.0000</td>\n",
       "      <td>0.0000</td>\n",
       "      <td>0.0000</td>\n",
       "      <td>0.0000</td>\n",
       "      <td>0.0000</td>\n",
       "      <td>0.0000</td>\n",
       "      <td>0.0000</td>\n",
       "      <td>0.0000</td>\n",
       "      <td>0.0000</td>\n",
       "      <td>0.0000</td>\n",
       "      <td>0.0000</td>\n",
       "      <td>0.0000</td>\n",
       "      <td>0.0000</td>\n",
       "      <td>0.0000</td>\n",
       "      <td>0.0000</td>\n",
       "      <td>0.0000</td>\n",
       "      <td>0.0000</td>\n",
       "      <td>0.0000</td>\n",
       "      <td>0.0000</td>\n",
       "      <td>0.0000</td>\n",
       "      <td>0.0000</td>\n",
       "      <td>0.0000</td>\n",
       "      <td>0.0000</td>\n",
       "      <td>0.0000</td>\n",
       "      <td>0.0000</td>\n",
       "      <td>0.0000</td>\n",
       "      <td>0.0000</td>\n",
       "      <td>0.0000</td>\n",
       "      <td>0.0000</td>\n",
       "      <td>0.0000</td>\n",
       "      <td>0.0000</td>\n",
       "      <td>0.0000</td>\n",
       "      <td>0.0000</td>\n",
       "      <td>0.0000</td>\n",
       "      <td>0.0000</td>\n",
       "    </tr>\n",
       "    <tr>\n",
       "      <th>25%</th>\n",
       "      <td>-1.1930</td>\n",
       "      <td>-0.8616</td>\n",
       "      <td>-1.1740</td>\n",
       "      <td>0.0000</td>\n",
       "      <td>0.0000</td>\n",
       "      <td>0.0000</td>\n",
       "      <td>0.0000</td>\n",
       "      <td>0.0000</td>\n",
       "      <td>1.0000</td>\n",
       "      <td>0.0000</td>\n",
       "      <td>0.0000</td>\n",
       "      <td>0.0000</td>\n",
       "      <td>0.0000</td>\n",
       "      <td>0.0000</td>\n",
       "      <td>0.0000</td>\n",
       "      <td>0.0000</td>\n",
       "      <td>0.0000</td>\n",
       "      <td>0.0000</td>\n",
       "      <td>0.0000</td>\n",
       "      <td>0.0000</td>\n",
       "      <td>0.0000</td>\n",
       "      <td>0.0000</td>\n",
       "      <td>0.0000</td>\n",
       "      <td>0.0000</td>\n",
       "      <td>0.0000</td>\n",
       "      <td>0.0000</td>\n",
       "      <td>0.0000</td>\n",
       "      <td>0.0000</td>\n",
       "      <td>0.0000</td>\n",
       "      <td>0.0000</td>\n",
       "      <td>0.0000</td>\n",
       "      <td>0.0000</td>\n",
       "      <td>0.0000</td>\n",
       "      <td>0.0000</td>\n",
       "      <td>0.0000</td>\n",
       "      <td>0.0000</td>\n",
       "      <td>0.0000</td>\n",
       "      <td>0.0000</td>\n",
       "      <td>0.0000</td>\n",
       "      <td>0.0000</td>\n",
       "      <td>0.0000</td>\n",
       "      <td>0.0000</td>\n",
       "      <td>0.0000</td>\n",
       "      <td>0.0000</td>\n",
       "      <td>0.0000</td>\n",
       "      <td>0.0000</td>\n",
       "      <td>0.0000</td>\n",
       "      <td>0.0000</td>\n",
       "      <td>0.0000</td>\n",
       "      <td>0.0000</td>\n",
       "      <td>0.0000</td>\n",
       "      <td>0.0000</td>\n",
       "      <td>0.0000</td>\n",
       "    </tr>\n",
       "    <tr>\n",
       "      <th>50%</th>\n",
       "      <td>0.0736</td>\n",
       "      <td>-0.4341</td>\n",
       "      <td>-0.1129</td>\n",
       "      <td>0.0000</td>\n",
       "      <td>1.0000</td>\n",
       "      <td>0.0000</td>\n",
       "      <td>0.0000</td>\n",
       "      <td>0.0000</td>\n",
       "      <td>1.0000</td>\n",
       "      <td>0.0000</td>\n",
       "      <td>0.0000</td>\n",
       "      <td>0.0000</td>\n",
       "      <td>0.0000</td>\n",
       "      <td>0.0000</td>\n",
       "      <td>0.0000</td>\n",
       "      <td>0.0000</td>\n",
       "      <td>0.0000</td>\n",
       "      <td>0.0000</td>\n",
       "      <td>0.0000</td>\n",
       "      <td>0.0000</td>\n",
       "      <td>0.0000</td>\n",
       "      <td>0.0000</td>\n",
       "      <td>0.0000</td>\n",
       "      <td>0.0000</td>\n",
       "      <td>0.0000</td>\n",
       "      <td>0.0000</td>\n",
       "      <td>0.0000</td>\n",
       "      <td>0.0000</td>\n",
       "      <td>0.0000</td>\n",
       "      <td>0.0000</td>\n",
       "      <td>0.0000</td>\n",
       "      <td>0.0000</td>\n",
       "      <td>0.0000</td>\n",
       "      <td>0.0000</td>\n",
       "      <td>0.0000</td>\n",
       "      <td>0.0000</td>\n",
       "      <td>0.0000</td>\n",
       "      <td>0.0000</td>\n",
       "      <td>0.0000</td>\n",
       "      <td>0.0000</td>\n",
       "      <td>0.0000</td>\n",
       "      <td>0.0000</td>\n",
       "      <td>0.0000</td>\n",
       "      <td>0.0000</td>\n",
       "      <td>0.0000</td>\n",
       "      <td>0.0000</td>\n",
       "      <td>0.0000</td>\n",
       "      <td>0.0000</td>\n",
       "      <td>0.0000</td>\n",
       "      <td>0.0000</td>\n",
       "      <td>0.0000</td>\n",
       "      <td>0.0000</td>\n",
       "      <td>0.0000</td>\n",
       "    </tr>\n",
       "    <tr>\n",
       "      <th>75%</th>\n",
       "      <td>0.4958</td>\n",
       "      <td>0.7744</td>\n",
       "      <td>0.4177</td>\n",
       "      <td>0.0000</td>\n",
       "      <td>1.0000</td>\n",
       "      <td>0.0000</td>\n",
       "      <td>0.0000</td>\n",
       "      <td>0.0000</td>\n",
       "      <td>1.0000</td>\n",
       "      <td>0.0000</td>\n",
       "      <td>0.0000</td>\n",
       "      <td>0.0000</td>\n",
       "      <td>0.0000</td>\n",
       "      <td>0.0000</td>\n",
       "      <td>0.0000</td>\n",
       "      <td>0.0000</td>\n",
       "      <td>0.0000</td>\n",
       "      <td>0.0000</td>\n",
       "      <td>0.0000</td>\n",
       "      <td>0.0000</td>\n",
       "      <td>1.0000</td>\n",
       "      <td>0.0000</td>\n",
       "      <td>0.0000</td>\n",
       "      <td>0.0000</td>\n",
       "      <td>0.0000</td>\n",
       "      <td>1.0000</td>\n",
       "      <td>1.0000</td>\n",
       "      <td>0.0000</td>\n",
       "      <td>0.0000</td>\n",
       "      <td>0.0000</td>\n",
       "      <td>0.0000</td>\n",
       "      <td>0.0000</td>\n",
       "      <td>1.0000</td>\n",
       "      <td>0.0000</td>\n",
       "      <td>0.0000</td>\n",
       "      <td>0.0000</td>\n",
       "      <td>1.0000</td>\n",
       "      <td>0.0000</td>\n",
       "      <td>0.0000</td>\n",
       "      <td>1.0000</td>\n",
       "      <td>0.0000</td>\n",
       "      <td>1.0000</td>\n",
       "      <td>0.0000</td>\n",
       "      <td>0.0000</td>\n",
       "      <td>0.0000</td>\n",
       "      <td>0.0000</td>\n",
       "      <td>0.0000</td>\n",
       "      <td>0.0000</td>\n",
       "      <td>0.0000</td>\n",
       "      <td>0.0000</td>\n",
       "      <td>0.0000</td>\n",
       "      <td>0.0000</td>\n",
       "      <td>0.0000</td>\n",
       "    </tr>\n",
       "    <tr>\n",
       "      <th>max</th>\n",
       "      <td>2.6068</td>\n",
       "      <td>3.2580</td>\n",
       "      <td>3.6010</td>\n",
       "      <td>1.0000</td>\n",
       "      <td>1.0000</td>\n",
       "      <td>1.0000</td>\n",
       "      <td>1.0000</td>\n",
       "      <td>1.0000</td>\n",
       "      <td>1.0000</td>\n",
       "      <td>1.0000</td>\n",
       "      <td>1.0000</td>\n",
       "      <td>1.0000</td>\n",
       "      <td>1.0000</td>\n",
       "      <td>1.0000</td>\n",
       "      <td>1.0000</td>\n",
       "      <td>1.0000</td>\n",
       "      <td>1.0000</td>\n",
       "      <td>1.0000</td>\n",
       "      <td>1.0000</td>\n",
       "      <td>1.0000</td>\n",
       "      <td>1.0000</td>\n",
       "      <td>1.0000</td>\n",
       "      <td>1.0000</td>\n",
       "      <td>1.0000</td>\n",
       "      <td>1.0000</td>\n",
       "      <td>1.0000</td>\n",
       "      <td>1.0000</td>\n",
       "      <td>1.0000</td>\n",
       "      <td>1.0000</td>\n",
       "      <td>1.0000</td>\n",
       "      <td>1.0000</td>\n",
       "      <td>1.0000</td>\n",
       "      <td>1.0000</td>\n",
       "      <td>1.0000</td>\n",
       "      <td>1.0000</td>\n",
       "      <td>1.0000</td>\n",
       "      <td>1.0000</td>\n",
       "      <td>1.0000</td>\n",
       "      <td>1.0000</td>\n",
       "      <td>1.0000</td>\n",
       "      <td>1.0000</td>\n",
       "      <td>1.0000</td>\n",
       "      <td>1.0000</td>\n",
       "      <td>1.0000</td>\n",
       "      <td>1.0000</td>\n",
       "      <td>1.0000</td>\n",
       "      <td>1.0000</td>\n",
       "      <td>1.0000</td>\n",
       "      <td>1.0000</td>\n",
       "      <td>1.0000</td>\n",
       "      <td>1.0000</td>\n",
       "      <td>1.0000</td>\n",
       "      <td>1.0000</td>\n",
       "    </tr>\n",
       "  </tbody>\n",
       "</table>\n",
       "</div>"
      ],
      "text/plain": [
       "       TotalVisits  Total Time Spent on Website  Page Views Per Visit  Lead Origin_Import and Form  Lead Origin_Landing Page Submission  What is your current occupation_Housewife  What is your current occupation_Other  What is your current occupation_Student  What is your current occupation_Unemployed  What is your current occupation_Working Professional  City_Other Cities  City_Other Cities of Maharashtra  City_Other Metro Cities  City_Thane & Outskirts  City_Tier II Cities  Specialization_Banking, Investment And Insurance  Specialization_Business Administration  Specialization_E-Business  Specialization_E-COMMERCE  Specialization_International Business  Specialization_Management Specializations  Specialization_Media and Advertising  Specialization_Rural and Agribusiness  Specialization_Services Excellence  Specialization_Travel and Tourism  Lead Source_Direct Traffic  Lead Source_Google  Lead Source_Olark Chat  Lead Source_Organic Search  Last Activity_Converted to Lead  Last Activity_Email Bounced  Last Activity_Email Link Clicked  Last Activity_Email Opened  Last Activity_Form Submitted on Website  Last Activity_Olark Chat Conversation  Last Activity_Page Visited on Website  Last Activity_SMS Sent  Last Notable Activity_Email Bounced  Last Notable Activity_Email Link Clicked  Last Notable Activity_Email Opened  Last Notable Activity_Had a Phone Conversation  Last Notable Activity_Modified  Last Notable Activity_Olark Chat Conversation  Last Notable Activity_Page Visited on Website  Last Notable Activity_SMS Sent  Last Notable Activity_Unsubscribed  Tags_Busy  Tags_Closed by Horizzon  Tags_Interested in other courses  Tags_Lost to EINS  Tags_Other_Tags  Tags_Ringing  Tags_Will revert after reading the email\n",
       "count 6045.0000    6045.0000                    6045.0000             6045.0000                    6045.0000                            6045.0000                                  6045.0000                              6045.0000                                6045.0000                                   6045.0000                                             6045.0000          6045.0000                         6045.0000                6045.0000               6045.0000            6045.0000                                         6045.0000                               6045.0000                  6045.0000                  6045.0000                              6045.0000                                  6045.0000                             6045.0000                              6045.0000                           6045.0000                          6045.0000                   6045.0000           6045.0000               6045.0000                   6045.0000                        6045.0000                    6045.0000                         6045.0000                   6045.0000                                6045.0000                              6045.0000                              6045.0000               6045.0000                            6045.0000                                 6045.0000                           6045.0000                                       6045.0000                       6045.0000                                      6045.0000                                      6045.0000                       6045.0000                           6045.0000  6045.0000                6045.0000                         6045.0000          6045.0000        6045.0000     6045.0000                                \n",
       "mean  -0.0000      0.0000                       0.0000                0.0723                       0.5280                               0.0012                                     0.0012                                 0.0235                                   0.9007                                      0.0726                                                0.0759             0.0467                            0.0417                   0.0814                  0.0073               0.0377                                            0.0432                                  0.0066                     0.0119                     0.0174                                 0.4572                                     0.0215                                0.0069                                 0.0040                              0.0212                             0.2739                      0.3191              0.2022                  0.1188                      0.0528                           0.0356                       0.0275                            0.3785                      0.0136                                   0.1107                                 0.0586                                 0.3029                  0.0074                               0.0179                                    0.3097                              0.0013                                          0.3706                          0.0197                                         0.0256                                         0.2389                          0.0051                              0.0217     0.0299                   0.0538                            0.0197             0.1510           0.1297        0.2215                                   \n",
       "std   1.0001       1.0001                       1.0001                0.2590                       0.4993                               0.0340                                     0.0340                                 0.1515                                   0.2990                                      0.2595                                                0.2649             0.2109                            0.1999                   0.2735                  0.0850               0.1905                                            0.2033                                  0.0811                     0.1085                     0.1307                                 0.4982                                     0.1451                                0.0831                                 0.0629                              0.1440                             0.4460                      0.4662              0.4016                  0.3236                      0.2236                           0.1852                       0.1634                            0.4851                      0.1157                                   0.3137                                 0.2348                                 0.4595                  0.0860                               0.1325                                    0.4624                              0.0364                                          0.4830                          0.1389                                         0.1581                                         0.4264                          0.0714                              0.1456     0.1704                   0.2256                            0.1389             0.3581           0.3360        0.4153                                   \n",
       "min   -1.1930      -0.8616                      -1.1740               0.0000                       0.0000                               0.0000                                     0.0000                                 0.0000                                   0.0000                                      0.0000                                                0.0000             0.0000                            0.0000                   0.0000                  0.0000               0.0000                                            0.0000                                  0.0000                     0.0000                     0.0000                                 0.0000                                     0.0000                                0.0000                                 0.0000                              0.0000                             0.0000                      0.0000              0.0000                  0.0000                      0.0000                           0.0000                       0.0000                            0.0000                      0.0000                                   0.0000                                 0.0000                                 0.0000                  0.0000                               0.0000                                    0.0000                              0.0000                                          0.0000                          0.0000                                         0.0000                                         0.0000                          0.0000                              0.0000     0.0000                   0.0000                            0.0000             0.0000           0.0000        0.0000                                   \n",
       "25%   -1.1930      -0.8616                      -1.1740               0.0000                       0.0000                               0.0000                                     0.0000                                 0.0000                                   1.0000                                      0.0000                                                0.0000             0.0000                            0.0000                   0.0000                  0.0000               0.0000                                            0.0000                                  0.0000                     0.0000                     0.0000                                 0.0000                                     0.0000                                0.0000                                 0.0000                              0.0000                             0.0000                      0.0000              0.0000                  0.0000                      0.0000                           0.0000                       0.0000                            0.0000                      0.0000                                   0.0000                                 0.0000                                 0.0000                  0.0000                               0.0000                                    0.0000                              0.0000                                          0.0000                          0.0000                                         0.0000                                         0.0000                          0.0000                              0.0000     0.0000                   0.0000                            0.0000             0.0000           0.0000        0.0000                                   \n",
       "50%   0.0736       -0.4341                      -0.1129               0.0000                       1.0000                               0.0000                                     0.0000                                 0.0000                                   1.0000                                      0.0000                                                0.0000             0.0000                            0.0000                   0.0000                  0.0000               0.0000                                            0.0000                                  0.0000                     0.0000                     0.0000                                 0.0000                                     0.0000                                0.0000                                 0.0000                              0.0000                             0.0000                      0.0000              0.0000                  0.0000                      0.0000                           0.0000                       0.0000                            0.0000                      0.0000                                   0.0000                                 0.0000                                 0.0000                  0.0000                               0.0000                                    0.0000                              0.0000                                          0.0000                          0.0000                                         0.0000                                         0.0000                          0.0000                              0.0000     0.0000                   0.0000                            0.0000             0.0000           0.0000        0.0000                                   \n",
       "75%   0.4958       0.7744                       0.4177                0.0000                       1.0000                               0.0000                                     0.0000                                 0.0000                                   1.0000                                      0.0000                                                0.0000             0.0000                            0.0000                   0.0000                  0.0000               0.0000                                            0.0000                                  0.0000                     0.0000                     0.0000                                 1.0000                                     0.0000                                0.0000                                 0.0000                              0.0000                             1.0000                      1.0000              0.0000                  0.0000                      0.0000                           0.0000                       0.0000                            1.0000                      0.0000                                   0.0000                                 0.0000                                 1.0000                  0.0000                               0.0000                                    1.0000                              0.0000                                          1.0000                          0.0000                                         0.0000                                         0.0000                          0.0000                              0.0000     0.0000                   0.0000                            0.0000             0.0000           0.0000        0.0000                                   \n",
       "max   2.6068       3.2580                       3.6010                1.0000                       1.0000                               1.0000                                     1.0000                                 1.0000                                   1.0000                                      1.0000                                                1.0000             1.0000                            1.0000                   1.0000                  1.0000               1.0000                                            1.0000                                  1.0000                     1.0000                     1.0000                                 1.0000                                     1.0000                                1.0000                                 1.0000                              1.0000                             1.0000                      1.0000              1.0000                  1.0000                      1.0000                           1.0000                       1.0000                            1.0000                      1.0000                                   1.0000                                 1.0000                                 1.0000                  1.0000                               1.0000                                    1.0000                              1.0000                                          1.0000                          1.0000                                         1.0000                                         1.0000                          1.0000                              1.0000     1.0000                   1.0000                            1.0000             1.0000           1.0000        1.0000                                   "
      ]
     },
     "execution_count": 79,
     "metadata": {},
     "output_type": "execute_result"
    }
   ],
   "source": [
    "# Scaling num_cols\n",
    "\n",
    "scaler = StandardScaler()\n",
    "X_train[num_cols]= scaler.fit_transform(X_train[num_cols])\n",
    "X_train.describe()"
   ]
  },
  {
   "cell_type": "markdown",
   "metadata": {
    "id": "UesTaHoQAmaI"
   },
   "source": [
    "### Recursive Feature Elimination"
   ]
  },
  {
   "cell_type": "code",
   "execution_count": 80,
   "metadata": {
    "id": "ox8ydYZOAmaI"
   },
   "outputs": [
    {
     "name": "stderr",
     "output_type": "stream",
     "text": [
      "/home/l0k3ndr/.local/lib/python3.6/site-packages/sklearn/utils/validation.py:70: FutureWarning: Pass n_features_to_select=15 as keyword args. From version 0.25 passing these as positional arguments will result in an error\n",
      "  FutureWarning)\n"
     ]
    }
   ],
   "source": [
    "# Model building with RFE\n",
    "logreg = LogisticRegression()\n",
    "\n",
    "rfe = RFE( logreg, 15)      # running RFE with 15 variables as output\n",
    "rfe = rfe.fit( X_train, y_train)"
   ]
  },
  {
   "cell_type": "code",
   "execution_count": 81,
   "metadata": {
    "colab": {
     "base_uri": "https://localhost:8080/",
     "height": 958
    },
    "id": "uPryW5-vAmaM",
    "outputId": "46ccfb53-64ce-4aa3-b846-f1448763a001"
   },
   "outputs": [
    {
     "data": {
      "text/plain": [
       "[('TotalVisits', False, 19),\n",
       " ('Total Time Spent on Website', True, 1),\n",
       " ('Page Views Per Visit', False, 18),\n",
       " ('Lead Origin_Import and Form', True, 1),\n",
       " ('Lead Origin_Landing Page Submission', True, 1),\n",
       " ('What is your current occupation_Housewife', False, 21),\n",
       " ('What is your current occupation_Other', False, 31),\n",
       " ('What is your current occupation_Student', False, 22),\n",
       " ('What is your current occupation_Unemployed', False, 11),\n",
       " ('What is your current occupation_Working Professional', True, 1),\n",
       " ('City_Other Cities', False, 35),\n",
       " ('City_Other Cities of Maharashtra', False, 29),\n",
       " ('City_Other Metro Cities', False, 36),\n",
       " ('City_Thane & Outskirts', False, 23),\n",
       " ('City_Tier II Cities', False, 10),\n",
       " ('Specialization_Banking, Investment And Insurance', False, 14),\n",
       " ('Specialization_Business Administration', False, 39),\n",
       " ('Specialization_E-Business', False, 30),\n",
       " ('Specialization_E-COMMERCE', False, 20),\n",
       " ('Specialization_International Business', False, 13),\n",
       " ('Specialization_Management Specializations', False, 33),\n",
       " ('Specialization_Media and Advertising', False, 32),\n",
       " ('Specialization_Rural and Agribusiness', False, 12),\n",
       " ('Specialization_Services Excellence', False, 38),\n",
       " ('Specialization_Travel and Tourism', False, 9),\n",
       " ('Lead Source_Direct Traffic', False, 16),\n",
       " ('Lead Source_Google', False, 17),\n",
       " ('Lead Source_Olark Chat', True, 1),\n",
       " ('Lead Source_Organic Search', False, 15),\n",
       " ('Last Activity_Converted to Lead', False, 7),\n",
       " ('Last Activity_Email Bounced', False, 4),\n",
       " ('Last Activity_Email Link Clicked', False, 27),\n",
       " ('Last Activity_Email Opened', False, 25),\n",
       " ('Last Activity_Form Submitted on Website', False, 24),\n",
       " ('Last Activity_Olark Chat Conversation', False, 2),\n",
       " ('Last Activity_Page Visited on Website', False, 8),\n",
       " ('Last Activity_SMS Sent', True, 1),\n",
       " ('Last Notable Activity_Email Bounced', False, 5),\n",
       " ('Last Notable Activity_Email Link Clicked', False, 6),\n",
       " ('Last Notable Activity_Email Opened', False, 37),\n",
       " ('Last Notable Activity_Had a Phone Conversation', False, 26),\n",
       " ('Last Notable Activity_Modified', True, 1),\n",
       " ('Last Notable Activity_Olark Chat Conversation', True, 1),\n",
       " ('Last Notable Activity_Page Visited on Website', False, 28),\n",
       " ('Last Notable Activity_SMS Sent', False, 3),\n",
       " ('Last Notable Activity_Unsubscribed', False, 34),\n",
       " ('Tags_Busy', True, 1),\n",
       " ('Tags_Closed by Horizzon', True, 1),\n",
       " ('Tags_Interested in other courses', True, 1),\n",
       " ('Tags_Lost to EINS', True, 1),\n",
       " ('Tags_Other_Tags', True, 1),\n",
       " ('Tags_Ringing', True, 1),\n",
       " ('Tags_Will revert after reading the email', True, 1)]"
      ]
     },
     "execution_count": 81,
     "metadata": {},
     "output_type": "execute_result"
    }
   ],
   "source": [
    "# Checking variables to be kept\n",
    "list(zip( X_train.columns, rfe.support_, rfe.ranking_))"
   ]
  },
  {
   "cell_type": "code",
   "execution_count": 82,
   "metadata": {
    "id": "0bcQgn2WAmaO"
   },
   "outputs": [],
   "source": [
    "# Column where rfe.support_ is True\n",
    "col = X_train.columns[rfe.support_]"
   ]
  },
  {
   "cell_type": "code",
   "execution_count": 83,
   "metadata": {
    "colab": {
     "base_uri": "https://localhost:8080/",
     "height": 514
    },
    "id": "unVQtwFpAmaR",
    "outputId": "f6bd307f-77b1-4aab-9b3f-a2392a2080cc"
   },
   "outputs": [
    {
     "data": {
      "text/plain": [
       "Index(['TotalVisits', 'Page Views Per Visit',\n",
       "       'What is your current occupation_Housewife',\n",
       "       'What is your current occupation_Other',\n",
       "       'What is your current occupation_Student',\n",
       "       'What is your current occupation_Unemployed', 'City_Other Cities',\n",
       "       'City_Other Cities of Maharashtra', 'City_Other Metro Cities',\n",
       "       'City_Thane & Outskirts', 'City_Tier II Cities',\n",
       "       'Specialization_Banking, Investment And Insurance',\n",
       "       'Specialization_Business Administration', 'Specialization_E-Business',\n",
       "       'Specialization_E-COMMERCE', 'Specialization_International Business',\n",
       "       'Specialization_Management Specializations',\n",
       "       'Specialization_Media and Advertising',\n",
       "       'Specialization_Rural and Agribusiness',\n",
       "       'Specialization_Services Excellence',\n",
       "       'Specialization_Travel and Tourism', 'Lead Source_Direct Traffic',\n",
       "       'Lead Source_Google', 'Lead Source_Organic Search',\n",
       "       'Last Activity_Converted to Lead', 'Last Activity_Email Bounced',\n",
       "       'Last Activity_Email Link Clicked', 'Last Activity_Email Opened',\n",
       "       'Last Activity_Form Submitted on Website',\n",
       "       'Last Activity_Olark Chat Conversation',\n",
       "       'Last Activity_Page Visited on Website',\n",
       "       'Last Notable Activity_Email Bounced',\n",
       "       'Last Notable Activity_Email Link Clicked',\n",
       "       'Last Notable Activity_Email Opened',\n",
       "       'Last Notable Activity_Had a Phone Conversation',\n",
       "       'Last Notable Activity_Page Visited on Website',\n",
       "       'Last Notable Activity_SMS Sent', 'Last Notable Activity_Unsubscribed'],\n",
       "      dtype='object')"
      ]
     },
     "execution_count": 83,
     "metadata": {},
     "output_type": "execute_result"
    }
   ],
   "source": [
    "# Columns where rfe.support_ is False\n",
    "X_train.columns[~rfe.support_]"
   ]
  },
  {
   "cell_type": "code",
   "execution_count": 84,
   "metadata": {
    "colab": {
     "base_uri": "https://localhost:8080/",
     "height": 1000
    },
    "id": "jchriQiHAmaU",
    "outputId": "750be98a-4a20-4528-ab95-e5578c0f45b5"
   },
   "outputs": [
    {
     "data": {
      "image/png": "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\n",
      "text/plain": [
       "<Figure size 1440x1080 with 2 Axes>"
      ]
     },
     "metadata": {
      "needs_background": "light"
     },
     "output_type": "display_data"
    }
   ],
   "source": [
    "# Looking for highly correlated variables\n",
    "plt.figure( figsize = [20,15])\n",
    "sns.heatmap( X_train[col].corr(), annot = True, cmap= 'Greens')\n",
    "plt.show()"
   ]
  },
  {
   "cell_type": "code",
   "execution_count": 85,
   "metadata": {
    "colab": {
     "base_uri": "https://localhost:8080/",
     "height": 497
    },
    "id": "0_08CyXsAmaY",
    "outputId": "989b653a-09cd-4a77-aa94-ef562dc60a41"
   },
   "outputs": [
    {
     "data": {
      "text/html": [
       "<table class=\"simpletable\">\n",
       "<caption>Generalized Linear Model Regression Results</caption>\n",
       "<tr>\n",
       "  <th>Dep. Variable:</th>       <td>Converted</td>    <th>  No. Observations:  </th>  <td>  6045</td> \n",
       "</tr>\n",
       "<tr>\n",
       "  <th>Model:</th>                  <td>GLM</td>       <th>  Df Residuals:      </th>  <td>  6029</td> \n",
       "</tr>\n",
       "<tr>\n",
       "  <th>Model Family:</th>        <td>Binomial</td>     <th>  Df Model:          </th>  <td>    15</td> \n",
       "</tr>\n",
       "<tr>\n",
       "  <th>Link Function:</th>         <td>logit</td>      <th>  Scale:             </th> <td>  1.0000</td>\n",
       "</tr>\n",
       "<tr>\n",
       "  <th>Method:</th>                <td>IRLS</td>       <th>  Log-Likelihood:    </th> <td> -1178.5</td>\n",
       "</tr>\n",
       "<tr>\n",
       "  <th>Date:</th>            <td>Sun, 25 Oct 2020</td> <th>  Deviance:          </th> <td>  2357.0</td>\n",
       "</tr>\n",
       "<tr>\n",
       "  <th>Time:</th>                <td>20:29:41</td>     <th>  Pearson chi2:      </th> <td>9.24e+03</td>\n",
       "</tr>\n",
       "<tr>\n",
       "  <th>No. Iterations:</th>          <td>8</td>        <th>                     </th>     <td> </td>   \n",
       "</tr>\n",
       "<tr>\n",
       "  <th>Covariance Type:</th>     <td>nonrobust</td>    <th>                     </th>     <td> </td>   \n",
       "</tr>\n",
       "</table>\n",
       "<table class=\"simpletable\">\n",
       "<tr>\n",
       "                            <td></td>                              <th>coef</th>     <th>std err</th>      <th>z</th>      <th>P>|z|</th>  <th>[0.025</th>    <th>0.975]</th>  \n",
       "</tr>\n",
       "<tr>\n",
       "  <th>const</th>                                                <td>   -1.1457</td> <td>    0.129</td> <td>   -8.859</td> <td> 0.000</td> <td>   -1.399</td> <td>   -0.892</td>\n",
       "</tr>\n",
       "<tr>\n",
       "  <th>Total Time Spent on Website</th>                          <td>    1.0701</td> <td>    0.063</td> <td>   16.860</td> <td> 0.000</td> <td>    0.946</td> <td>    1.195</td>\n",
       "</tr>\n",
       "<tr>\n",
       "  <th>Lead Origin_Import and Form</th>                          <td>    2.8111</td> <td>    0.296</td> <td>    9.512</td> <td> 0.000</td> <td>    2.232</td> <td>    3.390</td>\n",
       "</tr>\n",
       "<tr>\n",
       "  <th>Lead Origin_Landing Page Submission</th>                  <td>   -0.8169</td> <td>    0.142</td> <td>   -5.745</td> <td> 0.000</td> <td>   -1.096</td> <td>   -0.538</td>\n",
       "</tr>\n",
       "<tr>\n",
       "  <th>What is your current occupation_Working Professional</th> <td>    1.2090</td> <td>    0.449</td> <td>    2.695</td> <td> 0.007</td> <td>    0.330</td> <td>    2.088</td>\n",
       "</tr>\n",
       "<tr>\n",
       "  <th>Lead Source_Olark Chat</th>                               <td>    0.8096</td> <td>    0.172</td> <td>    4.714</td> <td> 0.000</td> <td>    0.473</td> <td>    1.146</td>\n",
       "</tr>\n",
       "<tr>\n",
       "  <th>Last Activity_SMS Sent</th>                               <td>    1.8934</td> <td>    0.118</td> <td>   16.041</td> <td> 0.000</td> <td>    1.662</td> <td>    2.125</td>\n",
       "</tr>\n",
       "<tr>\n",
       "  <th>Last Notable Activity_Modified</th>                       <td>   -1.7654</td> <td>    0.128</td> <td>  -13.784</td> <td> 0.000</td> <td>   -2.016</td> <td>   -1.514</td>\n",
       "</tr>\n",
       "<tr>\n",
       "  <th>Last Notable Activity_Olark Chat Conversation</th>        <td>   -2.0177</td> <td>    0.472</td> <td>   -4.277</td> <td> 0.000</td> <td>   -2.942</td> <td>   -1.093</td>\n",
       "</tr>\n",
       "<tr>\n",
       "  <th>Tags_Busy</th>                                            <td>    0.8847</td> <td>    0.231</td> <td>    3.829</td> <td> 0.000</td> <td>    0.432</td> <td>    1.338</td>\n",
       "</tr>\n",
       "<tr>\n",
       "  <th>Tags_Closed by Horizzon</th>                              <td>    7.1629</td> <td>    1.022</td> <td>    7.007</td> <td> 0.000</td> <td>    5.159</td> <td>    9.167</td>\n",
       "</tr>\n",
       "<tr>\n",
       "  <th>Tags_Interested in other courses</th>                     <td>   -2.2094</td> <td>    0.437</td> <td>   -5.060</td> <td> 0.000</td> <td>   -3.065</td> <td>   -1.354</td>\n",
       "</tr>\n",
       "<tr>\n",
       "  <th>Tags_Lost to EINS</th>                                    <td>    6.3035</td> <td>    0.736</td> <td>    8.565</td> <td> 0.000</td> <td>    4.861</td> <td>    7.746</td>\n",
       "</tr>\n",
       "<tr>\n",
       "  <th>Tags_Other_Tags</th>                                      <td>   -2.4365</td> <td>    0.231</td> <td>  -10.546</td> <td> 0.000</td> <td>   -2.889</td> <td>   -1.984</td>\n",
       "</tr>\n",
       "<tr>\n",
       "  <th>Tags_Ringing</th>                                         <td>   -3.5210</td> <td>    0.260</td> <td>  -13.527</td> <td> 0.000</td> <td>   -4.031</td> <td>   -3.011</td>\n",
       "</tr>\n",
       "<tr>\n",
       "  <th>Tags_Will revert after reading the email</th>             <td>    4.4605</td> <td>    0.204</td> <td>   21.835</td> <td> 0.000</td> <td>    4.060</td> <td>    4.861</td>\n",
       "</tr>\n",
       "</table>"
      ],
      "text/plain": [
       "<class 'statsmodels.iolib.summary.Summary'>\n",
       "\"\"\"\n",
       "                 Generalized Linear Model Regression Results                  \n",
       "==============================================================================\n",
       "Dep. Variable:              Converted   No. Observations:                 6045\n",
       "Model:                            GLM   Df Residuals:                     6029\n",
       "Model Family:                Binomial   Df Model:                           15\n",
       "Link Function:                  logit   Scale:                          1.0000\n",
       "Method:                          IRLS   Log-Likelihood:                -1178.5\n",
       "Date:                Sun, 25 Oct 2020   Deviance:                       2357.0\n",
       "Time:                        20:29:41   Pearson chi2:                 9.24e+03\n",
       "No. Iterations:                     8                                         \n",
       "Covariance Type:            nonrobust                                         \n",
       "========================================================================================================================\n",
       "                                                           coef    std err          z      P>|z|      [0.025      0.975]\n",
       "------------------------------------------------------------------------------------------------------------------------\n",
       "const                                                   -1.1457      0.129     -8.859      0.000      -1.399      -0.892\n",
       "Total Time Spent on Website                              1.0701      0.063     16.860      0.000       0.946       1.195\n",
       "Lead Origin_Import and Form                              2.8111      0.296      9.512      0.000       2.232       3.390\n",
       "Lead Origin_Landing Page Submission                     -0.8169      0.142     -5.745      0.000      -1.096      -0.538\n",
       "What is your current occupation_Working Professional     1.2090      0.449      2.695      0.007       0.330       2.088\n",
       "Lead Source_Olark Chat                                   0.8096      0.172      4.714      0.000       0.473       1.146\n",
       "Last Activity_SMS Sent                                   1.8934      0.118     16.041      0.000       1.662       2.125\n",
       "Last Notable Activity_Modified                          -1.7654      0.128    -13.784      0.000      -2.016      -1.514\n",
       "Last Notable Activity_Olark Chat Conversation           -2.0177      0.472     -4.277      0.000      -2.942      -1.093\n",
       "Tags_Busy                                                0.8847      0.231      3.829      0.000       0.432       1.338\n",
       "Tags_Closed by Horizzon                                  7.1629      1.022      7.007      0.000       5.159       9.167\n",
       "Tags_Interested in other courses                        -2.2094      0.437     -5.060      0.000      -3.065      -1.354\n",
       "Tags_Lost to EINS                                        6.3035      0.736      8.565      0.000       4.861       7.746\n",
       "Tags_Other_Tags                                         -2.4365      0.231    -10.546      0.000      -2.889      -1.984\n",
       "Tags_Ringing                                            -3.5210      0.260    -13.527      0.000      -4.031      -3.011\n",
       "Tags_Will revert after reading the email                 4.4605      0.204     21.835      0.000       4.060       4.861\n",
       "========================================================================================================================\n",
       "\"\"\""
      ]
     },
     "execution_count": 85,
     "metadata": {},
     "output_type": "execute_result"
    }
   ],
   "source": [
    "#BUILDING MODEL #1\n",
    "\n",
    "X_train_sm = sm.add_constant(X_train[col])\n",
    "logm1 = sm.GLM(y_train,X_train_sm, family = sm.families.Binomial())\n",
    "res = logm1.fit()\n",
    "res.summary()"
   ]
  },
  {
   "cell_type": "markdown",
   "metadata": {
    "id": "HDSDvLRZAmaa"
   },
   "source": [
    "Since 'All' the p-values are less, i.e., All the variables are significant we can check the Variance Inflation Factor to see if there is any correlation between the variables."
   ]
  },
  {
   "cell_type": "code",
   "execution_count": 86,
   "metadata": {
    "colab": {
     "base_uri": "https://localhost:8080/",
     "height": 497
    },
    "id": "RDuq1DkdAmaa",
    "outputId": "f84c6dfe-8cfd-4efa-b941-fd732ca476fe"
   },
   "outputs": [
    {
     "data": {
      "text/html": [
       "<div>\n",
       "<style scoped>\n",
       "    .dataframe tbody tr th:only-of-type {\n",
       "        vertical-align: middle;\n",
       "    }\n",
       "\n",
       "    .dataframe tbody tr th {\n",
       "        vertical-align: top;\n",
       "    }\n",
       "\n",
       "    .dataframe thead th {\n",
       "        text-align: right;\n",
       "    }\n",
       "</style>\n",
       "<table border=\"1\" class=\"dataframe\">\n",
       "  <thead>\n",
       "    <tr style=\"text-align: right;\">\n",
       "      <th></th>\n",
       "      <th>Features</th>\n",
       "      <th>VIF</th>\n",
       "    </tr>\n",
       "  </thead>\n",
       "  <tbody>\n",
       "    <tr>\n",
       "      <th>2</th>\n",
       "      <td>Lead Origin_Landing Page Submission</td>\n",
       "      <td>2.2800</td>\n",
       "    </tr>\n",
       "    <tr>\n",
       "      <th>14</th>\n",
       "      <td>Tags_Will revert after reading the email</td>\n",
       "      <td>2.0300</td>\n",
       "    </tr>\n",
       "    <tr>\n",
       "      <th>6</th>\n",
       "      <td>Last Notable Activity_Modified</td>\n",
       "      <td>1.6100</td>\n",
       "    </tr>\n",
       "    <tr>\n",
       "      <th>5</th>\n",
       "      <td>Last Activity_SMS Sent</td>\n",
       "      <td>1.5900</td>\n",
       "    </tr>\n",
       "    <tr>\n",
       "      <th>4</th>\n",
       "      <td>Lead Source_Olark Chat</td>\n",
       "      <td>1.5800</td>\n",
       "    </tr>\n",
       "    <tr>\n",
       "      <th>1</th>\n",
       "      <td>Lead Origin_Import and Form</td>\n",
       "      <td>1.5700</td>\n",
       "    </tr>\n",
       "    <tr>\n",
       "      <th>0</th>\n",
       "      <td>Total Time Spent on Website</td>\n",
       "      <td>1.4800</td>\n",
       "    </tr>\n",
       "    <tr>\n",
       "      <th>12</th>\n",
       "      <td>Tags_Other_Tags</td>\n",
       "      <td>1.3400</td>\n",
       "    </tr>\n",
       "    <tr>\n",
       "      <th>3</th>\n",
       "      <td>What is your current occupation_Working Professional</td>\n",
       "      <td>1.3300</td>\n",
       "    </tr>\n",
       "    <tr>\n",
       "      <th>13</th>\n",
       "      <td>Tags_Ringing</td>\n",
       "      <td>1.3000</td>\n",
       "    </tr>\n",
       "    <tr>\n",
       "      <th>9</th>\n",
       "      <td>Tags_Closed by Horizzon</td>\n",
       "      <td>1.2300</td>\n",
       "    </tr>\n",
       "    <tr>\n",
       "      <th>10</th>\n",
       "      <td>Tags_Interested in other courses</td>\n",
       "      <td>1.1400</td>\n",
       "    </tr>\n",
       "    <tr>\n",
       "      <th>8</th>\n",
       "      <td>Tags_Busy</td>\n",
       "      <td>1.0800</td>\n",
       "    </tr>\n",
       "    <tr>\n",
       "      <th>11</th>\n",
       "      <td>Tags_Lost to EINS</td>\n",
       "      <td>1.0800</td>\n",
       "    </tr>\n",
       "    <tr>\n",
       "      <th>7</th>\n",
       "      <td>Last Notable Activity_Olark Chat Conversation</td>\n",
       "      <td>1.0700</td>\n",
       "    </tr>\n",
       "  </tbody>\n",
       "</table>\n",
       "</div>"
      ],
      "text/plain": [
       "                                                Features    VIF\n",
       "2   Lead Origin_Landing Page Submission                  2.2800\n",
       "14  Tags_Will revert after reading the email             2.0300\n",
       "6   Last Notable Activity_Modified                       1.6100\n",
       "5   Last Activity_SMS Sent                               1.5900\n",
       "4   Lead Source_Olark Chat                               1.5800\n",
       "1   Lead Origin_Import and Form                          1.5700\n",
       "0   Total Time Spent on Website                          1.4800\n",
       "12  Tags_Other_Tags                                      1.3400\n",
       "3   What is your current occupation_Working Professional 1.3300\n",
       "13  Tags_Ringing                                         1.3000\n",
       "9   Tags_Closed by Horizzon                              1.2300\n",
       "10  Tags_Interested in other courses                     1.1400\n",
       "8   Tags_Busy                                            1.0800\n",
       "11  Tags_Lost to EINS                                    1.0800\n",
       "7   Last Notable Activity_Olark Chat Conversation        1.0700"
      ]
     },
     "execution_count": 86,
     "metadata": {},
     "output_type": "execute_result"
    }
   ],
   "source": [
    "# Create a dataframe that will contain the names of all the feature variables and their respective VIFs\n",
    "\n",
    "vif = pd.DataFrame()\n",
    "vif['Features'] = X_train[col].columns\n",
    "vif['VIF'] = [variance_inflation_factor(X_train[col].values, i) for i in range(X_train[col].shape[1])]\n",
    "vif['VIF'] = round(vif['VIF'], 2)\n",
    "vif = vif.sort_values(by = \"VIF\", ascending = False)\n",
    "vif"
   ]
  },
  {
   "cell_type": "markdown",
   "metadata": {
    "id": "F9J6gFevAmac"
   },
   "source": [
    "All the VIFs are under acceptable range."
   ]
  },
  {
   "cell_type": "markdown",
   "metadata": {
    "id": "dfSnEEefAmad"
   },
   "source": [
    "### All the Values seem to be in order now, Moving on to derive the Probabilities, Lead Score, Predictions on Train Data:"
   ]
  },
  {
   "cell_type": "code",
   "execution_count": 87,
   "metadata": {
    "colab": {
     "base_uri": "https://localhost:8080/",
     "height": 212
    },
    "id": "2CmaqmpjAmad",
    "outputId": "c3fb86aa-ab33-46e9-e94f-31a04f631abe"
   },
   "outputs": [
    {
     "data": {
      "text/plain": [
       "6586   0.9948\n",
       "3686   0.4499\n",
       "4807   0.9279\n",
       "7175   0.9518\n",
       "2555   0.0240\n",
       "943    0.9966\n",
       "4920   0.6537\n",
       "140    0.0022\n",
       "2936   0.9937\n",
       "6254   0.0025\n",
       "dtype: float64"
      ]
     },
     "execution_count": 87,
     "metadata": {},
     "output_type": "execute_result"
    }
   ],
   "source": [
    "# Predicted values on the train set\n",
    "y_train_pred= res.predict(X_train_sm)\n",
    "y_train_pred[:10]"
   ]
  },
  {
   "cell_type": "code",
   "execution_count": 88,
   "metadata": {
    "colab": {
     "base_uri": "https://localhost:8080/",
     "height": 52
    },
    "id": "VAWSPBU0Amag",
    "outputId": "d1391fc7-544b-4177-927f-aac6527ea53f"
   },
   "outputs": [
    {
     "data": {
      "text/plain": [
       "array([0.99484594, 0.44989241, 0.92788547, 0.9518476 , 0.02402343,\n",
       "       0.99658853, 0.65367681, 0.00224899, 0.9937418 , 0.00251953])"
      ]
     },
     "execution_count": 88,
     "metadata": {},
     "output_type": "execute_result"
    }
   ],
   "source": [
    "# Reshaping y_train_pred\n",
    "y_train_pred= y_train_pred.values.reshape(-1)\n",
    "y_train_pred[:10]"
   ]
  },
  {
   "cell_type": "code",
   "execution_count": 89,
   "metadata": {
    "colab": {
     "base_uri": "https://localhost:8080/",
     "height": 197
    },
    "id": "IngHGrQMAmai",
    "outputId": "9971e322-eedf-470e-8476-691bdbb5f955"
   },
   "outputs": [
    {
     "data": {
      "text/html": [
       "<div>\n",
       "<style scoped>\n",
       "    .dataframe tbody tr th:only-of-type {\n",
       "        vertical-align: middle;\n",
       "    }\n",
       "\n",
       "    .dataframe tbody tr th {\n",
       "        vertical-align: top;\n",
       "    }\n",
       "\n",
       "    .dataframe thead th {\n",
       "        text-align: right;\n",
       "    }\n",
       "</style>\n",
       "<table border=\"1\" class=\"dataframe\">\n",
       "  <thead>\n",
       "    <tr style=\"text-align: right;\">\n",
       "      <th></th>\n",
       "      <th>Converted</th>\n",
       "      <th>Converted_prob</th>\n",
       "      <th>Prospect ID</th>\n",
       "    </tr>\n",
       "  </thead>\n",
       "  <tbody>\n",
       "    <tr>\n",
       "      <th>0</th>\n",
       "      <td>1</td>\n",
       "      <td>0.9948</td>\n",
       "      <td>6586</td>\n",
       "    </tr>\n",
       "    <tr>\n",
       "      <th>1</th>\n",
       "      <td>1</td>\n",
       "      <td>0.4499</td>\n",
       "      <td>3686</td>\n",
       "    </tr>\n",
       "    <tr>\n",
       "      <th>2</th>\n",
       "      <td>1</td>\n",
       "      <td>0.9279</td>\n",
       "      <td>4807</td>\n",
       "    </tr>\n",
       "    <tr>\n",
       "      <th>3</th>\n",
       "      <td>1</td>\n",
       "      <td>0.9518</td>\n",
       "      <td>7175</td>\n",
       "    </tr>\n",
       "    <tr>\n",
       "      <th>4</th>\n",
       "      <td>0</td>\n",
       "      <td>0.0240</td>\n",
       "      <td>2555</td>\n",
       "    </tr>\n",
       "  </tbody>\n",
       "</table>\n",
       "</div>"
      ],
      "text/plain": [
       "   Converted  Converted_prob  Prospect ID\n",
       "0  1         0.9948           6586       \n",
       "1  1         0.4499           3686       \n",
       "2  1         0.9279           4807       \n",
       "3  1         0.9518           7175       \n",
       "4  0         0.0240           2555       "
      ]
     },
     "execution_count": 89,
     "metadata": {},
     "output_type": "execute_result"
    }
   ],
   "source": [
    "# New dataframe to compare actual vs predicted data\n",
    "y_train_pred_final = pd.DataFrame({'Converted': y_train.values, 'Converted_prob': y_train_pred})\n",
    "y_train_pred_final['Prospect ID'] = y_train.index\n",
    "y_train_pred_final.head()"
   ]
  },
  {
   "cell_type": "code",
   "execution_count": 90,
   "metadata": {
    "id": "yTbdn63SAmal"
   },
   "outputs": [],
   "source": [
    "# Draw_roc function\n",
    "def draw_roc( actual, probs ):\n",
    "    fpr, tpr, thresholds = metrics.roc_curve( actual, probs,\n",
    "                                              drop_intermediate = False )\n",
    "    auc_score = metrics.roc_auc_score( actual, probs )\n",
    "    plt.figure(figsize=(5, 5))\n",
    "    plt.plot( fpr, tpr, label='ROC curve (area = %0.2f)' % auc_score )\n",
    "    plt.plot([0, 1], [0, 1], 'k--')\n",
    "    plt.xlim([0.0, 1.0])\n",
    "    plt.ylim([0.0, 1.05])\n",
    "    plt.xlabel('False Positive Rate or [1 - True Negative Rate]')\n",
    "    plt.ylabel('True Positive Rate')\n",
    "    plt.title('Receiver operating characteristic ')\n",
    "    plt.legend(loc=\"lower right\")\n",
    "    plt.show()\n",
    "\n",
    "    return None"
   ]
  },
  {
   "cell_type": "code",
   "execution_count": 91,
   "metadata": {
    "id": "w4IwVWQ_Amao"
   },
   "outputs": [],
   "source": [
    "# Calling roc_curve metrics\n",
    "fpr, tpr, thresholds = metrics.roc_curve( y_train_pred_final.Converted, y_train_pred_final.Converted_prob, drop_intermediate = False )"
   ]
  },
  {
   "cell_type": "code",
   "execution_count": 92,
   "metadata": {
    "colab": {
     "base_uri": "https://localhost:8080/",
     "height": 354
    },
    "id": "5u4bieSzAmas",
    "outputId": "c164d1ac-214c-4f66-b175-c4ac08c286bd"
   },
   "outputs": [
    {
     "data": {
      "image/png": "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\n",
      "text/plain": [
       "<Figure size 360x360 with 1 Axes>"
      ]
     },
     "metadata": {
      "needs_background": "light"
     },
     "output_type": "display_data"
    }
   ],
   "source": [
    "# Calling draw_roc function\n",
    "draw_roc(y_train_pred_final.Converted, y_train_pred_final.Converted_prob)"
   ]
  },
  {
   "cell_type": "markdown",
   "metadata": {
    "id": "eTYk11X_Amau"
   },
   "source": [
    "The ROC curve has a very good value of 0.97"
   ]
  },
  {
   "cell_type": "markdown",
   "metadata": {
    "id": "eAzkfhYVAmau"
   },
   "source": [
    "### Finding Optimal Cutoff Point"
   ]
  },
  {
   "cell_type": "code",
   "execution_count": 93,
   "metadata": {
    "colab": {
     "base_uri": "https://localhost:8080/",
     "height": 197
    },
    "id": "Q5QqqIFtAmau",
    "outputId": "24d448dc-75e4-4c1b-d476-738d9d0ca2f7"
   },
   "outputs": [
    {
     "data": {
      "text/html": [
       "<div>\n",
       "<style scoped>\n",
       "    .dataframe tbody tr th:only-of-type {\n",
       "        vertical-align: middle;\n",
       "    }\n",
       "\n",
       "    .dataframe tbody tr th {\n",
       "        vertical-align: top;\n",
       "    }\n",
       "\n",
       "    .dataframe thead th {\n",
       "        text-align: right;\n",
       "    }\n",
       "</style>\n",
       "<table border=\"1\" class=\"dataframe\">\n",
       "  <thead>\n",
       "    <tr style=\"text-align: right;\">\n",
       "      <th></th>\n",
       "      <th>Converted</th>\n",
       "      <th>Converted_prob</th>\n",
       "      <th>Prospect ID</th>\n",
       "      <th>0.0</th>\n",
       "      <th>0.1</th>\n",
       "      <th>0.2</th>\n",
       "      <th>0.3</th>\n",
       "      <th>0.4</th>\n",
       "      <th>0.5</th>\n",
       "      <th>0.6</th>\n",
       "      <th>0.7</th>\n",
       "      <th>0.8</th>\n",
       "      <th>0.9</th>\n",
       "    </tr>\n",
       "  </thead>\n",
       "  <tbody>\n",
       "    <tr>\n",
       "      <th>0</th>\n",
       "      <td>1</td>\n",
       "      <td>0.9948</td>\n",
       "      <td>6586</td>\n",
       "      <td>1</td>\n",
       "      <td>1</td>\n",
       "      <td>1</td>\n",
       "      <td>1</td>\n",
       "      <td>1</td>\n",
       "      <td>1</td>\n",
       "      <td>1</td>\n",
       "      <td>1</td>\n",
       "      <td>1</td>\n",
       "      <td>1</td>\n",
       "    </tr>\n",
       "    <tr>\n",
       "      <th>1</th>\n",
       "      <td>1</td>\n",
       "      <td>0.4499</td>\n",
       "      <td>3686</td>\n",
       "      <td>1</td>\n",
       "      <td>1</td>\n",
       "      <td>1</td>\n",
       "      <td>1</td>\n",
       "      <td>1</td>\n",
       "      <td>0</td>\n",
       "      <td>0</td>\n",
       "      <td>0</td>\n",
       "      <td>0</td>\n",
       "      <td>0</td>\n",
       "    </tr>\n",
       "    <tr>\n",
       "      <th>2</th>\n",
       "      <td>1</td>\n",
       "      <td>0.9279</td>\n",
       "      <td>4807</td>\n",
       "      <td>1</td>\n",
       "      <td>1</td>\n",
       "      <td>1</td>\n",
       "      <td>1</td>\n",
       "      <td>1</td>\n",
       "      <td>1</td>\n",
       "      <td>1</td>\n",
       "      <td>1</td>\n",
       "      <td>1</td>\n",
       "      <td>1</td>\n",
       "    </tr>\n",
       "    <tr>\n",
       "      <th>3</th>\n",
       "      <td>1</td>\n",
       "      <td>0.9518</td>\n",
       "      <td>7175</td>\n",
       "      <td>1</td>\n",
       "      <td>1</td>\n",
       "      <td>1</td>\n",
       "      <td>1</td>\n",
       "      <td>1</td>\n",
       "      <td>1</td>\n",
       "      <td>1</td>\n",
       "      <td>1</td>\n",
       "      <td>1</td>\n",
       "      <td>1</td>\n",
       "    </tr>\n",
       "    <tr>\n",
       "      <th>4</th>\n",
       "      <td>0</td>\n",
       "      <td>0.0240</td>\n",
       "      <td>2555</td>\n",
       "      <td>1</td>\n",
       "      <td>0</td>\n",
       "      <td>0</td>\n",
       "      <td>0</td>\n",
       "      <td>0</td>\n",
       "      <td>0</td>\n",
       "      <td>0</td>\n",
       "      <td>0</td>\n",
       "      <td>0</td>\n",
       "      <td>0</td>\n",
       "    </tr>\n",
       "  </tbody>\n",
       "</table>\n",
       "</div>"
      ],
      "text/plain": [
       "   Converted  Converted_prob  Prospect ID  0.0  0.1  0.2  0.3  0.4  0.5  0.6  0.7  0.8  0.9\n",
       "0  1         0.9948           6586         1    1    1    1    1    1    1    1    1    1  \n",
       "1  1         0.4499           3686         1    1    1    1    1    0    0    0    0    0  \n",
       "2  1         0.9279           4807         1    1    1    1    1    1    1    1    1    1  \n",
       "3  1         0.9518           7175         1    1    1    1    1    1    1    1    1    1  \n",
       "4  0         0.0240           2555         1    0    0    0    0    0    0    0    0    0  "
      ]
     },
     "execution_count": 93,
     "metadata": {},
     "output_type": "execute_result"
    }
   ],
   "source": [
    "# Creating columns with different probability cutoffs \n",
    "numbers = [float(x)/10 for x in range(10)]\n",
    "for i in numbers:\n",
    "    y_train_pred_final[i]= y_train_pred_final.Converted_prob.map( lambda x: 1 if x>i else 0)\n",
    "y_train_pred_final.head()"
   ]
  },
  {
   "cell_type": "code",
   "execution_count": 94,
   "metadata": {
    "colab": {
     "base_uri": "https://localhost:8080/",
     "height": 212
    },
    "id": "kailT-aRAmaz",
    "outputId": "9768ab9c-7585-440e-8002-4e682f19daf7"
   },
   "outputs": [
    {
     "name": "stdout",
     "output_type": "stream",
     "text": [
      "        probility  accuracy  sensitivity  specificity\n",
      "0.0000 0.0000     0.3758    1.0000       0.0000      \n",
      "0.1000 0.1000     0.8506    0.9727       0.7771      \n",
      "0.2000 0.2000     0.8903    0.9520       0.8532      \n",
      "0.3000 0.3000     0.9236    0.9159       0.9282      \n",
      "0.4000 0.4000     0.9295    0.9018       0.9462      \n",
      "0.5000 0.5000     0.9287    0.8803       0.9579      \n",
      "0.6000 0.6000     0.9251    0.8561       0.9666      \n",
      "0.7000 0.7000     0.9103    0.7953       0.9796      \n",
      "0.8000 0.8000     0.9034    0.7685       0.9846      \n",
      "0.9000 0.9000     0.8868    0.7143       0.9907      \n"
     ]
    }
   ],
   "source": [
    "# Calculate accuracy sensitivity and specificity for various probability cutoffs.\n",
    "cutoff_df = pd.DataFrame( columns = ['probility','accuracy','sensitivity','specificity'])\n",
    "\n",
    "# TP = confusion[1,1] # true positive \n",
    "# TN = confusion[0,0] # true negatives\n",
    "# FP = confusion[0,1] # false positives\n",
    "# FN = confusion[1,0] # false negatives\n",
    "\n",
    "num = [0.0, 0.1, 0.2, 0.3, 0.4, 0.5, 0.6, 0.7, 0.8, 0.9]\n",
    "for i in num:\n",
    "    cm1 = metrics.confusion_matrix(y_train_pred_final.Converted, y_train_pred_final[i] )\n",
    "    total1=sum(sum(cm1))\n",
    "    accuracy = (cm1[0,0]+cm1[1,1])/total1\n",
    "    \n",
    "    specificity = cm1[0,0]/(cm1[0,0]+cm1[0,1])\n",
    "    sensitivity = cm1[1,1]/(cm1[1,0]+cm1[1,1])\n",
    "    cutoff_df.loc[i] =[ i ,accuracy, sensitivity, specificity]\n",
    "print(cutoff_df)"
   ]
  },
  {
   "cell_type": "code",
   "execution_count": 95,
   "metadata": {
    "colab": {
     "base_uri": "https://localhost:8080/",
     "height": 318
    },
    "id": "nu4FeaJGAma1",
    "outputId": "6dda687a-c10c-46cf-9127-e081ebea65f8"
   },
   "outputs": [
    {
     "data": {
      "text/plain": [
       "<Figure size 1080x504 with 0 Axes>"
      ]
     },
     "metadata": {},
     "output_type": "display_data"
    },
    {
     "data": {
      "image/png": "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\n",
      "text/plain": [
       "<Figure size 432x288 with 1 Axes>"
      ]
     },
     "metadata": {
      "needs_background": "light"
     },
     "output_type": "display_data"
    }
   ],
   "source": [
    "# Plotting accuracy sensitivity and specificity for various probabilities.\n",
    "\n",
    "plt.figure( figsize= [15,7])\n",
    "cutoff_df.plot.line(x='probility', y=['accuracy','sensitivity','specificity'])\n",
    "plt.title(\" Optimal cutoff point \")\n",
    "plt.show()"
   ]
  },
  {
   "cell_type": "code",
   "execution_count": 96,
   "metadata": {
    "colab": {
     "base_uri": "https://localhost:8080/",
     "height": 197
    },
    "id": "g-aRElQlAma4",
    "outputId": "012c4e19-3473-44e5-b664-261627321067"
   },
   "outputs": [
    {
     "data": {
      "text/html": [
       "<div>\n",
       "<style scoped>\n",
       "    .dataframe tbody tr th:only-of-type {\n",
       "        vertical-align: middle;\n",
       "    }\n",
       "\n",
       "    .dataframe tbody tr th {\n",
       "        vertical-align: top;\n",
       "    }\n",
       "\n",
       "    .dataframe thead th {\n",
       "        text-align: right;\n",
       "    }\n",
       "</style>\n",
       "<table border=\"1\" class=\"dataframe\">\n",
       "  <thead>\n",
       "    <tr style=\"text-align: right;\">\n",
       "      <th></th>\n",
       "      <th>Converted</th>\n",
       "      <th>Converted_prob</th>\n",
       "      <th>Prospect ID</th>\n",
       "      <th>0.0</th>\n",
       "      <th>0.1</th>\n",
       "      <th>0.2</th>\n",
       "      <th>0.3</th>\n",
       "      <th>0.4</th>\n",
       "      <th>0.5</th>\n",
       "      <th>0.6</th>\n",
       "      <th>0.7</th>\n",
       "      <th>0.8</th>\n",
       "      <th>0.9</th>\n",
       "      <th>final_Predicted</th>\n",
       "    </tr>\n",
       "  </thead>\n",
       "  <tbody>\n",
       "    <tr>\n",
       "      <th>0</th>\n",
       "      <td>1</td>\n",
       "      <td>0.9948</td>\n",
       "      <td>6586</td>\n",
       "      <td>1</td>\n",
       "      <td>1</td>\n",
       "      <td>1</td>\n",
       "      <td>1</td>\n",
       "      <td>1</td>\n",
       "      <td>1</td>\n",
       "      <td>1</td>\n",
       "      <td>1</td>\n",
       "      <td>1</td>\n",
       "      <td>1</td>\n",
       "      <td>1</td>\n",
       "    </tr>\n",
       "    <tr>\n",
       "      <th>1</th>\n",
       "      <td>1</td>\n",
       "      <td>0.4499</td>\n",
       "      <td>3686</td>\n",
       "      <td>1</td>\n",
       "      <td>1</td>\n",
       "      <td>1</td>\n",
       "      <td>1</td>\n",
       "      <td>1</td>\n",
       "      <td>0</td>\n",
       "      <td>0</td>\n",
       "      <td>0</td>\n",
       "      <td>0</td>\n",
       "      <td>0</td>\n",
       "      <td>1</td>\n",
       "    </tr>\n",
       "    <tr>\n",
       "      <th>2</th>\n",
       "      <td>1</td>\n",
       "      <td>0.9279</td>\n",
       "      <td>4807</td>\n",
       "      <td>1</td>\n",
       "      <td>1</td>\n",
       "      <td>1</td>\n",
       "      <td>1</td>\n",
       "      <td>1</td>\n",
       "      <td>1</td>\n",
       "      <td>1</td>\n",
       "      <td>1</td>\n",
       "      <td>1</td>\n",
       "      <td>1</td>\n",
       "      <td>1</td>\n",
       "    </tr>\n",
       "    <tr>\n",
       "      <th>3</th>\n",
       "      <td>1</td>\n",
       "      <td>0.9518</td>\n",
       "      <td>7175</td>\n",
       "      <td>1</td>\n",
       "      <td>1</td>\n",
       "      <td>1</td>\n",
       "      <td>1</td>\n",
       "      <td>1</td>\n",
       "      <td>1</td>\n",
       "      <td>1</td>\n",
       "      <td>1</td>\n",
       "      <td>1</td>\n",
       "      <td>1</td>\n",
       "      <td>1</td>\n",
       "    </tr>\n",
       "    <tr>\n",
       "      <th>4</th>\n",
       "      <td>0</td>\n",
       "      <td>0.0240</td>\n",
       "      <td>2555</td>\n",
       "      <td>1</td>\n",
       "      <td>0</td>\n",
       "      <td>0</td>\n",
       "      <td>0</td>\n",
       "      <td>0</td>\n",
       "      <td>0</td>\n",
       "      <td>0</td>\n",
       "      <td>0</td>\n",
       "      <td>0</td>\n",
       "      <td>0</td>\n",
       "      <td>0</td>\n",
       "    </tr>\n",
       "  </tbody>\n",
       "</table>\n",
       "</div>"
      ],
      "text/plain": [
       "   Converted  Converted_prob  Prospect ID  0.0  0.1  0.2  0.3  0.4  0.5  0.6  0.7  0.8  0.9  final_Predicted\n",
       "0  1         0.9948           6586         1    1    1    1    1    1    1    1    1    1    1              \n",
       "1  1         0.4499           3686         1    1    1    1    1    0    0    0    0    0    1              \n",
       "2  1         0.9279           4807         1    1    1    1    1    1    1    1    1    1    1              \n",
       "3  1         0.9518           7175         1    1    1    1    1    1    1    1    1    1    1              \n",
       "4  0         0.0240           2555         1    0    0    0    0    0    0    0    0    0    0              "
      ]
     },
     "execution_count": 96,
     "metadata": {},
     "output_type": "execute_result"
    }
   ],
   "source": [
    "# From the curve above, 0.3 is the optimum point to take it as a cutoff probability.\n",
    "\n",
    "y_train_pred_final['final_Predicted'] = y_train_pred_final.Converted_prob.map( lambda x: 1 if x > 0.3 else 0)\n",
    "y_train_pred_final.head()"
   ]
  },
  {
   "cell_type": "code",
   "execution_count": 97,
   "metadata": {
    "colab": {
     "base_uri": "https://localhost:8080/",
     "height": 197
    },
    "id": "Y67PyTsVAma6",
    "outputId": "5a10f44e-b600-47cf-9301-28e1294d47e9"
   },
   "outputs": [
    {
     "data": {
      "text/html": [
       "<div>\n",
       "<style scoped>\n",
       "    .dataframe tbody tr th:only-of-type {\n",
       "        vertical-align: middle;\n",
       "    }\n",
       "\n",
       "    .dataframe tbody tr th {\n",
       "        vertical-align: top;\n",
       "    }\n",
       "\n",
       "    .dataframe thead th {\n",
       "        text-align: right;\n",
       "    }\n",
       "</style>\n",
       "<table border=\"1\" class=\"dataframe\">\n",
       "  <thead>\n",
       "    <tr style=\"text-align: right;\">\n",
       "      <th></th>\n",
       "      <th>Converted</th>\n",
       "      <th>Converted_prob</th>\n",
       "      <th>Prospect ID</th>\n",
       "      <th>final_Predicted</th>\n",
       "      <th>Lead Score</th>\n",
       "    </tr>\n",
       "  </thead>\n",
       "  <tbody>\n",
       "    <tr>\n",
       "      <th>0</th>\n",
       "      <td>1</td>\n",
       "      <td>0.9948</td>\n",
       "      <td>6586</td>\n",
       "      <td>1</td>\n",
       "      <td>99</td>\n",
       "    </tr>\n",
       "    <tr>\n",
       "      <th>1</th>\n",
       "      <td>1</td>\n",
       "      <td>0.4499</td>\n",
       "      <td>3686</td>\n",
       "      <td>1</td>\n",
       "      <td>45</td>\n",
       "    </tr>\n",
       "    <tr>\n",
       "      <th>2</th>\n",
       "      <td>1</td>\n",
       "      <td>0.9279</td>\n",
       "      <td>4807</td>\n",
       "      <td>1</td>\n",
       "      <td>93</td>\n",
       "    </tr>\n",
       "    <tr>\n",
       "      <th>3</th>\n",
       "      <td>1</td>\n",
       "      <td>0.9518</td>\n",
       "      <td>7175</td>\n",
       "      <td>1</td>\n",
       "      <td>95</td>\n",
       "    </tr>\n",
       "    <tr>\n",
       "      <th>4</th>\n",
       "      <td>0</td>\n",
       "      <td>0.0240</td>\n",
       "      <td>2555</td>\n",
       "      <td>0</td>\n",
       "      <td>2</td>\n",
       "    </tr>\n",
       "  </tbody>\n",
       "</table>\n",
       "</div>"
      ],
      "text/plain": [
       "   Converted  Converted_prob  Prospect ID  final_Predicted  Lead Score\n",
       "0  1         0.9948           6586         1                99        \n",
       "1  1         0.4499           3686         1                45        \n",
       "2  1         0.9279           4807         1                93        \n",
       "3  1         0.9518           7175         1                95        \n",
       "4  0         0.0240           2555         0                2         "
      ]
     },
     "execution_count": 97,
     "metadata": {},
     "output_type": "execute_result"
    }
   ],
   "source": [
    "# Calculating lead score\n",
    "y_train_pred_final['Lead Score'] = y_train_pred_final.Converted_prob.map( lambda x: round(x*100))\n",
    "\n",
    "y_train_pred_final[['Converted','Converted_prob','Prospect ID','final_Predicted','Lead Score']].head()"
   ]
  },
  {
   "cell_type": "code",
   "execution_count": 98,
   "metadata": {
    "colab": {
     "base_uri": "https://localhost:8080/",
     "height": 197
    },
    "id": "bxCcUOt5Ama8",
    "outputId": "e679774d-3009-4428-da00-7a2f09bb2421",
    "scrolled": true
   },
   "outputs": [
    {
     "data": {
      "text/html": [
       "<div>\n",
       "<style scoped>\n",
       "    .dataframe tbody tr th:only-of-type {\n",
       "        vertical-align: middle;\n",
       "    }\n",
       "\n",
       "    .dataframe tbody tr th {\n",
       "        vertical-align: top;\n",
       "    }\n",
       "\n",
       "    .dataframe thead th {\n",
       "        text-align: right;\n",
       "    }\n",
       "</style>\n",
       "<table border=\"1\" class=\"dataframe\">\n",
       "  <thead>\n",
       "    <tr style=\"text-align: right;\">\n",
       "      <th></th>\n",
       "      <th>Converted</th>\n",
       "      <th>Converted_prob</th>\n",
       "      <th>Prospect ID</th>\n",
       "      <th>final_Predicted</th>\n",
       "      <th>Lead Score</th>\n",
       "    </tr>\n",
       "  </thead>\n",
       "  <tbody>\n",
       "    <tr>\n",
       "      <th>0</th>\n",
       "      <td>1</td>\n",
       "      <td>0.9948</td>\n",
       "      <td>6586</td>\n",
       "      <td>1</td>\n",
       "      <td>99</td>\n",
       "    </tr>\n",
       "    <tr>\n",
       "      <th>1</th>\n",
       "      <td>1</td>\n",
       "      <td>0.4499</td>\n",
       "      <td>3686</td>\n",
       "      <td>1</td>\n",
       "      <td>45</td>\n",
       "    </tr>\n",
       "    <tr>\n",
       "      <th>2</th>\n",
       "      <td>1</td>\n",
       "      <td>0.9279</td>\n",
       "      <td>4807</td>\n",
       "      <td>1</td>\n",
       "      <td>93</td>\n",
       "    </tr>\n",
       "    <tr>\n",
       "      <th>3</th>\n",
       "      <td>1</td>\n",
       "      <td>0.9518</td>\n",
       "      <td>7175</td>\n",
       "      <td>1</td>\n",
       "      <td>95</td>\n",
       "    </tr>\n",
       "    <tr>\n",
       "      <th>4</th>\n",
       "      <td>0</td>\n",
       "      <td>0.0240</td>\n",
       "      <td>2555</td>\n",
       "      <td>0</td>\n",
       "      <td>2</td>\n",
       "    </tr>\n",
       "  </tbody>\n",
       "</table>\n",
       "</div>"
      ],
      "text/plain": [
       "   Converted  Converted_prob  Prospect ID  final_Predicted  Lead Score\n",
       "0  1         0.9948           6586         1                99        \n",
       "1  1         0.4499           3686         1                45        \n",
       "2  1         0.9279           4807         1                93        \n",
       "3  1         0.9518           7175         1                95        \n",
       "4  0         0.0240           2555         0                2         "
      ]
     },
     "execution_count": 98,
     "metadata": {},
     "output_type": "execute_result"
    }
   ],
   "source": [
    "# Dropping num coluumn list from dataset\n",
    "y_train_pred_final.drop( num, axis = 1, inplace = True)\n",
    "y_train_pred_final.head()"
   ]
  },
  {
   "cell_type": "code",
   "execution_count": 99,
   "metadata": {
    "colab": {
     "base_uri": "https://localhost:8080/",
     "height": 34
    },
    "id": "n1rtTPS_Ama-",
    "outputId": "5df4f8ed-9582-4b83-d118-92863612c81e"
   },
   "outputs": [
    {
     "data": {
      "text/plain": [
       "0.9235732009925558"
      ]
     },
     "execution_count": 99,
     "metadata": {},
     "output_type": "execute_result"
    }
   ],
   "source": [
    "# Overall accuracy.\n",
    "metrics.accuracy_score(y_train_pred_final.Converted, y_train_pred_final.final_Predicted)"
   ]
  },
  {
   "cell_type": "code",
   "execution_count": 100,
   "metadata": {
    "colab": {
     "base_uri": "https://localhost:8080/",
     "height": 52
    },
    "id": "12jl7jSJAmbA",
    "outputId": "3481bfcf-45bf-48a0-bd1c-6a5914b169ec"
   },
   "outputs": [
    {
     "data": {
      "text/plain": [
       "array([[3502,  271],\n",
       "       [ 191, 2081]])"
      ]
     },
     "execution_count": 100,
     "metadata": {},
     "output_type": "execute_result"
    }
   ],
   "source": [
    "# Confusion metrics\n",
    "confusion_1 = metrics.confusion_matrix(y_train_pred_final.Converted, y_train_pred_final.final_Predicted )\n",
    "confusion_1"
   ]
  },
  {
   "cell_type": "code",
   "execution_count": 101,
   "metadata": {
    "id": "IGaAAJLaAmbC"
   },
   "outputs": [],
   "source": [
    "# Assigning values to TP, TN, FP and FN\n",
    "TP = confusion_1[1,1] # true positive \n",
    "TN = confusion_1[0,0] # true negatives\n",
    "FP = confusion_1[0,1] # false positives\n",
    "FN = confusion_1[1,0] # false negatives"
   ]
  },
  {
   "cell_type": "code",
   "execution_count": 102,
   "metadata": {
    "colab": {
     "base_uri": "https://localhost:8080/",
     "height": 34
    },
    "id": "30Bg9MYkAmbF",
    "outputId": "87cf09e8-c0f9-4920-8e8c-11c2aa3020c8"
   },
   "outputs": [
    {
     "data": {
      "text/plain": [
       "0.9159330985915493"
      ]
     },
     "execution_count": 102,
     "metadata": {},
     "output_type": "execute_result"
    }
   ],
   "source": [
    "# Sensitivity of our LR model\n",
    "TP / float(TP+FN)"
   ]
  },
  {
   "cell_type": "code",
   "execution_count": 103,
   "metadata": {
    "colab": {
     "base_uri": "https://localhost:8080/",
     "height": 34
    },
    "id": "n_idcEjnAmbH",
    "outputId": "0c276186-927c-4204-8683-5268d1bb95c5"
   },
   "outputs": [
    {
     "data": {
      "text/plain": [
       "0.9281738669493772"
      ]
     },
     "execution_count": 103,
     "metadata": {},
     "output_type": "execute_result"
    }
   ],
   "source": [
    "# Specificity of our LR model\n",
    "TN / float(TN+FP)"
   ]
  },
  {
   "cell_type": "code",
   "execution_count": 104,
   "metadata": {
    "colab": {
     "base_uri": "https://localhost:8080/",
     "height": 34
    },
    "id": "VbAZSclDAmbJ",
    "outputId": "166588ce-ac08-4dc0-8d13-f0e8cfa18607"
   },
   "outputs": [
    {
     "data": {
      "text/plain": [
       "0.9000865051903114"
      ]
     },
     "execution_count": 104,
     "metadata": {},
     "output_type": "execute_result"
    }
   ],
   "source": [
    "# F1 score\n",
    "f1_score(y_train_pred_final.Converted, y_train_pred_final.final_Predicted)"
   ]
  },
  {
   "cell_type": "code",
   "execution_count": 105,
   "metadata": {
    "colab": {
     "base_uri": "https://localhost:8080/",
     "height": 34
    },
    "id": "xSkON5m4AmbN",
    "outputId": "4249da10-138e-4c8c-fceb-003e52e47e54"
   },
   "outputs": [
    {
     "name": "stdout",
     "output_type": "stream",
     "text": [
      "0.07182613305062285\n"
     ]
    }
   ],
   "source": [
    "# False Postive Rate\n",
    "print(FP/ float(TN+FP))"
   ]
  },
  {
   "cell_type": "code",
   "execution_count": 106,
   "metadata": {
    "colab": {
     "base_uri": "https://localhost:8080/",
     "height": 34
    },
    "id": "685WW1mPAmbP",
    "outputId": "91d45ed7-32fc-4d35-ecb8-a4352f104fd2"
   },
   "outputs": [
    {
     "name": "stdout",
     "output_type": "stream",
     "text": [
      "0.8847789115646258\n"
     ]
    }
   ],
   "source": [
    "# True Positive Rate\n",
    "print (TP / float(TP+FP))"
   ]
  },
  {
   "cell_type": "code",
   "execution_count": 107,
   "metadata": {
    "colab": {
     "base_uri": "https://localhost:8080/",
     "height": 34
    },
    "id": "ZEcNzVyIAmbT",
    "outputId": "eedfe7d7-28ac-452c-b50f-1e87c0da720b"
   },
   "outputs": [
    {
     "name": "stdout",
     "output_type": "stream",
     "text": [
      "0.9482805307338208\n"
     ]
    }
   ],
   "source": [
    "# True Negative Rate\n",
    "print (TN / float(TN+ FN))"
   ]
  },
  {
   "cell_type": "markdown",
   "metadata": {
    "id": "Bh4HjE45LTzs"
   },
   "source": [
    "Observation:\n",
    "So as we can see above the model seems to be performing well. The ROC curve has a very good value of 0.97. We have the following values for the Train Data:\n",
    "\n",
    "Accuracy : 92.35%\n",
    "\n",
    "Sensitivity : 91.59%\n",
    "\n",
    "Specificity : 92.81%\n",
    "\n",
    "F1 score : 90%"
   ]
  },
  {
   "cell_type": "code",
   "execution_count": 108,
   "metadata": {
    "id": "1FeSvoxTAmbV"
   },
   "outputs": [],
   "source": [
    "# Calling precision_recall_curve function\n",
    "p, r, thresholds = precision_recall_curve(y_train_pred_final.Converted, y_train_pred_final.Converted_prob)"
   ]
  },
  {
   "cell_type": "code",
   "execution_count": 109,
   "metadata": {
    "colab": {
     "base_uri": "https://localhost:8080/",
     "height": 267
    },
    "id": "hEP5CiGOAmbX",
    "outputId": "61332cfa-5b01-44b7-d4ff-e455c4c89a38"
   },
   "outputs": [
    {
     "data": {
      "image/png": "iVBORw0KGgoAAAANSUhEUgAAAXYAAAD7CAYAAAB+B7/XAAAAOXRFWHRTb2Z0d2FyZQBNYXRwbG90bGliIHZlcnNpb24zLjMuMiwgaHR0cHM6Ly9tYXRwbG90bGliLm9yZy8vihELAAAACXBIWXMAAAsTAAALEwEAmpwYAAAs+ElEQVR4nO3deXhcV53n//fdalOptJRKtuQlshP7xI6dxFkJifkxWViSkARIBgjdDHQ3GQYGZrqnn+n+PfCwNANP/2a6Oww00DQ0wxoGhu6hWQKB4IQYQnCczY7jnMTxJkuyJWutfbv390fJRrZlq2TXYl19X8/jJ657b9X9Hpfz8dG5955jeJ6HEEII/zCbXYAQQojakmAXQgifkWAXQgifkWAXQgifkWAXQgifsZt8/iBwNTAElJtcixBCLBQW0AM8CeRP3tnsYL8a2NrkGoQQYqHaDPz65I3NDvYhgPHxNK47//vp4/Eoo6Opmhd1PpM2Lw7S5sXhbNtsmgYdHS0wnaEna3awlwFc1zurYD/23sVG2rw4SJsXh3Ns86xD2HLxVAghfEaCXQghfEaCXQghfKbqMXalVAx4HLhda73/pH2XA18G2oDHgPdprUu1K1MIIUS1quqxK6WupXJLzdrTHPIt4INa67WAAby3NuUJIYSYr2qHYt4LfAAYPHmHUuoCIKy1fmJ609eAe2pSnRBC+FQ9p0yvKti11n+itT7dg0S9nHgv5RCw/FwLm0t+cJAn/+i9HP7aV0k+uY18f39d/6CEEOJceZ6H53m8OPYy//GRv+DRfb+ty3lqcR+7Mcs2dz4fEI9H533ScqyPzMaNjDy2lalfPwaA0xZjxTveRjAeJ3LBBYSWdM/7cxeCRKK12SU0nLR5cfBLm8eyE4ykR9l6YBtltxKHv9xbeUDUNm1KbuUS5FBymNeuqn2baxHsA8DSGa97mGXI5kxGR1NndZP+2j/9ELG77qEwNETq2aeZeHQLe//hy8f3B3qXEVm3HjMSIbB0KXZHJ4GeHuzW2LzPdb5IJFoZGUk2u4yGkjYvDguhzWW3TNEtUvZcJvNTHEoNUnSLjOUmGEgNkSlmeGVy/ynvaw1ECdshWpwWYoEoeycPAPC2DW86qzabpnHGDvE5B7vW+oBSKqeUul5r/RvgXcBPz/Vzq2VFo4TXrCG8Zg3xu95CeWKCwpHDZF/SJJ/cxuTWX+EVCie8J7LhUhL3vI1ATw+GKXd8CrGYld0y/akB0sUsU4Ukz43sJF8uki1myJSyFNwiJgZlzyVbylH2Zp+vsNWJEg93siG+jnQxzYaudaxu62NN+2oMY7aBDTDrlD9nHexKqQeBj2qttwPvBL6slGoFngE+W6P65sV0HMxEAieRoGXDRrrecjcAbj5PfuAQhcFBRr7/XTLP7+DA8zswHIfg8hWYoRB2ewdGIIDT3U2wdxlYFoZlYdg2dqwNIxjEcByscLgZTRNCVMn1XIYzI5Q9l7JXxvM8CuUCB5MDTOQnSRZSjOcnKJZLlL0y47kJ0qXM8fcHrQC2abMk0k1vqI2IHcEyLEzTJGA6tAVjldeGiW1a9MVW0h5sI2KHTxvgjTavYNda9834/a0zfv8ccE3tyqotMxgkvPpCwqsvJHrlVeT27SW39xVy+/fhFYuUk0kKI8O46TRuNnvGzwos7SHQ24thOxi2TWDpUqxYG048jpNIYIYjWC0tDWqZEP43mZ+iUC7iemXyboHD6WFypTwlt8h4fpL9U/2MZsdwcfE8j3Qxg8fsQ7sB0yEaiBJ1IkSdKJZpsrSlm+XRXvpiK4gGonSHu7BMq8GtrK1mTwLWcFY4TMv6S2hZf8kp+zzPozBwCDefxyuXoVymnM3iplN4pRKlyQkyu3dTODyEVyrj5nNMPX7KjJnYHZ0EV6zAjncRXrOG6KYrMR2nEc0Tomk8z8P1XMZyE2RKGVLFDFOFJKlCinQxQ9krH+9Fl8ol8uU8rudiGAaGYRIOBTgwNsBYbgITA4zKZ2ZKp+9smYbJkkiCizvX4Jg2pmFiGCaJcJyOYBuGYWIaBpZh0RtdSnuwrYF/Is2z6IL9TAzDILh8xZkPuuvEl+VUisLhIYpjo3iFIuXkFOldz1MYHCT9/E4mH/klWBZORydGMIjV0kJo1WqsaCtmOERk3SUEliypW5uEmK9iuchw9igvjb9CppQlV8qRKWU5lBzENIxKgOMd/++xseiSWz5tT9kyLCzTqvzXMHFMh6AVwDItXM/F9TzMDBRLJWzDYlP3pTD9aR3BNtqDbViGiWlaxEMddITasQ2bgOVgmxJjJ5M/kXNkRaOEL1pDmDXHt3W+8TYA3GKBzK5d5Pa+QnF0FK9QoDh6lPGf/wyO3XNvmkTUxdjxLsxgECfehdPdTWDpUsyWFqyWqFzgFTU1npsgVUxTdIskC2kOJg+xe+wlUoUU+XLhlKGMoBUgbIcJWA5hO0xbMIqBiWEYmBg4lkNbIIZtWliGTWughbZgjBYnQixQ+W/YDs1Z10K4K2ahkGCvI9MJEL18E9HLN52w3fM8yskkxZFhxn76EwoDA+SHBnEzmVPu4DGjUYK9y7DjcZyOTnIdrWQKLlY0Wgl9x8FqbSWwZClmMNjI5onz2K5RzUBykGQxRa6UI1vOM5VPcjhzhHQxc8rxrU6UizvXELACtAdjJMJdXNjeR3uwDdOQjsVCI8HeBIZhYMdi2LEYy/7jfzq+3XNd3EyG/KF+ShPjlCYmyB/YT+HIEbL6RZLj44yd5ulaMxpl9f+4X8byFxHP8xjJjjKZnyRVzFR64eUCY7kJHjlUufYTMB3CdoiQHSZih7m4Yw2xQCt9sRVEnAgtToSucPy8uqNDnDsJ9vOIYZpY0SiRi9fNut/zPLo6IwwPHKU0Po5XLFEaH2Ny669I73iO0tiYjNf7RKlc4khmhJHMUUZz42RLuemx7gzjuUlGc+McyQyf9v2JcJz/etWHiDhye+5iJMG+gBiGgWnbWJEWrMj0LZV9fZjh8HSwj0qwn+cK5SKjuTHGchOMZI+SK+UYy42TKqRJFSu/pgopsrPcCWKbNmErRNgO0RtdyiVxRcQOszK2nPZgGy1OpHJB0rCxTUuGUBYxCXYfsONxAIqjo02uZHEpu2VSxTTDmaMMZ0cYzhxlPDdBppRlNDdGsVyZD8TDI1PMUHRLs941EnVaiAVaaXEi9EZ7uDgQZUl7J8FyhHiok+5IFxEngiN3f4gqyd8UH3A6OgE4+n//GQwDKxLG7ohjxzuxIi0Y1sJ+2KLeiuUik4Uk2VKOoluk5JZIFlKM5cYplAtkSzkmC1NM5pOki2lKbolcOU+qmD7hc2zDoj3UTosdYUmkuzJuPX0/dtAKELZC2KZDIhKnM9ROPNR5/G6Tk8kdIuJcSLD7gGHbRK+6hvRzz3Dkf33llP1mKETXW+/BDIYwIxGsaOVuGjMSwYl3+fZ2StdzyZfz5Ep5Cm6Rsdw4xXKRqUKyMn6dHWU0O8Zg+vAZPydoBWgLxmgLxOhpWYJtOtimRXuwjdbpJxW7I110hNpl+EOcFyTYfaL3fe/HLRYpjY3h5rIUjx6tPCn7wi7Szz7D8Le/OfsbDQMrFsOw7covyybQ00Nw+QoMx8EwLbDM4/914l2E167FdAKNbeAsKvN+pHG9MslCikOpIcZyYxxMDnA0O0qulD/tAzOOadMVjtMRamd12wX0tCylPRjDsRwc06bFaSEe6iBgBSSsxYIjwe4jpuMcv3gauqAPgI4bb6acyVSmSSgWKU9NVn5fyFMcG6M8OUk5lcQrlSrTJBQL5PbtI/XU9tOfyLIww2EMy8Z0HOyuLgJLlmAGggR6ejFsG2wLu72DYE8vVuvZzTddcktkSlmyE1McHBtmqpDkYPIQ4/lJjqSHZ+1pR+wwvdGlXNF9KbFAKyE7RNgKYU0/sRi0grQ4EeldC1+TYF8ErEgEKxKpvOiubvERt1iEchnPLUPZxXPLeOUyhYEBMi9p3FwWr1jCKxYoHDnC5K8enf2DDINQ3yqc7m6MQADDtjEDAeyOTsxwhEBPD65tMV5M0p89zFPpPaSMPKlihon85Ck9btuw6Ax30BaIcduqW+iN9mAZJrZhszK2nBYncg5/UkL4gwS7mJXpODDLw05OZ5yWjZeest3zvOmefxlKpelhoVEyL+4mu+dlsq/swZve7mazGO6pi2zFgdcBrgGlcIBSRytGZwfhrk6IthFKLKU13EYgEKpMudy9XGbSFGIWEuyiJgzDwG6NUXbLJIspxnNZxqwyo9EEh9d7TBWSHJjqJ1PKYrgRQiWDXlrpzQbpctqIB9qIOzFasi5eLkdpaori0RGKg8OUdu4BIDf9a8ZJseNxAt1LsDvjBJYswelKYLW2Vn5Fo5iRFnkaVyw6EuzirBzNjvLS+CvsnTzA4fQw2XKObDHDZOHUW/SiTgsdoXY2dW+kL3YBF8SWsySSqHpWvq7OCAPP78ErTQ8Plcq4uSy5A/spDA5SGD5C/lA/U1NTp77ZMAitWkVk/SWE+lYT6F2GFZ3xgJcQPiTBLuaULmY4OHWIofRhhtJH2D/Vf/zCZYsTobdlKUuD3YTtEB2hdmKBVtqDMeKhTjpD7YSqmNnvTAzLItjbe8r2k4eEypk0pbExyqkU5WSScipJaXyczIu7GfvJj38/o6ZhEF6zFivWRmjlSpxEN4bjEFp9IXZs4a6HK8QxEuzitHaNar7z4j8znp84vi1gBehpWcLda+5gXecalkS6z5vJo06YauEkbi5L7uBBSkePkt3zMrn9+ygMHyG1fdsJxwVXrCCy7pLjQzlWtBUr2ord3o7d2SkPe4kFQYJdAJAr5TiUGuJQapCB5BADqSEOJPuxDYs3X3Qby1p6WBFbRosdOW+CfD7MUJjIWgVrFbFXXw9ULviWRo/i5guU0ykyz+8k9ewzTGx5GK9UmvVzrLZ27I4O7I7KrZxOdzd2Z2VZRLs1hhk6t59OhKgFCfZFxvM80qUMY7lxkoUUw5mjvDCqeWl8D6Xp1ddb7AjLoj28Ztl1XLnkci5qX9XkquvDMAycrsTx15G1iq633I3neXiFQmVIJ5U8Pnd+OZmsPPg1NUnx8GHSO56D8kkr1lsWgUR3ZbGUJUsJ9q0iesUV58UDXWLxkGD3uUwxy5b+rQxnRhjJHmUkO3bKzIEdwXZuWPYqLu5cw/JoL+3BtgXZK68VwzAwgsHpFa3ipz3OK5UoTYxTPHqU4tER8of6K8sjppIUhofJvLCr0vM3DEKrL6TjpltouexyWRBF1J0Euw9NFZJkilmOZkf55z0/YjhzlNZAdHol9pV0hePEw53EAlHaAm10htoXdZCfLcO2cboS073+U+fQ91yXzK7nSe/aSfKJJxj6xy9W3uc4WG1tOJ1xWq++lth112EEQ/IdiJqRYPeJVyb289uhJ3lh9MVTbjlc17mW91/2R/IIfYMZpknLxktp2XgpiX/7DjIvVNa/dfN5iqOj5PbuYfjb32D429+oLHieSBBIdGO1xshf1Aer1v5+igYh5kH+xvjEl3Z+jZJbYl2n4sL2PmJOlKAdRHVcRMCS8d1mM0yTlg0badmw8fg2r1Qi/fxOCkNDlFNTFEdGKI6MkN23l6nHK0vbGbaN3V65WGs4DoZtY8XaCHR3Y9gOVqyVwNIejEAAq6UFqzXm29k6RfUk2H3A8zwyxSxv6LuR21e/vtnliCoZtl1Z6Pykxc4BYuQ59MRT5A8dojQ2RunY5G3J5O/H7mf7TMcheEEfnW+49ZRF1MXiIcHuA/lyAQ+PoCUX5fwimOgi9qpXz7rP87zKbJzFAoWBAcqZDF4+TzmdojgywvjPf8aRb35dgn0Rk2D3gVy5MoPKuT7hKRYGwzAwpidpC69Ze+r+gMPYT36M57oyLLNIybfuA/lSHoCQ9NgFYEWi4Hm4uVMXxBaLgwS7D+TK08FuS7ALMKenMi6n03McKfxKgt0H8tPBLmPsAjg+R70rwb5oSbD7QFaGYsQMVksUgPyhQ3je7Gu+Cn+r6uKpUupe4CNAALhfa/35k/ZfAXxpen8/8Ada64nalipO53iPXYZiBOAsWYIRDHLka//EyHcfwIpGCa5YSahvFcEL+ghd0IcVjTa7TFFHcwa7UmoZ8CngSiAPPK6UekRr/cKMw/4n8FGt9U+VUn8L/DmVfwhEnWVLWZ4/uhuAkCV3xQiwYzH6Pv7fSD69neKRI5TTqcoC5U8/VTnAsrjgY39FsHdZcwsVdVNNj/1mYIvWegxAKfV94G7gr2YcYwHHViiIAGO1LFL83nh2kq0D2xjLjbN/qp9XJvZR9sqE7TARJ9zs8sR5wkkk6Hz9G0/YVk4mST69neFvfp3iyIgEu49VE+y9wNCM10PANScd82fAL5RSnwHSwLXzKSIeP/sfCxOJ1rN+70IxnB7l6cGdPDW4k51HXsT1XCzDZGm0m9vUjVy6ZB0XdfYRCfg32BfD93yymrc50UoscCXD3/w6g5/7DIHOTsxQENO2MZwAwXgnoZ6lhJYuJf7qVxFob6/t+aspUb7nmqgm2Gebcu74EvNKqTDwT8BNWuttSqk/A74B3FZtEaOjKVx3/hd5EolWRkZOXWNzIfM8j/1T/QykBnlxfA/9yQGOZkeByvS6t669kUvbNtLTsuSESb3SkyXS+OvP4hg/fs9zqVebvUArvR/4EPlD/RRHhitPsJZKuIUiqUODjD/zLF6xSP8PfkTrNddit7Vh2A6GbWFYNkYgQGj1auzW2i8hKN9z9UzTOGOHuJpgHwA2z3jdAwzOeL0ByGqtj60x9iXgk/Osc9FLFlI8MbSd3w49yZHMCACO6dDbspTXrrke1XERvdGli/Ivv6gdwzCIbrqC6KYrZt3vuS5jD/6Y8V88xNiP/vW0nxNcsZJATy9OVxd2V9fx6YvNUAgrEpEZKZusmj/9h4GPK6USVIZZ3grcN2P/HmCFUkpprTVwJ/BkzSv1qWQhxUP7t/DIocpsfqtiK3nnxfdwYXsfiXBcptoVDWWYJvHb7yB++x145TKlqSkol/DKZbxyGTedIaN3k3lxN7m9r5Dcvg1c99TPCQaxolEC3UtouXwTsWuvkztxGmjOYNdaDyilPgw8QuV2xq9MD7k8SOVOmO1KqXcD31NKGcAw8J56Fr3QZYpZth95ht8Obedg8hAAG7vWcfuq17O8tbfJ1QlRYVgWTkfHKdvDa9YQv/0OgEr4j4+RHxzATadxs1nKmQzldJrS6FHy/QcZ+c63GfnOt3ESlV693d6B3dWF1RKl9aqrsNtPPYc4N0aTH2DoA/YtljF213PZ0r+Vn+z7BYVygbZAjNXtfdzadzO90aVVfcZCa3MtSJsXLs91yb6kyb78Erl9eymn0xSPHqU8OXH8mLC6mM5bb2fFdVcwNlVoXrFNUIMx9lXA/pP3y0BYA2SKGX649yF2jOxisjDF+rjixhWbubhjjSyHJnzNME0iF68jcvGJSwd6rkthaJDU008x/vDPGbj/bxj8XGVRkdCaNfT88X2n+URRDQn2Ont8cBs/2fcLJvKTXJbYwDVLr+Cyrksk0MWiZpgmwWXLCS5bTvu/uYnsnpcxBg8w9NAvSP72cTIvvIDV0oIZChHo7aVt8/9DaNVqmYa4ShLsdbJnYh8/2vsz9kzsA+C9G9/F5YkNTa5KiPOPFY0SvXwTiVteQ/iWWxn/+UMUjxzBzWVxszmSTz7J1K+3YrW2Et10BbHrrid0kfy0eyYS7DV2NDvKQ/u38PjQk3QE27lxxWZuWvka2oNtzS5NiPOe6QSI3/amE7aVs1lSTz9FZtdOpn73BJOP/QonkSCyYSPh1RcR3bQJM+Tfh/POhgR7jUzmk/x0/8P8ZvB3uJ7La5a9mjsvfKPMkS7EObLCYdquv4G262/AzeVIPf0UU9t+x+QjW5h8ZAuGbdPxhltpu2EzTlei2eWeFyTYz1GulOPhg4/xy/7HKLklbui9ltcuv54lLd3NLk0I3zFDIWKvvp7Yq6/HLRbJPL+D8V8+zNiPf8jYj39I5JINtN90My0bL1vUQzUS7GcpV8rz0IEtPD64jVQxzabuS7lj9evpjkiPQYhGMB2H6KYriW66ksLwMJO/2sLk1q0MfvYzBPtW0bb5NbReefWifDBKgv0s9CcH+a7+v+yfOsj6uOLWVTfTF1vZ7LKEWLQC3d0k7nk78Tvfwsj/+d8kf/s4w9/8OsMPfIvYda+m4+bXEVi2fNH04iXY5+lwepi/ferzBEyHf7f+7Vy9dFOzSxJCTDMDAZa88110v+MPyO55mYktDzP1663Td9XEiKxbR+Ti9UQu2YATjze73LqRYJ+H/VMH+cKzX8U2bf7r1R+kK+zfvxhCLGSGaRJZq4isVRRHR8nsfoHMiy+Q2b2b5LbfARBafSHd9/4hob6+5hZbBxLsVSi7ZX6492f88uBjdITa+cBlfyyhLsQC4cTjtN2wmbYbNuN5HoWhIVLbtzH+8M85+KlPEL/zzcRefT1Op3/+n5Zgn8NkfoqvPP8t9k7u51VLr+LNa24j6rQ0uywhxFkwDINgby/BO+6i/eZbOPKNrzH6g39h9Af/QttrXkviHfdiOoFml3nOJNjPoOiW+Med36A/OcA71Fu4vvfaRXPxRQi/syIt9Nz3H8jddAvJJ7cxseVh0rt2svTdf0xk3fpml3dOJNhPo+yW+dbu77F/6iDv3fCHXN69sdklCSFqzDBNwmvWVn5dvI6R7z7Aob/970Q2bCR+x5sJr17d7BLPigT7LDzP47sv/YDtR57ljtVvkFAXYhFoveJKWjZsZPRH/8rkrx6l/9N/RXTTlSTu/YNZ56U/n8lUabP411d+ym8Gf8cNy17F6/tubHY5QogGMQMBEm+9h1V//T/ovP1NpHc+x/6P/L9MbXsCt1hsdnlVk2A/yaOHfsMvDj7K9b3X8ra1dzW7HCFEE1iRCF13vZWVH/0EweXLOfyP/8DeP/0gpeRUs0urigT7DHpsD99/6Yds7FrH29WbZb1RIRa5YO8ylv/5XxC94krcXI7y5GSzS6qKJNe0YrnIN3d/j+5Ignete5uEuhACqMxJE7thMwDeAhmOkfSa9tCBRxjPT/B2dRcRJ9LscoQQ55Fj97YvlHF2CXbgmeGd/Gz/L7lm6RWs7bio2eUIIc4zhl25gbAwOIDnuk2uZm6LPtiPZkf56q5vsyzawzvUW5pdjhDiPGR3JTAch+FvfYP9H/4LUjuea3ZJZ7Tog/1Hex/CMized+m7CVgL/1FiIUTtOR0d9H36v7PkPX+M57oMfu4zpJ/f0eyyTmtRB/veyQNsP/Isr1l2HR2h9maXI4Q4jzkdHbRdv5kLPvJxrJYog1/4e3IH9je7rFkt2mAfz03wDzv+Fx3Bdl7X92+aXY4QYoGwWlvp+ff/ATMY4uCnP0ny6aeaXdIpFm2wb+nfSq6U5/2X/ZHM1iiEmJfIuvX0ffLTOJ1xhr7494z/8hfNLukEizLYX5nYz5b+raxqW0lvdGmzyxFCLEBWNMrKD3+UyLr1jHzn26SeebrZJR236IL9uZHn+bunvwDAXRfe2uRqhBALmRWN0vuBDxHsW8XQl75Adu8rzS4JWITB/vMDjwLw/23+GKvaLmhuMUKIBc8MBln2wf8MhsHkY79qdjnAIgx2gHWda2VcXQhRM3ZbG3ZHJ16x0OxSgCrnY1dK3Qt8BAgA92utP3/SfgV8CegADgNv11qP17hWIYQ4bxm2VXky1fOavtLanD12pdQy4FPADcBlwH1KqfUz9hvAD4G/1lpfBjwD/GV9yj13Hl6zSxBC+FBgSQ/5/n6S237X7FKqGoq5GdiitR7TWqeB7wN3z9h/BZDWWv9s+vWngc9zHjOQdUuFELXV8773YwQCpHc82+xSqgr2XmBoxushYPmM1xcBh5VSX1dK7QC+CKRqV2KNSYddCFEHhmXRsmEjyd890fQFOaoZY5+teztzejMbeC3wGq31dqXUJ4G/A95dbRHxeLTaQ0+RSLTO63jbMQkG7Xm/73yykGs/W9LmxWGhtzl0779lx9NPkd+6hZ5/94dVvaceba4m2AeAzTNe9wCDM14fBl7WWm+ffv0dKsM1VRsdTeG68+9KJxKtjIwk5/WeYrFM3ijN+33ni7Np80InbV4cfNHm9iVELtnAkV9tJfLGO+e8iHq2bTZN44wd4mqGYh4GblJKJZRSEeCtwM9m7H8cSCilLpt+/Sbg/Js84ThPxtiFEHXTetXVlEZHyb78UtNqmDPYtdYDwIeBR4BngQe01tuUUg8qpa7SWmeBNwNfVkrtAm4E/ksdaz4nHrOPLQkhRC20XvMqrNZWJh7+edNqqOo+dq31A8ADJ227dcbvfwdcU9vSau+pI8/RnxwgntjQ7FKEED5lBoNEr7iKqScexyuVjq++1NAaGn7GJsiVcnzjhe/y1V3fZmXrcu688I3NLkkI4WMtGy/Fy+ebNhzT+H9KmuD/vPRDfnf4KW5Z+VretPr1WKbV7JKEED4WXrsWDIPUjueIrFs/9xtqbFH02AdSg1zYtoq7LrpVQl0IUXdWpIXWq69h6teP4RaLDT+/74N916imPzXIytZlzS5FCLGIxK7fjJvNMvnYow0/t6+DfSA1xFef/xbLo73cvvp1zS5HCLGIRNZfQrBvFVO/+XXDz+3bYC+7Zf63/hcsw+J9l76bkB1qdklCiEXEMAxaNl5Kvv8g5Uymoef2bbD/dP8v2Tt5gDdfdBsdofZmlyOEWITCF60BzyP3yp6GnteXwT6em+DnBx7h6iVXcF3v1c0uRwixSIXXrMWwbdIv7GroeX0Z7M8M76Dslblt1S3NLkUIsYiZgQChi9aQffGFxp63oWdrkOHsKJZh0RXubHYpQohFLnLxOvL9/ZRTjZvN3HfBPpod57eD29jUvbHpy1MJIUR4zVoAsntfadg5fRXsnufxz3t+BMAdq9/Q5GqEEAKCK1YAUDjU37Bz+irYXxh7iedGnucNfTcTl2EYIcR5wIq0YMfj5PsPNuycvgr2LQcfoz3YxusueG2zSxFCiOOCK1aSP3SoYefzTbAfTh/hxfGX2bzsVTIfjBDivBJcvoLC4SHcQqEh5/NNsD8z/DwA1/Wc99PCCyEWmeCKFeB5FAYHGnI+3wT7ztEX6IutpC24sBfDFUL4T3D5SoCGjbP7Itgn81McmOpnY9e6ZpcihBCncBIJjGCIfH9j7ozxRbA/P7obgI1djZ/QXggh5mKYJsHly6XHPh87j+6mM9RBb8vSZpcihBCzCi5bRuHw4Yaca8EHe9Etocf3cEn8YnnSVAhx3rI7OiknpxqyotKCD/a9E/splAtcElfNLkUIIU7L7qw8NFkaH6/7uRZ8sL84/jKmYXJhW1+zSxFCiNNyOuMAlMbH6n6uBR/su0c1q9suIOJEml2KEEKclh3vAqA4Mlz3cy3oYE/l0xxKDaE6Lmp2KUIIcUZOPA6GQXF0tO7nWtDB3j81iIdHX2xls0sRQogzMiwLu72d4tGRup9rQQf7eHYSgLZgrMmVCCHE3OzOOKUxGWM/oyOpowB0heNNrkQIIebmxLsojclQzBmNpEeJOi0ErUCzSxFCiDnZ8TjFsTE8163reRZ0sO8b72dJpLvZZQghRFWcRALK5br32hdssHuex2DqCMtbe5pdihBCVMVu7wCgNDVV1/NUFexKqXuVUi8opfYopT5whuNuU0rtq115p5cuZcgWc8RDsgSeEGJhsKKVacXLqWRdzzNnsCullgGfAm4ALgPuU0qdMo2iUmoJ8DdAQyZsGc1Wriwn5MKpEGKBsFung32qycEO3Axs0VqPaa3TwPeBu2c57ivAJ2pZ3JkMpo8A0BqINuqUQghxTqz2NgBKkxN1PY9dxTG9wNCM10PACevPKaU+BDwNPHE2RcTj8w/nW9qvwwy6XHXhekxjwV4qOCuJxOJbJUravDgshjbvj0Zx8unjba1Hm6sJ9tmGVo7fq6OU2gC8FbgJWH42RYyOpnBdb97vu13dxMhIfX+kOd8kEq3S5kVA2uxfZrSV1JGjjIwkz7rNpmmcsUNcTVd3AJi5gkUPMDjj9T3T27YDDwK9Sqmt865UCCEWASMQwKvznOzV9NgfBj6ulEoAaSq98/uO7dRafwz4GIBSqg94VGu9ufalCiHEwmdYFl65XNdzzNlj11oPAB8GHgGeBR7QWm9TSj2olLqqrtUJIYTPGLZd92CvpseO1voB4IGTtt06y3H7gb5aFCaEEL5kWdDsHrsQQojaMWy77uueSrALIUQDmaEQbi5b33PU9dOFEEKcwHQCeAXpsQshhG8YAQevWKjrOSTYhRCigQwngCs9diGE8A8zEJAeuxBC+InhOOC6eKVS3c4hwS6EEA1kBCpLedbzlkcJdiGEaCDTcQDwCvUbjpFgF0KIBjrWY6/nOLsEuxBCNJDhTA/F1PHOGAl2IYRoIDMwPRQjPXYhhPCHYz32ej59KsEuhBAN9Pu7YqTHLoQQvmAGggB4+Xz9zlG3TxZCCHEKMxwGwM3l6neOun2yEEKIU5ihSo/dzUuwCyGEL5jBEACuDMUIIYQ/GIEAGAZuNlO3c0iwCyFEAxmmWVlFKStDMUII4RtmKCRj7EII4SdGMCi3OwohhJ+YwZDc7iiEEH5iBoNyV4wQQviJYduygpIQQviJBLsQQviMYdl45XLdPl+CXQghGs2y8MrSYxdCCN8wbAtK0mMXQgjfMOz6DsXY1RyklLoX+AgQAO7XWn/+pP13Ap8ADGAf8B6t9XiNaxVCCF8wrCZfPFVKLQM+BdwAXAbcp5RaP2N/DPgicJvW+jJgB/DxulQrhBA+YJwHY+w3A1u01mNa6zTwfeDuGfsd4P1a64Hp1zuAlbUtUwgh/MNw6ttjr2YophcYmvF6CLjm2Aut9SjwAwClVBj4S+BztStRCCH8xbCdpge7Mcs29+QNSqk2KgH/nNb66/MpIh6PzufwEyQSrWf93oVK2rw4SJv9KxuLMOa6eJ5XlzZXE+wDwOYZr3uAwZkHKKV6gIeALcCfzreI0dEUruvN920kEq2MjCTn/b6FTNq8OEib/S2TLQLglcscHc/O+/2maZyxQ1xNsD8MfFwplQDSwFuB+47tVEpZwI+B72mt/9u8KxRCiEXGsCrRW69bHucMdq31gFLqw8AjVG53/IrWeptS6kHgo8AKYBNgKaWOXVTdrrX+k7pULIQQC5xhWQB1G2ev6j52rfUDwAMnbbt1+rfbkQedhBCievZ0sJfLzH4Z89xIIAshRIP9vsden6EYCXYhhGiwY8Hulop1+XwJdiGEaLB6XzyVYBdCiAYznOlgL9bn4qkEuxBCNNixHrsMxQghhF8cu3gqPXYhhPCH43fFuKfMzlITEuxCCNFoRuXedQl2IYTwCcOcjl4JdiGE8InpYJceuxBC+IRhSLALIYS/mNPzw3jzn668qo+vy6cKIYQ4PemxCyGEvxy7eOqVJdiFEMIfjg3FSI9dCCH84XiP3ZNgF0IIfzDkPnYhhPAVw5QnT4UQwl/kASUhhPAZmVJACCH8xTg+CZg8oCSEEP4gQzFCCOEvMrujEEL4jUwpIIQQ/nK8xy4PKAkhhE/ICkpCCOEzcvFUCCH8RWZ3FEIIvzk+xi73sQshhD/IGLsQQvhLve9jt6s5SCl1L/ARIADcr7X+/En7Lwe+DLQBjwHv01qXaluqEEL4RLMvniqllgGfAm4ALgPuU0qtP+mwbwEf1FqvBQzgvbUuVAgh/MIwDDCMpg7F3Axs0VqPaa3TwPeBu4/tVEpdAIS11k9Mb/oacE+tCxVCCF8xzaZOKdALDM14PQQsn8d+IYQQJ7Hb23Ha2+rz2VUcY8yyzZ3H/jnF49H5HH6CRKL1rN+7UEmbFwdps791fuGzmI6DYVk1/+xqgn0A2DzjdQ8weNL+pWfYP6fR0RTuWcxLnEi0MjKSnPf7FjJp8+IgbV4cEonQWbXZNI0zdoirGYp5GLhJKZVQSkWAtwI/O7ZTa30AyCmlrp/e9C7gp/OuVAghRE3MGexa6wHgw8AjwLPAA1rrbUqpB5VSV00f9k7gfqXUbqAF+Gyd6hVCCDGHqu5j11o/ADxw0rZbZ/z+OeCa2pYmhBDibMiTp0II4TMS7EII4TMS7EII4TNVjbHXkQWVW3fO1rm8d6GSNi8O0ubF4WzaPOM9s94Eb3h1mg+4SjcAW5tZgBBCLGCbgV+fvLHZwR4ErqYyDUG5mYUIIcQCYlF5GPRJIH/yzmYHuxBCiBqTi6dCCOEzEuxCCOEzEuxCCOEzEuxCCOEzEuxCCOEzEuxCCOEzEuxCCOEzzZ5SoCpKqXuBjwAB4H6t9edP2n858GWgDXgMeJ/WutToOmupijbfCXyCytKE+4D3aK3HG15oDc3V5hnH3Qb8vdZ6VSPrq4cqvmcFfAnoAA4Db/f796yUuoJKmwNAP/AHWuuJRtdZS0qpGPA4cLvWev9J+y6nxvl13vfYlVLLgE9RmX7gMuA+pdT6kw77FvBBrfVaKkH33sZWWVtztXn6L8kXgdu01pcBO4CPN6HUmqnye0YptQT4G2Zfa3dBqeJ7NoAfAn89/T0/A/xlM2qtlSq/5/8JfHS6zRr488ZWWVtKqWupPPa/9jSH1Dy/zvtgB24Gtmitx7TWaeD7wN3HdiqlLgDCWusnpjd9Dbin4VXW1hnbDDjA+6dXt4JKsK9scI21Nlebj/kKlZ9U/GCuNl8BpLXWx5ai/DQw608xC0g137MFxKZ/HwGyDayvHt4LfIBZ1oKuV34thKGYXipzyRwzxImrNc22f3kD6qqnM7ZZaz0K/ABAKRWm0ov7XAPrq4e5vmeUUh8CngaewB/mavNFwGGl1NeBTcBO4IONK68u5vyegT8DfqGU+gyQBq5tTGn1obX+E4DKqNop6pJfC6HHPtuP3O489i9EVbVJKdUGPAg8p7X+et2rqq8ztlkptYHKQuqfbFhF9TfX92wDrwU+p7W+FNgL/F0D6qqnub7nMPBPwE1a6x7gC8A3GlRbM9QlvxZCsA8AS2e87uHEH2nm2r8QzdkmpVQPlSmPnwP+pHGl1c1cbb5nett2Kv+Y9SqlFvqUz3O1+TDwstZ6+/Tr77Dw1xaeq80bgKzWetv06y9R+cfNr+qSXwsh2B8GblJKJZRSESq9tmNjjmitDwA5pdT105veBfy08WXW1BnbrJSygB8D39Na/2ettR+m6Jzre/6Y1nqt1vpy4FZgUGu9uTml1swZ20zlLoqEUuqy6ddvAp5qcI21Nleb9wAr1O/HLe6kMjWtL9Urv877YJ++QPhh4BHgWeABrfU2pdSDSqmrpg97J3C/Umo30AJ8tinF1kgVbb6Dypjr3UqpZ6d/faV5FZ+7Kr9nX5mrzVrrLPBm4MtKqV3AjcB/aVrBNVBFm8eBdwPfU0rtAP4IeE+z6q2XeueXzMcuhBA+c9732IUQQsyPBLsQQviMBLsQQviMBLsQQviMBLsQQviMBLsQQviMBLsQQviMBLsQQvjM/w+OJvzRmKUkTwAAAABJRU5ErkJggg==\n",
      "text/plain": [
       "<Figure size 432x288 with 1 Axes>"
      ]
     },
     "metadata": {
      "needs_background": "light"
     },
     "output_type": "display_data"
    }
   ],
   "source": [
    "# Plotting precision_recall_curve function outcome\n",
    "plt.plot(thresholds, p[:-1], \"g-\")\n",
    "plt.plot(thresholds, r[:-1], \"r-\")\n",
    "plt.show()"
   ]
  },
  {
   "cell_type": "code",
   "execution_count": 110,
   "metadata": {
    "colab": {
     "base_uri": "https://localhost:8080/",
     "height": 34
    },
    "id": "2y8iDD2ZAmbc",
    "outputId": "2948e1a9-bb88-4d17-f818-b782d511d414"
   },
   "outputs": [
    {
     "data": {
      "text/plain": [
       "0.8847789115646258"
      ]
     },
     "execution_count": 110,
     "metadata": {},
     "output_type": "execute_result"
    }
   ],
   "source": [
    "# Precision Score\n",
    "precision_score(y_train_pred_final.Converted , y_train_pred_final.final_Predicted)"
   ]
  },
  {
   "cell_type": "code",
   "execution_count": 111,
   "metadata": {
    "colab": {
     "base_uri": "https://localhost:8080/",
     "height": 34
    },
    "id": "80wztC9lAmbe",
    "outputId": "9960f7f9-e5cf-4459-b9ea-9139403297d9"
   },
   "outputs": [
    {
     "data": {
      "text/plain": [
       "0.9159330985915493"
      ]
     },
     "execution_count": 111,
     "metadata": {},
     "output_type": "execute_result"
    }
   ],
   "source": [
    "# Recall Score\n",
    "recall_score(y_train_pred_final.Converted, y_train_pred_final.final_Predicted)"
   ]
  },
  {
   "cell_type": "markdown",
   "metadata": {
    "id": "xPTM7GH_Ambf"
   },
   "source": [
    "Observation:  We have the following values for the Train Data:\n",
    "\n",
    "Precision : 88.47%\n",
    "\n",
    "Recall : 91.59%"
   ]
  },
  {
   "cell_type": "markdown",
   "metadata": {
    "id": "O7Em5V4rAmbg"
   },
   "source": [
    "# Step 5: Running model on Test set"
   ]
  },
  {
   "cell_type": "code",
   "execution_count": 112,
   "metadata": {
    "colab": {
     "base_uri": "https://localhost:8080/",
     "height": 587
    },
    "id": "UDvzPPrYAmbg",
    "outputId": "84029d47-02b9-47d5-ccf8-d30a08103642"
   },
   "outputs": [
    {
     "name": "stderr",
     "output_type": "stream",
     "text": [
      "/home/l0k3ndr/.local/lib/python3.6/site-packages/ipykernel_launcher.py:2: SettingWithCopyWarning: \n",
      "A value is trying to be set on a copy of a slice from a DataFrame.\n",
      "Try using .loc[row_indexer,col_indexer] = value instead\n",
      "\n",
      "See the caveats in the documentation: https://pandas.pydata.org/pandas-docs/stable/user_guide/indexing.html#returning-a-view-versus-a-copy\n",
      "  \n",
      "/home/l0k3ndr/.local/lib/python3.6/site-packages/pandas/core/indexing.py:1736: SettingWithCopyWarning: \n",
      "A value is trying to be set on a copy of a slice from a DataFrame.\n",
      "Try using .loc[row_indexer,col_indexer] = value instead\n",
      "\n",
      "See the caveats in the documentation: https://pandas.pydata.org/pandas-docs/stable/user_guide/indexing.html#returning-a-view-versus-a-copy\n",
      "  isetter(loc, value[:, i].tolist())\n"
     ]
    },
    {
     "data": {
      "text/html": [
       "<div>\n",
       "<style scoped>\n",
       "    .dataframe tbody tr th:only-of-type {\n",
       "        vertical-align: middle;\n",
       "    }\n",
       "\n",
       "    .dataframe tbody tr th {\n",
       "        vertical-align: top;\n",
       "    }\n",
       "\n",
       "    .dataframe thead th {\n",
       "        text-align: right;\n",
       "    }\n",
       "</style>\n",
       "<table border=\"1\" class=\"dataframe\">\n",
       "  <thead>\n",
       "    <tr style=\"text-align: right;\">\n",
       "      <th></th>\n",
       "      <th>TotalVisits</th>\n",
       "      <th>Total Time Spent on Website</th>\n",
       "      <th>Page Views Per Visit</th>\n",
       "      <th>Lead Origin_Import and Form</th>\n",
       "      <th>Lead Origin_Landing Page Submission</th>\n",
       "      <th>What is your current occupation_Housewife</th>\n",
       "      <th>What is your current occupation_Other</th>\n",
       "      <th>What is your current occupation_Student</th>\n",
       "      <th>What is your current occupation_Unemployed</th>\n",
       "      <th>What is your current occupation_Working Professional</th>\n",
       "      <th>City_Other Cities</th>\n",
       "      <th>City_Other Cities of Maharashtra</th>\n",
       "      <th>City_Other Metro Cities</th>\n",
       "      <th>City_Thane &amp; Outskirts</th>\n",
       "      <th>City_Tier II Cities</th>\n",
       "      <th>Specialization_Banking, Investment And Insurance</th>\n",
       "      <th>Specialization_Business Administration</th>\n",
       "      <th>Specialization_E-Business</th>\n",
       "      <th>Specialization_E-COMMERCE</th>\n",
       "      <th>Specialization_International Business</th>\n",
       "      <th>Specialization_Management Specializations</th>\n",
       "      <th>Specialization_Media and Advertising</th>\n",
       "      <th>Specialization_Rural and Agribusiness</th>\n",
       "      <th>Specialization_Services Excellence</th>\n",
       "      <th>Specialization_Travel and Tourism</th>\n",
       "      <th>Lead Source_Direct Traffic</th>\n",
       "      <th>Lead Source_Google</th>\n",
       "      <th>Lead Source_Olark Chat</th>\n",
       "      <th>Lead Source_Organic Search</th>\n",
       "      <th>Last Activity_Converted to Lead</th>\n",
       "      <th>Last Activity_Email Bounced</th>\n",
       "      <th>Last Activity_Email Link Clicked</th>\n",
       "      <th>Last Activity_Email Opened</th>\n",
       "      <th>Last Activity_Form Submitted on Website</th>\n",
       "      <th>Last Activity_Olark Chat Conversation</th>\n",
       "      <th>Last Activity_Page Visited on Website</th>\n",
       "      <th>Last Activity_SMS Sent</th>\n",
       "      <th>Last Notable Activity_Email Bounced</th>\n",
       "      <th>Last Notable Activity_Email Link Clicked</th>\n",
       "      <th>Last Notable Activity_Email Opened</th>\n",
       "      <th>Last Notable Activity_Had a Phone Conversation</th>\n",
       "      <th>Last Notable Activity_Modified</th>\n",
       "      <th>Last Notable Activity_Olark Chat Conversation</th>\n",
       "      <th>Last Notable Activity_Page Visited on Website</th>\n",
       "      <th>Last Notable Activity_SMS Sent</th>\n",
       "      <th>Last Notable Activity_Unsubscribed</th>\n",
       "      <th>Tags_Busy</th>\n",
       "      <th>Tags_Closed by Horizzon</th>\n",
       "      <th>Tags_Interested in other courses</th>\n",
       "      <th>Tags_Lost to EINS</th>\n",
       "      <th>Tags_Other_Tags</th>\n",
       "      <th>Tags_Ringing</th>\n",
       "      <th>Tags_Will revert after reading the email</th>\n",
       "    </tr>\n",
       "  </thead>\n",
       "  <tbody>\n",
       "    <tr>\n",
       "      <th>count</th>\n",
       "      <td>2591.0000</td>\n",
       "      <td>2591.0000</td>\n",
       "      <td>2591.0000</td>\n",
       "      <td>2591.0000</td>\n",
       "      <td>2591.0000</td>\n",
       "      <td>2591.0000</td>\n",
       "      <td>2591.0000</td>\n",
       "      <td>2591.0000</td>\n",
       "      <td>2591.0000</td>\n",
       "      <td>2591.0000</td>\n",
       "      <td>2591.0000</td>\n",
       "      <td>2591.0000</td>\n",
       "      <td>2591.0000</td>\n",
       "      <td>2591.0000</td>\n",
       "      <td>2591.0000</td>\n",
       "      <td>2591.0000</td>\n",
       "      <td>2591.0000</td>\n",
       "      <td>2591.0000</td>\n",
       "      <td>2591.0000</td>\n",
       "      <td>2591.0000</td>\n",
       "      <td>2591.0000</td>\n",
       "      <td>2591.0000</td>\n",
       "      <td>2591.0000</td>\n",
       "      <td>2591.0000</td>\n",
       "      <td>2591.0000</td>\n",
       "      <td>2591.0000</td>\n",
       "      <td>2591.0000</td>\n",
       "      <td>2591.0000</td>\n",
       "      <td>2591.0000</td>\n",
       "      <td>2591.0000</td>\n",
       "      <td>2591.0000</td>\n",
       "      <td>2591.0000</td>\n",
       "      <td>2591.0000</td>\n",
       "      <td>2591.0000</td>\n",
       "      <td>2591.0000</td>\n",
       "      <td>2591.0000</td>\n",
       "      <td>2591.0000</td>\n",
       "      <td>2591.0000</td>\n",
       "      <td>2591.0000</td>\n",
       "      <td>2591.0000</td>\n",
       "      <td>2591.0000</td>\n",
       "      <td>2591.0000</td>\n",
       "      <td>2591.0000</td>\n",
       "      <td>2591.0000</td>\n",
       "      <td>2591.0000</td>\n",
       "      <td>2591.0000</td>\n",
       "      <td>2591.0000</td>\n",
       "      <td>2591.0000</td>\n",
       "      <td>2591.0000</td>\n",
       "      <td>2591.0000</td>\n",
       "      <td>2591.0000</td>\n",
       "      <td>2591.0000</td>\n",
       "      <td>2591.0000</td>\n",
       "    </tr>\n",
       "    <tr>\n",
       "      <th>mean</th>\n",
       "      <td>-0.0175</td>\n",
       "      <td>0.0096</td>\n",
       "      <td>0.0028</td>\n",
       "      <td>0.0764</td>\n",
       "      <td>0.5218</td>\n",
       "      <td>0.0008</td>\n",
       "      <td>0.0019</td>\n",
       "      <td>0.0224</td>\n",
       "      <td>0.8973</td>\n",
       "      <td>0.0772</td>\n",
       "      <td>0.0687</td>\n",
       "      <td>0.0540</td>\n",
       "      <td>0.0371</td>\n",
       "      <td>0.0756</td>\n",
       "      <td>0.0100</td>\n",
       "      <td>0.0313</td>\n",
       "      <td>0.0425</td>\n",
       "      <td>0.0058</td>\n",
       "      <td>0.0116</td>\n",
       "      <td>0.0232</td>\n",
       "      <td>0.4581</td>\n",
       "      <td>0.0212</td>\n",
       "      <td>0.0085</td>\n",
       "      <td>0.0039</td>\n",
       "      <td>0.0170</td>\n",
       "      <td>0.2837</td>\n",
       "      <td>0.3157</td>\n",
       "      <td>0.1988</td>\n",
       "      <td>0.1112</td>\n",
       "      <td>0.0417</td>\n",
       "      <td>0.0367</td>\n",
       "      <td>0.0343</td>\n",
       "      <td>0.3782</td>\n",
       "      <td>0.0108</td>\n",
       "      <td>0.1085</td>\n",
       "      <td>0.0629</td>\n",
       "      <td>0.3049</td>\n",
       "      <td>0.0062</td>\n",
       "      <td>0.0216</td>\n",
       "      <td>0.3126</td>\n",
       "      <td>0.0008</td>\n",
       "      <td>0.3520</td>\n",
       "      <td>0.0216</td>\n",
       "      <td>0.0316</td>\n",
       "      <td>0.2451</td>\n",
       "      <td>0.0054</td>\n",
       "      <td>0.0162</td>\n",
       "      <td>0.0316</td>\n",
       "      <td>0.0602</td>\n",
       "      <td>0.0166</td>\n",
       "      <td>0.1582</td>\n",
       "      <td>0.1316</td>\n",
       "      <td>0.2254</td>\n",
       "    </tr>\n",
       "    <tr>\n",
       "      <th>std</th>\n",
       "      <td>0.9688</td>\n",
       "      <td>0.9992</td>\n",
       "      <td>1.0011</td>\n",
       "      <td>0.2657</td>\n",
       "      <td>0.4996</td>\n",
       "      <td>0.0278</td>\n",
       "      <td>0.0439</td>\n",
       "      <td>0.1480</td>\n",
       "      <td>0.3036</td>\n",
       "      <td>0.2669</td>\n",
       "      <td>0.2530</td>\n",
       "      <td>0.2261</td>\n",
       "      <td>0.1889</td>\n",
       "      <td>0.2645</td>\n",
       "      <td>0.0997</td>\n",
       "      <td>0.1741</td>\n",
       "      <td>0.2017</td>\n",
       "      <td>0.0759</td>\n",
       "      <td>0.1070</td>\n",
       "      <td>0.1504</td>\n",
       "      <td>0.4983</td>\n",
       "      <td>0.1442</td>\n",
       "      <td>0.0918</td>\n",
       "      <td>0.0620</td>\n",
       "      <td>0.1292</td>\n",
       "      <td>0.4509</td>\n",
       "      <td>0.4649</td>\n",
       "      <td>0.3991</td>\n",
       "      <td>0.3144</td>\n",
       "      <td>0.1999</td>\n",
       "      <td>0.1880</td>\n",
       "      <td>0.1822</td>\n",
       "      <td>0.4850</td>\n",
       "      <td>0.1034</td>\n",
       "      <td>0.3110</td>\n",
       "      <td>0.2428</td>\n",
       "      <td>0.4605</td>\n",
       "      <td>0.0784</td>\n",
       "      <td>0.1454</td>\n",
       "      <td>0.4637</td>\n",
       "      <td>0.0278</td>\n",
       "      <td>0.4777</td>\n",
       "      <td>0.1454</td>\n",
       "      <td>0.1751</td>\n",
       "      <td>0.4302</td>\n",
       "      <td>0.0733</td>\n",
       "      <td>0.1263</td>\n",
       "      <td>0.1751</td>\n",
       "      <td>0.2379</td>\n",
       "      <td>0.1278</td>\n",
       "      <td>0.3650</td>\n",
       "      <td>0.3381</td>\n",
       "      <td>0.4179</td>\n",
       "    </tr>\n",
       "    <tr>\n",
       "      <th>min</th>\n",
       "      <td>-1.1930</td>\n",
       "      <td>-0.8616</td>\n",
       "      <td>-1.1740</td>\n",
       "      <td>0.0000</td>\n",
       "      <td>0.0000</td>\n",
       "      <td>0.0000</td>\n",
       "      <td>0.0000</td>\n",
       "      <td>0.0000</td>\n",
       "      <td>0.0000</td>\n",
       "      <td>0.0000</td>\n",
       "      <td>0.0000</td>\n",
       "      <td>0.0000</td>\n",
       "      <td>0.0000</td>\n",
       "      <td>0.0000</td>\n",
       "      <td>0.0000</td>\n",
       "      <td>0.0000</td>\n",
       "      <td>0.0000</td>\n",
       "      <td>0.0000</td>\n",
       "      <td>0.0000</td>\n",
       "      <td>0.0000</td>\n",
       "      <td>0.0000</td>\n",
       "      <td>0.0000</td>\n",
       "      <td>0.0000</td>\n",
       "      <td>0.0000</td>\n",
       "      <td>0.0000</td>\n",
       "      <td>0.0000</td>\n",
       "      <td>0.0000</td>\n",
       "      <td>0.0000</td>\n",
       "      <td>0.0000</td>\n",
       "      <td>0.0000</td>\n",
       "      <td>0.0000</td>\n",
       "      <td>0.0000</td>\n",
       "      <td>0.0000</td>\n",
       "      <td>0.0000</td>\n",
       "      <td>0.0000</td>\n",
       "      <td>0.0000</td>\n",
       "      <td>0.0000</td>\n",
       "      <td>0.0000</td>\n",
       "      <td>0.0000</td>\n",
       "      <td>0.0000</td>\n",
       "      <td>0.0000</td>\n",
       "      <td>0.0000</td>\n",
       "      <td>0.0000</td>\n",
       "      <td>0.0000</td>\n",
       "      <td>0.0000</td>\n",
       "      <td>0.0000</td>\n",
       "      <td>0.0000</td>\n",
       "      <td>0.0000</td>\n",
       "      <td>0.0000</td>\n",
       "      <td>0.0000</td>\n",
       "      <td>0.0000</td>\n",
       "      <td>0.0000</td>\n",
       "      <td>0.0000</td>\n",
       "    </tr>\n",
       "    <tr>\n",
       "      <th>25%</th>\n",
       "      <td>-1.1930</td>\n",
       "      <td>-0.8616</td>\n",
       "      <td>-1.1740</td>\n",
       "      <td>0.0000</td>\n",
       "      <td>0.0000</td>\n",
       "      <td>0.0000</td>\n",
       "      <td>0.0000</td>\n",
       "      <td>0.0000</td>\n",
       "      <td>1.0000</td>\n",
       "      <td>0.0000</td>\n",
       "      <td>0.0000</td>\n",
       "      <td>0.0000</td>\n",
       "      <td>0.0000</td>\n",
       "      <td>0.0000</td>\n",
       "      <td>0.0000</td>\n",
       "      <td>0.0000</td>\n",
       "      <td>0.0000</td>\n",
       "      <td>0.0000</td>\n",
       "      <td>0.0000</td>\n",
       "      <td>0.0000</td>\n",
       "      <td>0.0000</td>\n",
       "      <td>0.0000</td>\n",
       "      <td>0.0000</td>\n",
       "      <td>0.0000</td>\n",
       "      <td>0.0000</td>\n",
       "      <td>0.0000</td>\n",
       "      <td>0.0000</td>\n",
       "      <td>0.0000</td>\n",
       "      <td>0.0000</td>\n",
       "      <td>0.0000</td>\n",
       "      <td>0.0000</td>\n",
       "      <td>0.0000</td>\n",
       "      <td>0.0000</td>\n",
       "      <td>0.0000</td>\n",
       "      <td>0.0000</td>\n",
       "      <td>0.0000</td>\n",
       "      <td>0.0000</td>\n",
       "      <td>0.0000</td>\n",
       "      <td>0.0000</td>\n",
       "      <td>0.0000</td>\n",
       "      <td>0.0000</td>\n",
       "      <td>0.0000</td>\n",
       "      <td>0.0000</td>\n",
       "      <td>0.0000</td>\n",
       "      <td>0.0000</td>\n",
       "      <td>0.0000</td>\n",
       "      <td>0.0000</td>\n",
       "      <td>0.0000</td>\n",
       "      <td>0.0000</td>\n",
       "      <td>0.0000</td>\n",
       "      <td>0.0000</td>\n",
       "      <td>0.0000</td>\n",
       "      <td>0.0000</td>\n",
       "    </tr>\n",
       "    <tr>\n",
       "      <th>50%</th>\n",
       "      <td>0.0736</td>\n",
       "      <td>-0.4304</td>\n",
       "      <td>-0.1129</td>\n",
       "      <td>0.0000</td>\n",
       "      <td>1.0000</td>\n",
       "      <td>0.0000</td>\n",
       "      <td>0.0000</td>\n",
       "      <td>0.0000</td>\n",
       "      <td>1.0000</td>\n",
       "      <td>0.0000</td>\n",
       "      <td>0.0000</td>\n",
       "      <td>0.0000</td>\n",
       "      <td>0.0000</td>\n",
       "      <td>0.0000</td>\n",
       "      <td>0.0000</td>\n",
       "      <td>0.0000</td>\n",
       "      <td>0.0000</td>\n",
       "      <td>0.0000</td>\n",
       "      <td>0.0000</td>\n",
       "      <td>0.0000</td>\n",
       "      <td>0.0000</td>\n",
       "      <td>0.0000</td>\n",
       "      <td>0.0000</td>\n",
       "      <td>0.0000</td>\n",
       "      <td>0.0000</td>\n",
       "      <td>0.0000</td>\n",
       "      <td>0.0000</td>\n",
       "      <td>0.0000</td>\n",
       "      <td>0.0000</td>\n",
       "      <td>0.0000</td>\n",
       "      <td>0.0000</td>\n",
       "      <td>0.0000</td>\n",
       "      <td>0.0000</td>\n",
       "      <td>0.0000</td>\n",
       "      <td>0.0000</td>\n",
       "      <td>0.0000</td>\n",
       "      <td>0.0000</td>\n",
       "      <td>0.0000</td>\n",
       "      <td>0.0000</td>\n",
       "      <td>0.0000</td>\n",
       "      <td>0.0000</td>\n",
       "      <td>0.0000</td>\n",
       "      <td>0.0000</td>\n",
       "      <td>0.0000</td>\n",
       "      <td>0.0000</td>\n",
       "      <td>0.0000</td>\n",
       "      <td>0.0000</td>\n",
       "      <td>0.0000</td>\n",
       "      <td>0.0000</td>\n",
       "      <td>0.0000</td>\n",
       "      <td>0.0000</td>\n",
       "      <td>0.0000</td>\n",
       "      <td>0.0000</td>\n",
       "    </tr>\n",
       "    <tr>\n",
       "      <th>75%</th>\n",
       "      <td>0.4958</td>\n",
       "      <td>0.7781</td>\n",
       "      <td>0.4177</td>\n",
       "      <td>0.0000</td>\n",
       "      <td>1.0000</td>\n",
       "      <td>0.0000</td>\n",
       "      <td>0.0000</td>\n",
       "      <td>0.0000</td>\n",
       "      <td>1.0000</td>\n",
       "      <td>0.0000</td>\n",
       "      <td>0.0000</td>\n",
       "      <td>0.0000</td>\n",
       "      <td>0.0000</td>\n",
       "      <td>0.0000</td>\n",
       "      <td>0.0000</td>\n",
       "      <td>0.0000</td>\n",
       "      <td>0.0000</td>\n",
       "      <td>0.0000</td>\n",
       "      <td>0.0000</td>\n",
       "      <td>0.0000</td>\n",
       "      <td>1.0000</td>\n",
       "      <td>0.0000</td>\n",
       "      <td>0.0000</td>\n",
       "      <td>0.0000</td>\n",
       "      <td>0.0000</td>\n",
       "      <td>1.0000</td>\n",
       "      <td>1.0000</td>\n",
       "      <td>0.0000</td>\n",
       "      <td>0.0000</td>\n",
       "      <td>0.0000</td>\n",
       "      <td>0.0000</td>\n",
       "      <td>0.0000</td>\n",
       "      <td>1.0000</td>\n",
       "      <td>0.0000</td>\n",
       "      <td>0.0000</td>\n",
       "      <td>0.0000</td>\n",
       "      <td>1.0000</td>\n",
       "      <td>0.0000</td>\n",
       "      <td>0.0000</td>\n",
       "      <td>1.0000</td>\n",
       "      <td>0.0000</td>\n",
       "      <td>1.0000</td>\n",
       "      <td>0.0000</td>\n",
       "      <td>0.0000</td>\n",
       "      <td>0.0000</td>\n",
       "      <td>0.0000</td>\n",
       "      <td>0.0000</td>\n",
       "      <td>0.0000</td>\n",
       "      <td>0.0000</td>\n",
       "      <td>0.0000</td>\n",
       "      <td>0.0000</td>\n",
       "      <td>0.0000</td>\n",
       "      <td>0.0000</td>\n",
       "    </tr>\n",
       "    <tr>\n",
       "      <th>max</th>\n",
       "      <td>2.6068</td>\n",
       "      <td>3.3431</td>\n",
       "      <td>3.6010</td>\n",
       "      <td>1.0000</td>\n",
       "      <td>1.0000</td>\n",
       "      <td>1.0000</td>\n",
       "      <td>1.0000</td>\n",
       "      <td>1.0000</td>\n",
       "      <td>1.0000</td>\n",
       "      <td>1.0000</td>\n",
       "      <td>1.0000</td>\n",
       "      <td>1.0000</td>\n",
       "      <td>1.0000</td>\n",
       "      <td>1.0000</td>\n",
       "      <td>1.0000</td>\n",
       "      <td>1.0000</td>\n",
       "      <td>1.0000</td>\n",
       "      <td>1.0000</td>\n",
       "      <td>1.0000</td>\n",
       "      <td>1.0000</td>\n",
       "      <td>1.0000</td>\n",
       "      <td>1.0000</td>\n",
       "      <td>1.0000</td>\n",
       "      <td>1.0000</td>\n",
       "      <td>1.0000</td>\n",
       "      <td>1.0000</td>\n",
       "      <td>1.0000</td>\n",
       "      <td>1.0000</td>\n",
       "      <td>1.0000</td>\n",
       "      <td>1.0000</td>\n",
       "      <td>1.0000</td>\n",
       "      <td>1.0000</td>\n",
       "      <td>1.0000</td>\n",
       "      <td>1.0000</td>\n",
       "      <td>1.0000</td>\n",
       "      <td>1.0000</td>\n",
       "      <td>1.0000</td>\n",
       "      <td>1.0000</td>\n",
       "      <td>1.0000</td>\n",
       "      <td>1.0000</td>\n",
       "      <td>1.0000</td>\n",
       "      <td>1.0000</td>\n",
       "      <td>1.0000</td>\n",
       "      <td>1.0000</td>\n",
       "      <td>1.0000</td>\n",
       "      <td>1.0000</td>\n",
       "      <td>1.0000</td>\n",
       "      <td>1.0000</td>\n",
       "      <td>1.0000</td>\n",
       "      <td>1.0000</td>\n",
       "      <td>1.0000</td>\n",
       "      <td>1.0000</td>\n",
       "      <td>1.0000</td>\n",
       "    </tr>\n",
       "  </tbody>\n",
       "</table>\n",
       "</div>"
      ],
      "text/plain": [
       "       TotalVisits  Total Time Spent on Website  Page Views Per Visit  Lead Origin_Import and Form  Lead Origin_Landing Page Submission  What is your current occupation_Housewife  What is your current occupation_Other  What is your current occupation_Student  What is your current occupation_Unemployed  What is your current occupation_Working Professional  City_Other Cities  City_Other Cities of Maharashtra  City_Other Metro Cities  City_Thane & Outskirts  City_Tier II Cities  Specialization_Banking, Investment And Insurance  Specialization_Business Administration  Specialization_E-Business  Specialization_E-COMMERCE  Specialization_International Business  Specialization_Management Specializations  Specialization_Media and Advertising  Specialization_Rural and Agribusiness  Specialization_Services Excellence  Specialization_Travel and Tourism  Lead Source_Direct Traffic  Lead Source_Google  Lead Source_Olark Chat  Lead Source_Organic Search  Last Activity_Converted to Lead  Last Activity_Email Bounced  Last Activity_Email Link Clicked  Last Activity_Email Opened  Last Activity_Form Submitted on Website  Last Activity_Olark Chat Conversation  Last Activity_Page Visited on Website  Last Activity_SMS Sent  Last Notable Activity_Email Bounced  Last Notable Activity_Email Link Clicked  Last Notable Activity_Email Opened  Last Notable Activity_Had a Phone Conversation  Last Notable Activity_Modified  Last Notable Activity_Olark Chat Conversation  Last Notable Activity_Page Visited on Website  Last Notable Activity_SMS Sent  Last Notable Activity_Unsubscribed  Tags_Busy  Tags_Closed by Horizzon  Tags_Interested in other courses  Tags_Lost to EINS  Tags_Other_Tags  Tags_Ringing  Tags_Will revert after reading the email\n",
       "count 2591.0000    2591.0000                    2591.0000             2591.0000                    2591.0000                            2591.0000                                  2591.0000                              2591.0000                                2591.0000                                   2591.0000                                             2591.0000          2591.0000                         2591.0000                2591.0000               2591.0000            2591.0000                                         2591.0000                               2591.0000                  2591.0000                  2591.0000                              2591.0000                                  2591.0000                             2591.0000                              2591.0000                           2591.0000                          2591.0000                   2591.0000           2591.0000               2591.0000                   2591.0000                        2591.0000                    2591.0000                         2591.0000                   2591.0000                                2591.0000                              2591.0000                              2591.0000               2591.0000                            2591.0000                                 2591.0000                           2591.0000                                       2591.0000                       2591.0000                                      2591.0000                                      2591.0000                       2591.0000                           2591.0000  2591.0000                2591.0000                         2591.0000          2591.0000        2591.0000     2591.0000                                \n",
       "mean  -0.0175      0.0096                       0.0028                0.0764                       0.5218                               0.0008                                     0.0019                                 0.0224                                   0.8973                                      0.0772                                                0.0687             0.0540                            0.0371                   0.0756                  0.0100               0.0313                                            0.0425                                  0.0058                     0.0116                     0.0232                                 0.4581                                     0.0212                                0.0085                                 0.0039                              0.0170                             0.2837                      0.3157              0.1988                  0.1112                      0.0417                           0.0367                       0.0343                            0.3782                      0.0108                                   0.1085                                 0.0629                                 0.3049                  0.0062                               0.0216                                    0.3126                              0.0008                                          0.3520                          0.0216                                         0.0316                                         0.2451                          0.0054                              0.0162     0.0316                   0.0602                            0.0166             0.1582           0.1316        0.2254                                   \n",
       "std   0.9688       0.9992                       1.0011                0.2657                       0.4996                               0.0278                                     0.0439                                 0.1480                                   0.3036                                      0.2669                                                0.2530             0.2261                            0.1889                   0.2645                  0.0997               0.1741                                            0.2017                                  0.0759                     0.1070                     0.1504                                 0.4983                                     0.1442                                0.0918                                 0.0620                              0.1292                             0.4509                      0.4649              0.3991                  0.3144                      0.1999                           0.1880                       0.1822                            0.4850                      0.1034                                   0.3110                                 0.2428                                 0.4605                  0.0784                               0.1454                                    0.4637                              0.0278                                          0.4777                          0.1454                                         0.1751                                         0.4302                          0.0733                              0.1263     0.1751                   0.2379                            0.1278             0.3650           0.3381        0.4179                                   \n",
       "min   -1.1930      -0.8616                      -1.1740               0.0000                       0.0000                               0.0000                                     0.0000                                 0.0000                                   0.0000                                      0.0000                                                0.0000             0.0000                            0.0000                   0.0000                  0.0000               0.0000                                            0.0000                                  0.0000                     0.0000                     0.0000                                 0.0000                                     0.0000                                0.0000                                 0.0000                              0.0000                             0.0000                      0.0000              0.0000                  0.0000                      0.0000                           0.0000                       0.0000                            0.0000                      0.0000                                   0.0000                                 0.0000                                 0.0000                  0.0000                               0.0000                                    0.0000                              0.0000                                          0.0000                          0.0000                                         0.0000                                         0.0000                          0.0000                              0.0000     0.0000                   0.0000                            0.0000             0.0000           0.0000        0.0000                                   \n",
       "25%   -1.1930      -0.8616                      -1.1740               0.0000                       0.0000                               0.0000                                     0.0000                                 0.0000                                   1.0000                                      0.0000                                                0.0000             0.0000                            0.0000                   0.0000                  0.0000               0.0000                                            0.0000                                  0.0000                     0.0000                     0.0000                                 0.0000                                     0.0000                                0.0000                                 0.0000                              0.0000                             0.0000                      0.0000              0.0000                  0.0000                      0.0000                           0.0000                       0.0000                            0.0000                      0.0000                                   0.0000                                 0.0000                                 0.0000                  0.0000                               0.0000                                    0.0000                              0.0000                                          0.0000                          0.0000                                         0.0000                                         0.0000                          0.0000                              0.0000     0.0000                   0.0000                            0.0000             0.0000           0.0000        0.0000                                   \n",
       "50%   0.0736       -0.4304                      -0.1129               0.0000                       1.0000                               0.0000                                     0.0000                                 0.0000                                   1.0000                                      0.0000                                                0.0000             0.0000                            0.0000                   0.0000                  0.0000               0.0000                                            0.0000                                  0.0000                     0.0000                     0.0000                                 0.0000                                     0.0000                                0.0000                                 0.0000                              0.0000                             0.0000                      0.0000              0.0000                  0.0000                      0.0000                           0.0000                       0.0000                            0.0000                      0.0000                                   0.0000                                 0.0000                                 0.0000                  0.0000                               0.0000                                    0.0000                              0.0000                                          0.0000                          0.0000                                         0.0000                                         0.0000                          0.0000                              0.0000     0.0000                   0.0000                            0.0000             0.0000           0.0000        0.0000                                   \n",
       "75%   0.4958       0.7781                       0.4177                0.0000                       1.0000                               0.0000                                     0.0000                                 0.0000                                   1.0000                                      0.0000                                                0.0000             0.0000                            0.0000                   0.0000                  0.0000               0.0000                                            0.0000                                  0.0000                     0.0000                     0.0000                                 1.0000                                     0.0000                                0.0000                                 0.0000                              0.0000                             1.0000                      1.0000              0.0000                  0.0000                      0.0000                           0.0000                       0.0000                            1.0000                      0.0000                                   0.0000                                 0.0000                                 1.0000                  0.0000                               0.0000                                    1.0000                              0.0000                                          1.0000                          0.0000                                         0.0000                                         0.0000                          0.0000                              0.0000     0.0000                   0.0000                            0.0000             0.0000           0.0000        0.0000                                   \n",
       "max   2.6068       3.3431                       3.6010                1.0000                       1.0000                               1.0000                                     1.0000                                 1.0000                                   1.0000                                      1.0000                                                1.0000             1.0000                            1.0000                   1.0000                  1.0000               1.0000                                            1.0000                                  1.0000                     1.0000                     1.0000                                 1.0000                                     1.0000                                1.0000                                 1.0000                              1.0000                             1.0000                      1.0000              1.0000                  1.0000                      1.0000                           1.0000                       1.0000                            1.0000                      1.0000                                   1.0000                                 1.0000                                 1.0000                  1.0000                               1.0000                                    1.0000                              1.0000                                          1.0000                          1.0000                                         1.0000                                         1.0000                          1.0000                              1.0000     1.0000                   1.0000                            1.0000             1.0000           1.0000        1.0000                                   "
      ]
     },
     "execution_count": 112,
     "metadata": {},
     "output_type": "execute_result"
    }
   ],
   "source": [
    "# Scaling test dataset\n",
    "X_test[num_cols] = scaler.transform(X_test[num_cols])\n",
    "X_test.describe()"
   ]
  },
  {
   "cell_type": "code",
   "execution_count": 113,
   "metadata": {
    "colab": {
     "base_uri": "https://localhost:8080/",
     "height": 284
    },
    "id": "q9evVd87Ambi",
    "outputId": "1fbe441a-4f00-4e35-af0a-6a546d24bd3b"
   },
   "outputs": [
    {
     "data": {
      "text/html": [
       "<div>\n",
       "<style scoped>\n",
       "    .dataframe tbody tr th:only-of-type {\n",
       "        vertical-align: middle;\n",
       "    }\n",
       "\n",
       "    .dataframe tbody tr th {\n",
       "        vertical-align: top;\n",
       "    }\n",
       "\n",
       "    .dataframe thead th {\n",
       "        text-align: right;\n",
       "    }\n",
       "</style>\n",
       "<table border=\"1\" class=\"dataframe\">\n",
       "  <thead>\n",
       "    <tr style=\"text-align: right;\">\n",
       "      <th></th>\n",
       "      <th>Total Time Spent on Website</th>\n",
       "      <th>Lead Origin_Import and Form</th>\n",
       "      <th>Lead Origin_Landing Page Submission</th>\n",
       "      <th>What is your current occupation_Working Professional</th>\n",
       "      <th>Lead Source_Olark Chat</th>\n",
       "      <th>Last Activity_SMS Sent</th>\n",
       "      <th>Last Notable Activity_Modified</th>\n",
       "      <th>Last Notable Activity_Olark Chat Conversation</th>\n",
       "      <th>Tags_Busy</th>\n",
       "      <th>Tags_Closed by Horizzon</th>\n",
       "      <th>Tags_Interested in other courses</th>\n",
       "      <th>Tags_Lost to EINS</th>\n",
       "      <th>Tags_Other_Tags</th>\n",
       "      <th>Tags_Ringing</th>\n",
       "      <th>Tags_Will revert after reading the email</th>\n",
       "    </tr>\n",
       "  </thead>\n",
       "  <tbody>\n",
       "    <tr>\n",
       "      <th>7033</th>\n",
       "      <td>-0.8616</td>\n",
       "      <td>1</td>\n",
       "      <td>0</td>\n",
       "      <td>0</td>\n",
       "      <td>0</td>\n",
       "      <td>1</td>\n",
       "      <td>0</td>\n",
       "      <td>0</td>\n",
       "      <td>0</td>\n",
       "      <td>0</td>\n",
       "      <td>0</td>\n",
       "      <td>0</td>\n",
       "      <td>0</td>\n",
       "      <td>0</td>\n",
       "      <td>0</td>\n",
       "    </tr>\n",
       "    <tr>\n",
       "      <th>7247</th>\n",
       "      <td>-0.6284</td>\n",
       "      <td>0</td>\n",
       "      <td>1</td>\n",
       "      <td>0</td>\n",
       "      <td>0</td>\n",
       "      <td>0</td>\n",
       "      <td>1</td>\n",
       "      <td>0</td>\n",
       "      <td>0</td>\n",
       "      <td>0</td>\n",
       "      <td>0</td>\n",
       "      <td>0</td>\n",
       "      <td>0</td>\n",
       "      <td>0</td>\n",
       "      <td>0</td>\n",
       "    </tr>\n",
       "    <tr>\n",
       "      <th>2305</th>\n",
       "      <td>-0.2620</td>\n",
       "      <td>0</td>\n",
       "      <td>1</td>\n",
       "      <td>0</td>\n",
       "      <td>0</td>\n",
       "      <td>1</td>\n",
       "      <td>0</td>\n",
       "      <td>0</td>\n",
       "      <td>0</td>\n",
       "      <td>0</td>\n",
       "      <td>0</td>\n",
       "      <td>0</td>\n",
       "      <td>0</td>\n",
       "      <td>0</td>\n",
       "      <td>1</td>\n",
       "    </tr>\n",
       "    <tr>\n",
       "      <th>3394</th>\n",
       "      <td>-0.1769</td>\n",
       "      <td>0</td>\n",
       "      <td>0</td>\n",
       "      <td>0</td>\n",
       "      <td>1</td>\n",
       "      <td>0</td>\n",
       "      <td>0</td>\n",
       "      <td>0</td>\n",
       "      <td>0</td>\n",
       "      <td>0</td>\n",
       "      <td>1</td>\n",
       "      <td>0</td>\n",
       "      <td>0</td>\n",
       "      <td>0</td>\n",
       "      <td>0</td>\n",
       "    </tr>\n",
       "    <tr>\n",
       "      <th>4712</th>\n",
       "      <td>-0.8320</td>\n",
       "      <td>0</td>\n",
       "      <td>0</td>\n",
       "      <td>0</td>\n",
       "      <td>0</td>\n",
       "      <td>0</td>\n",
       "      <td>0</td>\n",
       "      <td>0</td>\n",
       "      <td>0</td>\n",
       "      <td>0</td>\n",
       "      <td>0</td>\n",
       "      <td>0</td>\n",
       "      <td>0</td>\n",
       "      <td>1</td>\n",
       "      <td>0</td>\n",
       "    </tr>\n",
       "  </tbody>\n",
       "</table>\n",
       "</div>"
      ],
      "text/plain": [
       "      Total Time Spent on Website  Lead Origin_Import and Form  Lead Origin_Landing Page Submission  What is your current occupation_Working Professional  Lead Source_Olark Chat  Last Activity_SMS Sent  Last Notable Activity_Modified  Last Notable Activity_Olark Chat Conversation  Tags_Busy  Tags_Closed by Horizzon  Tags_Interested in other courses  Tags_Lost to EINS  Tags_Other_Tags  Tags_Ringing  Tags_Will revert after reading the email\n",
       "7033 -0.8616                       1                            0                                    0                                                     0                       1                       0                               0                                              0          0                        0                                 0                  0                0             0                                       \n",
       "7247 -0.6284                       0                            1                                    0                                                     0                       0                       1                               0                                              0          0                        0                                 0                  0                0             0                                       \n",
       "2305 -0.2620                       0                            1                                    0                                                     0                       1                       0                               0                                              0          0                        0                                 0                  0                0             1                                       \n",
       "3394 -0.1769                       0                            0                                    0                                                     1                       0                       0                               0                                              0          0                        1                                 0                  0                0             0                                       \n",
       "4712 -0.8320                       0                            0                                    0                                                     0                       0                       0                               0                                              0          0                        0                                 0                  0                1             0                                       "
      ]
     },
     "execution_count": 113,
     "metadata": {},
     "output_type": "execute_result"
    }
   ],
   "source": [
    "# Assigning values to X_test\n",
    "X_test = X_test[col]\n",
    "X_test.head()"
   ]
  },
  {
   "cell_type": "code",
   "execution_count": 114,
   "metadata": {
    "colab": {
     "base_uri": "https://localhost:8080/",
     "height": 212
    },
    "id": "BESSQ5FsAmbl",
    "outputId": "ab5b36e2-cb91-4d0f-f8c3-f48f52d909ca"
   },
   "outputs": [
    {
     "data": {
      "text/plain": [
       "7033   0.9332\n",
       "7247   0.0121\n",
       "2305   0.9839\n",
       "3394   0.0610\n",
       "4712   0.0038\n",
       "4569   0.9992\n",
       "2122   0.9992\n",
       "5356   0.0775\n",
       "1805   0.9853\n",
       "8017   0.0066\n",
       "dtype: float64"
      ]
     },
     "execution_count": 114,
     "metadata": {},
     "output_type": "execute_result"
    }
   ],
   "source": [
    "# Running trained model on test set\n",
    "X_test_sm = sm.add_constant(X_test)\n",
    "y_test_pred = res.predict(X_test_sm)\n",
    "y_test_pred[:10]"
   ]
  },
  {
   "cell_type": "code",
   "execution_count": 115,
   "metadata": {
    "colab": {
     "base_uri": "https://localhost:8080/",
     "height": 197
    },
    "id": "_nU9UbLaAmbm",
    "outputId": "29c9745c-7506-44e9-e744-d47682a9773f"
   },
   "outputs": [
    {
     "data": {
      "text/html": [
       "<div>\n",
       "<style scoped>\n",
       "    .dataframe tbody tr th:only-of-type {\n",
       "        vertical-align: middle;\n",
       "    }\n",
       "\n",
       "    .dataframe tbody tr th {\n",
       "        vertical-align: top;\n",
       "    }\n",
       "\n",
       "    .dataframe thead th {\n",
       "        text-align: right;\n",
       "    }\n",
       "</style>\n",
       "<table border=\"1\" class=\"dataframe\">\n",
       "  <thead>\n",
       "    <tr style=\"text-align: right;\">\n",
       "      <th></th>\n",
       "      <th>0</th>\n",
       "    </tr>\n",
       "  </thead>\n",
       "  <tbody>\n",
       "    <tr>\n",
       "      <th>7033</th>\n",
       "      <td>0.9332</td>\n",
       "    </tr>\n",
       "    <tr>\n",
       "      <th>7247</th>\n",
       "      <td>0.0121</td>\n",
       "    </tr>\n",
       "    <tr>\n",
       "      <th>2305</th>\n",
       "      <td>0.9839</td>\n",
       "    </tr>\n",
       "    <tr>\n",
       "      <th>3394</th>\n",
       "      <td>0.0610</td>\n",
       "    </tr>\n",
       "    <tr>\n",
       "      <th>4712</th>\n",
       "      <td>0.0038</td>\n",
       "    </tr>\n",
       "  </tbody>\n",
       "</table>\n",
       "</div>"
      ],
      "text/plain": [
       "          0\n",
       "7033 0.9332\n",
       "7247 0.0121\n",
       "2305 0.9839\n",
       "3394 0.0610\n",
       "4712 0.0038"
      ]
     },
     "execution_count": 115,
     "metadata": {},
     "output_type": "execute_result"
    }
   ],
   "source": [
    "# Converting y_test_pred array into a dataframe\n",
    "y_predicted = pd.DataFrame(y_test_pred)\n",
    "y_predicted.head()"
   ]
  },
  {
   "cell_type": "code",
   "execution_count": 116,
   "metadata": {
    "id": "HzlEtExnAmbo"
   },
   "outputs": [],
   "source": [
    "# Converting y_test into dataframe\n",
    "y_test_df = pd.DataFrame(y_test)"
   ]
  },
  {
   "cell_type": "code",
   "execution_count": 117,
   "metadata": {
    "id": "mZTw-HYyAmbp"
   },
   "outputs": [],
   "source": [
    "# Putting Prospect ID to index\n",
    "y_test_df['Prospect ID'] = y_test_df.index"
   ]
  },
  {
   "cell_type": "code",
   "execution_count": 118,
   "metadata": {
    "id": "kPxC-zurAmbu"
   },
   "outputs": [],
   "source": [
    "# Removing index to append both dataframes\n",
    "y_predicted.reset_index(drop=True, inplace=True)\n",
    "y_test_df.reset_index(drop=True, inplace=True)"
   ]
  },
  {
   "cell_type": "code",
   "execution_count": 119,
   "metadata": {
    "colab": {
     "base_uri": "https://localhost:8080/",
     "height": 197
    },
    "id": "EJlTtoROAmbv",
    "outputId": "9fc86aa2-dbe9-4f3a-e656-a4958c7865c7"
   },
   "outputs": [
    {
     "data": {
      "text/html": [
       "<div>\n",
       "<style scoped>\n",
       "    .dataframe tbody tr th:only-of-type {\n",
       "        vertical-align: middle;\n",
       "    }\n",
       "\n",
       "    .dataframe tbody tr th {\n",
       "        vertical-align: top;\n",
       "    }\n",
       "\n",
       "    .dataframe thead th {\n",
       "        text-align: right;\n",
       "    }\n",
       "</style>\n",
       "<table border=\"1\" class=\"dataframe\">\n",
       "  <thead>\n",
       "    <tr style=\"text-align: right;\">\n",
       "      <th></th>\n",
       "      <th>Converted</th>\n",
       "      <th>Prospect ID</th>\n",
       "      <th>0</th>\n",
       "    </tr>\n",
       "  </thead>\n",
       "  <tbody>\n",
       "    <tr>\n",
       "      <th>0</th>\n",
       "      <td>1</td>\n",
       "      <td>7033</td>\n",
       "      <td>0.9332</td>\n",
       "    </tr>\n",
       "    <tr>\n",
       "      <th>1</th>\n",
       "      <td>0</td>\n",
       "      <td>7247</td>\n",
       "      <td>0.0121</td>\n",
       "    </tr>\n",
       "    <tr>\n",
       "      <th>2</th>\n",
       "      <td>1</td>\n",
       "      <td>2305</td>\n",
       "      <td>0.9839</td>\n",
       "    </tr>\n",
       "    <tr>\n",
       "      <th>3</th>\n",
       "      <td>0</td>\n",
       "      <td>3394</td>\n",
       "      <td>0.0610</td>\n",
       "    </tr>\n",
       "    <tr>\n",
       "      <th>4</th>\n",
       "      <td>0</td>\n",
       "      <td>4712</td>\n",
       "      <td>0.0038</td>\n",
       "    </tr>\n",
       "  </tbody>\n",
       "</table>\n",
       "</div>"
      ],
      "text/plain": [
       "   Converted  Prospect ID      0\n",
       "0  1          7033        0.9332\n",
       "1  0          7247        0.0121\n",
       "2  1          2305        0.9839\n",
       "3  0          3394        0.0610\n",
       "4  0          4712        0.0038"
      ]
     },
     "execution_count": 119,
     "metadata": {},
     "output_type": "execute_result"
    }
   ],
   "source": [
    "# Appending y_test_df and y_pred_1\n",
    "y_pred_final = pd.concat([y_test_df, y_predicted], axis=1)\n",
    "y_pred_final.head()"
   ]
  },
  {
   "cell_type": "code",
   "execution_count": 120,
   "metadata": {
    "colab": {
     "base_uri": "https://localhost:8080/",
     "height": 197
    },
    "id": "jnW1Vb9bAmbz",
    "outputId": "928d795d-2097-426b-d7a2-073680c75f06"
   },
   "outputs": [
    {
     "data": {
      "text/html": [
       "<div>\n",
       "<style scoped>\n",
       "    .dataframe tbody tr th:only-of-type {\n",
       "        vertical-align: middle;\n",
       "    }\n",
       "\n",
       "    .dataframe tbody tr th {\n",
       "        vertical-align: top;\n",
       "    }\n",
       "\n",
       "    .dataframe thead th {\n",
       "        text-align: right;\n",
       "    }\n",
       "</style>\n",
       "<table border=\"1\" class=\"dataframe\">\n",
       "  <thead>\n",
       "    <tr style=\"text-align: right;\">\n",
       "      <th></th>\n",
       "      <th>Converted</th>\n",
       "      <th>Prospect ID</th>\n",
       "      <th>Converted prob</th>\n",
       "    </tr>\n",
       "  </thead>\n",
       "  <tbody>\n",
       "    <tr>\n",
       "      <th>0</th>\n",
       "      <td>1</td>\n",
       "      <td>7033</td>\n",
       "      <td>0.9332</td>\n",
       "    </tr>\n",
       "    <tr>\n",
       "      <th>1</th>\n",
       "      <td>0</td>\n",
       "      <td>7247</td>\n",
       "      <td>0.0121</td>\n",
       "    </tr>\n",
       "    <tr>\n",
       "      <th>2</th>\n",
       "      <td>1</td>\n",
       "      <td>2305</td>\n",
       "      <td>0.9839</td>\n",
       "    </tr>\n",
       "    <tr>\n",
       "      <th>3</th>\n",
       "      <td>0</td>\n",
       "      <td>3394</td>\n",
       "      <td>0.0610</td>\n",
       "    </tr>\n",
       "    <tr>\n",
       "      <th>4</th>\n",
       "      <td>0</td>\n",
       "      <td>4712</td>\n",
       "      <td>0.0038</td>\n",
       "    </tr>\n",
       "  </tbody>\n",
       "</table>\n",
       "</div>"
      ],
      "text/plain": [
       "   Converted  Prospect ID  Converted prob\n",
       "0  1          7033        0.9332         \n",
       "1  0          7247        0.0121         \n",
       "2  1          2305        0.9839         \n",
       "3  0          3394        0.0610         \n",
       "4  0          4712        0.0038         "
      ]
     },
     "execution_count": 120,
     "metadata": {},
     "output_type": "execute_result"
    }
   ],
   "source": [
    "# Renaming the column name\n",
    "y_pred_final= y_pred_final.rename(columns={ 0 : 'Converted prob'})\n",
    "y_pred_final.head()"
   ]
  },
  {
   "cell_type": "code",
   "execution_count": 121,
   "metadata": {
    "colab": {
     "base_uri": "https://localhost:8080/",
     "height": 197
    },
    "id": "fLmiaL-cAmb0",
    "outputId": "598c0a89-d540-47b6-d466-5c9920e322d6"
   },
   "outputs": [
    {
     "data": {
      "text/html": [
       "<div>\n",
       "<style scoped>\n",
       "    .dataframe tbody tr th:only-of-type {\n",
       "        vertical-align: middle;\n",
       "    }\n",
       "\n",
       "    .dataframe tbody tr th {\n",
       "        vertical-align: top;\n",
       "    }\n",
       "\n",
       "    .dataframe thead th {\n",
       "        text-align: right;\n",
       "    }\n",
       "</style>\n",
       "<table border=\"1\" class=\"dataframe\">\n",
       "  <thead>\n",
       "    <tr style=\"text-align: right;\">\n",
       "      <th></th>\n",
       "      <th>Converted</th>\n",
       "      <th>Prospect ID</th>\n",
       "      <th>Converted prob</th>\n",
       "      <th>Lead Score</th>\n",
       "    </tr>\n",
       "  </thead>\n",
       "  <tbody>\n",
       "    <tr>\n",
       "      <th>0</th>\n",
       "      <td>1</td>\n",
       "      <td>7033</td>\n",
       "      <td>0.9332</td>\n",
       "      <td>93</td>\n",
       "    </tr>\n",
       "    <tr>\n",
       "      <th>1</th>\n",
       "      <td>0</td>\n",
       "      <td>7247</td>\n",
       "      <td>0.0121</td>\n",
       "      <td>1</td>\n",
       "    </tr>\n",
       "    <tr>\n",
       "      <th>2</th>\n",
       "      <td>1</td>\n",
       "      <td>2305</td>\n",
       "      <td>0.9839</td>\n",
       "      <td>98</td>\n",
       "    </tr>\n",
       "    <tr>\n",
       "      <th>3</th>\n",
       "      <td>0</td>\n",
       "      <td>3394</td>\n",
       "      <td>0.0610</td>\n",
       "      <td>6</td>\n",
       "    </tr>\n",
       "    <tr>\n",
       "      <th>4</th>\n",
       "      <td>0</td>\n",
       "      <td>4712</td>\n",
       "      <td>0.0038</td>\n",
       "      <td>0</td>\n",
       "    </tr>\n",
       "  </tbody>\n",
       "</table>\n",
       "</div>"
      ],
      "text/plain": [
       "   Converted  Prospect ID  Converted prob  Lead Score\n",
       "0  1          7033        0.9332           93        \n",
       "1  0          7247        0.0121           1         \n",
       "2  1          2305        0.9839           98        \n",
       "3  0          3394        0.0610           6         \n",
       "4  0          4712        0.0038           0         "
      ]
     },
     "execution_count": 121,
     "metadata": {},
     "output_type": "execute_result"
    }
   ],
   "source": [
    "# Adding Lead score column\n",
    "y_pred_final['Lead Score'] = y_pred_final['Converted prob'].map( lambda x: round(x*100))\n",
    "y_pred_final.head()"
   ]
  },
  {
   "cell_type": "code",
   "execution_count": 122,
   "metadata": {
    "colab": {
     "base_uri": "https://localhost:8080/",
     "height": 197
    },
    "id": "VQkHqinBAmb2",
    "outputId": "91ebb902-3975-49c6-ae24-29e38d3a0064"
   },
   "outputs": [
    {
     "data": {
      "text/html": [
       "<div>\n",
       "<style scoped>\n",
       "    .dataframe tbody tr th:only-of-type {\n",
       "        vertical-align: middle;\n",
       "    }\n",
       "\n",
       "    .dataframe tbody tr th {\n",
       "        vertical-align: top;\n",
       "    }\n",
       "\n",
       "    .dataframe thead th {\n",
       "        text-align: right;\n",
       "    }\n",
       "</style>\n",
       "<table border=\"1\" class=\"dataframe\">\n",
       "  <thead>\n",
       "    <tr style=\"text-align: right;\">\n",
       "      <th></th>\n",
       "      <th>Prospect ID</th>\n",
       "      <th>Converted</th>\n",
       "      <th>Converted prob</th>\n",
       "      <th>Lead Score</th>\n",
       "      <th>Final Predicted</th>\n",
       "    </tr>\n",
       "  </thead>\n",
       "  <tbody>\n",
       "    <tr>\n",
       "      <th>0</th>\n",
       "      <td>7033</td>\n",
       "      <td>1</td>\n",
       "      <td>0.9332</td>\n",
       "      <td>93</td>\n",
       "      <td>1</td>\n",
       "    </tr>\n",
       "    <tr>\n",
       "      <th>1</th>\n",
       "      <td>7247</td>\n",
       "      <td>0</td>\n",
       "      <td>0.0121</td>\n",
       "      <td>1</td>\n",
       "      <td>0</td>\n",
       "    </tr>\n",
       "    <tr>\n",
       "      <th>2</th>\n",
       "      <td>2305</td>\n",
       "      <td>1</td>\n",
       "      <td>0.9839</td>\n",
       "      <td>98</td>\n",
       "      <td>1</td>\n",
       "    </tr>\n",
       "    <tr>\n",
       "      <th>3</th>\n",
       "      <td>3394</td>\n",
       "      <td>0</td>\n",
       "      <td>0.0610</td>\n",
       "      <td>6</td>\n",
       "      <td>0</td>\n",
       "    </tr>\n",
       "    <tr>\n",
       "      <th>4</th>\n",
       "      <td>4712</td>\n",
       "      <td>0</td>\n",
       "      <td>0.0038</td>\n",
       "      <td>0</td>\n",
       "      <td>0</td>\n",
       "    </tr>\n",
       "  </tbody>\n",
       "</table>\n",
       "</div>"
      ],
      "text/plain": [
       "   Prospect ID  Converted  Converted prob  Lead Score  Final Predicted\n",
       "0  7033         1         0.9332           93          1              \n",
       "1  7247         0         0.0121           1           0              \n",
       "2  2305         1         0.9839           98          1              \n",
       "3  3394         0         0.0610           6           0              \n",
       "4  4712         0         0.0038           0           0              "
      ]
     },
     "execution_count": 122,
     "metadata": {},
     "output_type": "execute_result"
    }
   ],
   "source": [
    "# Final predicted values\n",
    "y_pred_final = y_pred_final[['Prospect ID','Converted','Converted prob', 'Lead Score']]\n",
    "y_pred_final['Final Predicted'] = y_pred_final['Converted prob'].map(lambda x: 1 if x > 0.3 else 0)\n",
    "y_pred_final.head()"
   ]
  },
  {
   "cell_type": "code",
   "execution_count": 123,
   "metadata": {
    "colab": {
     "base_uri": "https://localhost:8080/",
     "height": 34
    },
    "id": "Uv7X8gjMAmb3",
    "outputId": "c073df30-901b-439c-ac59-00f483f87660"
   },
   "outputs": [
    {
     "data": {
      "text/plain": [
       "0.9235816287147819"
      ]
     },
     "execution_count": 123,
     "metadata": {},
     "output_type": "execute_result"
    }
   ],
   "source": [
    "# Overall accuracy of test set\n",
    "metrics.accuracy_score(y_pred_final.Converted, y_pred_final['Final Predicted'])"
   ]
  },
  {
   "cell_type": "code",
   "execution_count": 124,
   "metadata": {
    "colab": {
     "base_uri": "https://localhost:8080/",
     "height": 52
    },
    "id": "_3Y4_CUzAmb5",
    "outputId": "97dc78a9-2a58-402b-8ea7-b54815165faf"
   },
   "outputs": [
    {
     "data": {
      "text/plain": [
       "array([[1507,  117],\n",
       "       [  81,  886]])"
      ]
     },
     "execution_count": 124,
     "metadata": {},
     "output_type": "execute_result"
    }
   ],
   "source": [
    "# Confusion metrics\n",
    "confusion_test = metrics.confusion_matrix(y_pred_final.Converted, y_pred_final['Final Predicted'])\n",
    "confusion_test"
   ]
  },
  {
   "cell_type": "code",
   "execution_count": 125,
   "metadata": {
    "id": "VO9tfdFoAmb7"
   },
   "outputs": [],
   "source": [
    "# Assigning values to TP, TN, FP and FN\n",
    "TP = confusion_test[1,1] # true positive \n",
    "TN = confusion_test[0,0] # true negatives\n",
    "FP = confusion_test[0,1] # false positives\n",
    "FN = confusion_test[1,0] # false negatives"
   ]
  },
  {
   "cell_type": "code",
   "execution_count": 126,
   "metadata": {
    "colab": {
     "base_uri": "https://localhost:8080/",
     "height": 34
    },
    "id": "Dt3ts9ZrAmb8",
    "outputId": "e1f5076a-af26-4fef-f57d-d2216c8ba66f"
   },
   "outputs": [
    {
     "data": {
      "text/plain": [
       "0.9162357807652534"
      ]
     },
     "execution_count": 126,
     "metadata": {},
     "output_type": "execute_result"
    }
   ],
   "source": [
    "# Sensitivity of test set\n",
    "TP / float(TP+FN)"
   ]
  },
  {
   "cell_type": "code",
   "execution_count": 127,
   "metadata": {
    "colab": {
     "base_uri": "https://localhost:8080/",
     "height": 34
    },
    "id": "lRvWToSzAmb-",
    "outputId": "0a88e055-1e72-4bf3-d28b-942a79d32076"
   },
   "outputs": [
    {
     "data": {
      "text/plain": [
       "0.9279556650246306"
      ]
     },
     "execution_count": 127,
     "metadata": {},
     "output_type": "execute_result"
    }
   ],
   "source": [
    "# Specificity of test set\n",
    "TN / float(TN+FP)"
   ]
  },
  {
   "cell_type": "code",
   "execution_count": 128,
   "metadata": {
    "colab": {
     "base_uri": "https://localhost:8080/",
     "height": 34
    },
    "id": "DZK7iEryAmcA",
    "outputId": "b73b24b3-26a4-4eed-ee6a-4abf8b5167cf",
    "scrolled": true
   },
   "outputs": [
    {
     "data": {
      "text/plain": [
       "0.899492385786802"
      ]
     },
     "execution_count": 128,
     "metadata": {},
     "output_type": "execute_result"
    }
   ],
   "source": [
    "# F1 score\n",
    "f1_score(y_pred_final.Converted, y_pred_final['Final Predicted'])"
   ]
  },
  {
   "cell_type": "code",
   "execution_count": 129,
   "metadata": {},
   "outputs": [
    {
     "data": {
      "text/plain": [
       "0.8833499501495513"
      ]
     },
     "execution_count": 129,
     "metadata": {},
     "output_type": "execute_result"
    }
   ],
   "source": [
    "# Precision Score\n",
    "precision_score(y_pred_final.Converted , y_pred_final['Final Predicted'])"
   ]
  },
  {
   "cell_type": "code",
   "execution_count": 130,
   "metadata": {
    "colab": {
     "base_uri": "https://localhost:8080/",
     "height": 34
    },
    "id": "3NACSOhYAmcE",
    "outputId": "cca8d790-cfcb-4e22-c8f0-c4a22e752be0"
   },
   "outputs": [
    {
     "data": {
      "text/plain": [
       "0.9162357807652534"
      ]
     },
     "execution_count": 130,
     "metadata": {},
     "output_type": "execute_result"
    }
   ],
   "source": [
    "# Recall score\n",
    "recall_score(y_pred_final.Converted , y_pred_final['Final Predicted'])\n"
   ]
  },
  {
   "cell_type": "markdown",
   "metadata": {
    "id": "j_CMee16AmcG"
   },
   "source": [
    "Observation: We have the following values for the Test Data:\n",
    "        \n",
    "Accuracy: 92.35%\n",
    "    \n",
    "Sensitivity: 91.62%\n",
    "\n",
    "Specificity:92.79%\n",
    "\n",
    "F1 score: 89.94%\n",
    "\n",
    "Precision : 88.33%\n",
    "    \n",
    "Recall : 91.62%"
   ]
  },
  {
   "cell_type": "markdown",
   "metadata": {
    "id": "xyGMEiooAmcH"
   },
   "source": [
    "# Final Observation:"
   ]
  },
  {
   "cell_type": "markdown",
   "metadata": {
    "id": "AkirdTIuAmcH"
   },
   "source": [
    "### Let us compare the values obtained for Train & Test set:"
   ]
  },
  {
   "cell_type": "markdown",
   "metadata": {
    "id": "7UwPFx2QAmcI"
   },
   "source": [
    "### Train Data:"
   ]
  },
  {
   "cell_type": "markdown",
   "metadata": {
    "id": "VnksKax0AmcM"
   },
   "source": [
    "Accuracy : 92.35%\n",
    "\n",
    "Sensitivity : 91.70%\n",
    "\n",
    "Specificity : 92.66%\n",
    "\n",
    "F1 score : 90%"
   ]
  },
  {
   "cell_type": "markdown",
   "metadata": {
    "id": "Xqxbowf8AmcM"
   },
   "source": [
    "### Test Data:"
   ]
  },
  {
   "cell_type": "markdown",
   "metadata": {
    "id": "qsY0yloyAmcM"
   },
   "source": [
    "Accuracy: 92.35%\n",
    "\n",
    "Sensitivity: 91.62%\n",
    "\n",
    "Specificity:92.79%\n",
    "\n",
    "F1 score: 89.94%"
   ]
  },
  {
   "cell_type": "markdown",
   "metadata": {
    "id": "IcgldorYAmcN"
   },
   "source": [
    "The Model seems to predict the Conversion Rate very well and we are able to give the CEO confidence in making good calls based on this model"
   ]
  }
 ],
 "metadata": {
  "colab": {
   "name": "lead score final TO SUBMIT.ipynb",
   "provenance": []
  },
  "kernelspec": {
   "display_name": "Python 3",
   "language": "python",
   "name": "python3"
  },
  "language_info": {
   "codemirror_mode": {
    "name": "ipython",
    "version": 3
   },
   "file_extension": ".py",
   "mimetype": "text/x-python",
   "name": "python",
   "nbconvert_exporter": "python",
   "pygments_lexer": "ipython3",
   "version": "3.6.9"
  }
 },
 "nbformat": 4,
 "nbformat_minor": 1
}
